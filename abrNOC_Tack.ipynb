{
 "cells": [
  {
   "cell_type": "code",
   "execution_count": 2,
   "metadata": {},
   "outputs": [],
   "source": [
    "import pandas as pd\n",
    "import numpy as np\n",
    "import matplotlib.pyplot as plt\n",
    "%matplotlib inline"
   ]
  },
  {
   "cell_type": "code",
   "execution_count": 3,
   "metadata": {},
   "outputs": [],
   "source": [
    "df= pd.read_excel(\"C:/Users/Sepideh/Desktop/Mock Interview Data - abrNOC.xlsx\")"
   ]
  },
  {
   "cell_type": "code",
   "execution_count": 4,
   "metadata": {
    "scrolled": true
   },
   "outputs": [
    {
     "data": {
      "text/html": [
       "<div>\n",
       "<style scoped>\n",
       "    .dataframe tbody tr th:only-of-type {\n",
       "        vertical-align: middle;\n",
       "    }\n",
       "\n",
       "    .dataframe tbody tr th {\n",
       "        vertical-align: top;\n",
       "    }\n",
       "\n",
       "    .dataframe thead th {\n",
       "        text-align: right;\n",
       "    }\n",
       "</style>\n",
       "<table border=\"1\" class=\"dataframe\">\n",
       "  <thead>\n",
       "    <tr style=\"text-align: right;\">\n",
       "      <th></th>\n",
       "      <th>LATITUDE</th>\n",
       "      <th>LONGITUDE</th>\n",
       "      <th>STIME</th>\n",
       "      <th>SDATE</th>\n",
       "      <th>HEADING</th>\n",
       "      <th>SPEED</th>\n",
       "      <th>COURSE</th>\n",
       "      <th>TIME_STAMP</th>\n",
       "    </tr>\n",
       "  </thead>\n",
       "  <tbody>\n",
       "    <tr>\n",
       "      <th>0</th>\n",
       "      <td>25.417318</td>\n",
       "      <td>54.067455</td>\n",
       "      <td>2641</td>\n",
       "      <td>20210503</td>\n",
       "      <td>93</td>\n",
       "      <td>8.0</td>\n",
       "      <td>93.4</td>\n",
       "      <td>2021-05-02 19:34:19</td>\n",
       "    </tr>\n",
       "    <tr>\n",
       "      <th>1</th>\n",
       "      <td>25.404707</td>\n",
       "      <td>54.280107</td>\n",
       "      <td>13653</td>\n",
       "      <td>20210503</td>\n",
       "      <td>97</td>\n",
       "      <td>8.3</td>\n",
       "      <td>97.1</td>\n",
       "      <td>2021-05-02 20:58:25</td>\n",
       "    </tr>\n",
       "    <tr>\n",
       "      <th>2</th>\n",
       "      <td>25.417318</td>\n",
       "      <td>54.067455</td>\n",
       "      <td>10640</td>\n",
       "      <td>20210503</td>\n",
       "      <td>93</td>\n",
       "      <td>8.0</td>\n",
       "      <td>93.4</td>\n",
       "      <td>2021-05-02 19:34:19</td>\n",
       "    </tr>\n",
       "    <tr>\n",
       "      <th>3</th>\n",
       "      <td>25.417318</td>\n",
       "      <td>54.067455</td>\n",
       "      <td>12640</td>\n",
       "      <td>20210503</td>\n",
       "      <td>93</td>\n",
       "      <td>8.0</td>\n",
       "      <td>93.4</td>\n",
       "      <td>2021-05-02 19:34:19</td>\n",
       "    </tr>\n",
       "    <tr>\n",
       "      <th>4</th>\n",
       "      <td>25.417318</td>\n",
       "      <td>54.067455</td>\n",
       "      <td>11640</td>\n",
       "      <td>20210503</td>\n",
       "      <td>93</td>\n",
       "      <td>8.0</td>\n",
       "      <td>93.4</td>\n",
       "      <td>2021-05-02 19:34:19</td>\n",
       "    </tr>\n",
       "  </tbody>\n",
       "</table>\n",
       "</div>"
      ],
      "text/plain": [
       "    LATITUDE  LONGITUDE  STIME     SDATE  HEADING  SPEED  COURSE  \\\n",
       "0  25.417318  54.067455   2641  20210503       93    8.0    93.4   \n",
       "1  25.404707  54.280107  13653  20210503       97    8.3    97.1   \n",
       "2  25.417318  54.067455  10640  20210503       93    8.0    93.4   \n",
       "3  25.417318  54.067455  12640  20210503       93    8.0    93.4   \n",
       "4  25.417318  54.067455  11640  20210503       93    8.0    93.4   \n",
       "\n",
       "           TIME_STAMP  \n",
       "0 2021-05-02 19:34:19  \n",
       "1 2021-05-02 20:58:25  \n",
       "2 2021-05-02 19:34:19  \n",
       "3 2021-05-02 19:34:19  \n",
       "4 2021-05-02 19:34:19  "
      ]
     },
     "execution_count": 4,
     "metadata": {},
     "output_type": "execute_result"
    }
   ],
   "source": [
    "df.head()"
   ]
  },
  {
   "cell_type": "code",
   "execution_count": 5,
   "metadata": {},
   "outputs": [
    {
     "data": {
      "text/html": [
       "<div>\n",
       "<style scoped>\n",
       "    .dataframe tbody tr th:only-of-type {\n",
       "        vertical-align: middle;\n",
       "    }\n",
       "\n",
       "    .dataframe tbody tr th {\n",
       "        vertical-align: top;\n",
       "    }\n",
       "\n",
       "    .dataframe thead th {\n",
       "        text-align: right;\n",
       "    }\n",
       "</style>\n",
       "<table border=\"1\" class=\"dataframe\">\n",
       "  <thead>\n",
       "    <tr style=\"text-align: right;\">\n",
       "      <th></th>\n",
       "      <th>LATITUDE</th>\n",
       "      <th>LONGITUDE</th>\n",
       "      <th>STIME</th>\n",
       "      <th>SDATE</th>\n",
       "      <th>HEADING</th>\n",
       "      <th>SPEED</th>\n",
       "      <th>COURSE</th>\n",
       "    </tr>\n",
       "  </thead>\n",
       "  <tbody>\n",
       "    <tr>\n",
       "      <th>LATITUDE</th>\n",
       "      <td>1.000000</td>\n",
       "      <td>-0.781099</td>\n",
       "      <td>-0.043040</td>\n",
       "      <td>0.403230</td>\n",
       "      <td>0.559336</td>\n",
       "      <td>-0.128988</td>\n",
       "      <td>0.558633</td>\n",
       "    </tr>\n",
       "    <tr>\n",
       "      <th>LONGITUDE</th>\n",
       "      <td>-0.781099</td>\n",
       "      <td>1.000000</td>\n",
       "      <td>0.008830</td>\n",
       "      <td>-0.088421</td>\n",
       "      <td>-0.031688</td>\n",
       "      <td>0.114986</td>\n",
       "      <td>-0.030950</td>\n",
       "    </tr>\n",
       "    <tr>\n",
       "      <th>STIME</th>\n",
       "      <td>-0.043040</td>\n",
       "      <td>0.008830</td>\n",
       "      <td>1.000000</td>\n",
       "      <td>-0.074986</td>\n",
       "      <td>0.068306</td>\n",
       "      <td>0.061035</td>\n",
       "      <td>0.068444</td>\n",
       "    </tr>\n",
       "    <tr>\n",
       "      <th>SDATE</th>\n",
       "      <td>0.403230</td>\n",
       "      <td>-0.088421</td>\n",
       "      <td>-0.074986</td>\n",
       "      <td>1.000000</td>\n",
       "      <td>0.524264</td>\n",
       "      <td>0.090503</td>\n",
       "      <td>0.524153</td>\n",
       "    </tr>\n",
       "    <tr>\n",
       "      <th>HEADING</th>\n",
       "      <td>0.559336</td>\n",
       "      <td>-0.031688</td>\n",
       "      <td>0.068306</td>\n",
       "      <td>0.524264</td>\n",
       "      <td>1.000000</td>\n",
       "      <td>0.101769</td>\n",
       "      <td>0.999999</td>\n",
       "    </tr>\n",
       "    <tr>\n",
       "      <th>SPEED</th>\n",
       "      <td>-0.128988</td>\n",
       "      <td>0.114986</td>\n",
       "      <td>0.061035</td>\n",
       "      <td>0.090503</td>\n",
       "      <td>0.101769</td>\n",
       "      <td>1.000000</td>\n",
       "      <td>0.102101</td>\n",
       "    </tr>\n",
       "    <tr>\n",
       "      <th>COURSE</th>\n",
       "      <td>0.558633</td>\n",
       "      <td>-0.030950</td>\n",
       "      <td>0.068444</td>\n",
       "      <td>0.524153</td>\n",
       "      <td>0.999999</td>\n",
       "      <td>0.102101</td>\n",
       "      <td>1.000000</td>\n",
       "    </tr>\n",
       "  </tbody>\n",
       "</table>\n",
       "</div>"
      ],
      "text/plain": [
       "           LATITUDE  LONGITUDE     STIME     SDATE   HEADING     SPEED  \\\n",
       "LATITUDE   1.000000  -0.781099 -0.043040  0.403230  0.559336 -0.128988   \n",
       "LONGITUDE -0.781099   1.000000  0.008830 -0.088421 -0.031688  0.114986   \n",
       "STIME     -0.043040   0.008830  1.000000 -0.074986  0.068306  0.061035   \n",
       "SDATE      0.403230  -0.088421 -0.074986  1.000000  0.524264  0.090503   \n",
       "HEADING    0.559336  -0.031688  0.068306  0.524264  1.000000  0.101769   \n",
       "SPEED     -0.128988   0.114986  0.061035  0.090503  0.101769  1.000000   \n",
       "COURSE     0.558633  -0.030950  0.068444  0.524153  0.999999  0.102101   \n",
       "\n",
       "             COURSE  \n",
       "LATITUDE   0.558633  \n",
       "LONGITUDE -0.030950  \n",
       "STIME      0.068444  \n",
       "SDATE      0.524153  \n",
       "HEADING    0.999999  \n",
       "SPEED      0.102101  \n",
       "COURSE     1.000000  "
      ]
     },
     "execution_count": 5,
     "metadata": {},
     "output_type": "execute_result"
    }
   ],
   "source": [
    "df.corr()"
   ]
  },
  {
   "cell_type": "code",
   "execution_count": 6,
   "metadata": {},
   "outputs": [
    {
     "data": {
      "text/html": [
       "<div>\n",
       "<style scoped>\n",
       "    .dataframe tbody tr th:only-of-type {\n",
       "        vertical-align: middle;\n",
       "    }\n",
       "\n",
       "    .dataframe tbody tr th {\n",
       "        vertical-align: top;\n",
       "    }\n",
       "\n",
       "    .dataframe thead th {\n",
       "        text-align: right;\n",
       "    }\n",
       "</style>\n",
       "<table border=\"1\" class=\"dataframe\">\n",
       "  <thead>\n",
       "    <tr style=\"text-align: right;\">\n",
       "      <th></th>\n",
       "      <th>LATITUDE</th>\n",
       "      <th>LONGITUDE</th>\n",
       "      <th>STIME</th>\n",
       "      <th>SDATE</th>\n",
       "      <th>HEADING</th>\n",
       "      <th>SPEED</th>\n",
       "      <th>COURSE</th>\n",
       "    </tr>\n",
       "  </thead>\n",
       "  <tbody>\n",
       "    <tr>\n",
       "      <th>count</th>\n",
       "      <td>1113.000000</td>\n",
       "      <td>1113.000000</td>\n",
       "      <td>1113.000000</td>\n",
       "      <td>1.113000e+03</td>\n",
       "      <td>1113.000000</td>\n",
       "      <td>1113.000000</td>\n",
       "      <td>1113.000000</td>\n",
       "    </tr>\n",
       "    <tr>\n",
       "      <th>mean</th>\n",
       "      <td>25.407181</td>\n",
       "      <td>54.733580</td>\n",
       "      <td>118551.490566</td>\n",
       "      <td>2.021051e+07</td>\n",
       "      <td>260.023360</td>\n",
       "      <td>7.887601</td>\n",
       "      <td>260.433333</td>\n",
       "    </tr>\n",
       "    <tr>\n",
       "      <th>std</th>\n",
       "      <td>0.024465</td>\n",
       "      <td>0.189702</td>\n",
       "      <td>69725.784570</td>\n",
       "      <td>2.326850e+00</td>\n",
       "      <td>52.535783</td>\n",
       "      <td>0.205476</td>\n",
       "      <td>52.519570</td>\n",
       "    </tr>\n",
       "    <tr>\n",
       "      <th>min</th>\n",
       "      <td>25.290905</td>\n",
       "      <td>53.570812</td>\n",
       "      <td>648.000000</td>\n",
       "      <td>2.021050e+07</td>\n",
       "      <td>79.000000</td>\n",
       "      <td>6.200000</td>\n",
       "      <td>79.900000</td>\n",
       "    </tr>\n",
       "    <tr>\n",
       "      <th>25%</th>\n",
       "      <td>25.414007</td>\n",
       "      <td>54.717993</td>\n",
       "      <td>55650.000000</td>\n",
       "      <td>2.021050e+07</td>\n",
       "      <td>278.000000</td>\n",
       "      <td>7.900000</td>\n",
       "      <td>278.400000</td>\n",
       "    </tr>\n",
       "    <tr>\n",
       "      <th>50%</th>\n",
       "      <td>25.414007</td>\n",
       "      <td>54.717993</td>\n",
       "      <td>115847.000000</td>\n",
       "      <td>2.021051e+07</td>\n",
       "      <td>278.000000</td>\n",
       "      <td>7.900000</td>\n",
       "      <td>278.400000</td>\n",
       "    </tr>\n",
       "    <tr>\n",
       "      <th>75%</th>\n",
       "      <td>25.414007</td>\n",
       "      <td>54.717993</td>\n",
       "      <td>181651.000000</td>\n",
       "      <td>2.021051e+07</td>\n",
       "      <td>278.000000</td>\n",
       "      <td>7.900000</td>\n",
       "      <td>278.400000</td>\n",
       "    </tr>\n",
       "    <tr>\n",
       "      <th>max</th>\n",
       "      <td>25.461312</td>\n",
       "      <td>55.283783</td>\n",
       "      <td>235805.000000</td>\n",
       "      <td>2.021051e+07</td>\n",
       "      <td>301.000000</td>\n",
       "      <td>8.300000</td>\n",
       "      <td>301.600000</td>\n",
       "    </tr>\n",
       "  </tbody>\n",
       "</table>\n",
       "</div>"
      ],
      "text/plain": [
       "          LATITUDE    LONGITUDE          STIME         SDATE      HEADING  \\\n",
       "count  1113.000000  1113.000000    1113.000000  1.113000e+03  1113.000000   \n",
       "mean     25.407181    54.733580  118551.490566  2.021051e+07   260.023360   \n",
       "std       0.024465     0.189702   69725.784570  2.326850e+00    52.535783   \n",
       "min      25.290905    53.570812     648.000000  2.021050e+07    79.000000   \n",
       "25%      25.414007    54.717993   55650.000000  2.021050e+07   278.000000   \n",
       "50%      25.414007    54.717993  115847.000000  2.021051e+07   278.000000   \n",
       "75%      25.414007    54.717993  181651.000000  2.021051e+07   278.000000   \n",
       "max      25.461312    55.283783  235805.000000  2.021051e+07   301.000000   \n",
       "\n",
       "             SPEED       COURSE  \n",
       "count  1113.000000  1113.000000  \n",
       "mean      7.887601   260.433333  \n",
       "std       0.205476    52.519570  \n",
       "min       6.200000    79.900000  \n",
       "25%       7.900000   278.400000  \n",
       "50%       7.900000   278.400000  \n",
       "75%       7.900000   278.400000  \n",
       "max       8.300000   301.600000  "
      ]
     },
     "execution_count": 6,
     "metadata": {},
     "output_type": "execute_result"
    }
   ],
   "source": [
    "df.describe()"
   ]
  },
  {
   "cell_type": "code",
   "execution_count": 7,
   "metadata": {},
   "outputs": [
    {
     "name": "stdout",
     "output_type": "stream",
     "text": [
      "<class 'pandas.core.frame.DataFrame'>\n",
      "RangeIndex: 1113 entries, 0 to 1112\n",
      "Data columns (total 8 columns):\n",
      " #   Column      Non-Null Count  Dtype         \n",
      "---  ------      --------------  -----         \n",
      " 0   LATITUDE    1113 non-null   float64       \n",
      " 1   LONGITUDE   1113 non-null   float64       \n",
      " 2   STIME       1113 non-null   int64         \n",
      " 3   SDATE       1113 non-null   int64         \n",
      " 4   HEADING     1113 non-null   int64         \n",
      " 5   SPEED       1113 non-null   float64       \n",
      " 6   COURSE      1113 non-null   float64       \n",
      " 7   TIME_STAMP  1113 non-null   datetime64[ns]\n",
      "dtypes: datetime64[ns](1), float64(4), int64(3)\n",
      "memory usage: 69.7 KB\n"
     ]
    }
   ],
   "source": [
    "df.info()"
   ]
  },
  {
   "cell_type": "markdown",
   "metadata": {},
   "source": [
    "## Checking ِItems recorded in each Feature with value_counts()\n",
    "\n",
    "### By searching for the features in the data, I found explanations about them that are as follows:\n",
    "\n",
    "**Latitude: Latitude is a geographic coordinate that specifies the north-south position of a point on the Earth's surface. It is measured in degrees and represents the angular distance north or south of the equator.\n",
    "\n",
    "Longitude: Longitude is a geographic coordinate that specifies the east-west position of a point on the Earth's surface. It is measured in degrees and represents the angular distance east or west of the prime meridian.\n",
    "\n",
    "STIME: STIME stands for \"System Time\" and refers to the time at which the data was recorded or transmitted by the radio device. It typically follows a specific time format and may include hours, minutes, and seconds.\n",
    "\n",
    "SDATE: SDATE stands for \"System Date\" and refers to the date on which the data was recorded or transmitted by the radio device. It represents the specific calendar date, typically including the day, month, and year.\n",
    "\n",
    "Heading: Heading refers to the direction in which the marine vessel is pointing or heading. It is usually represented in degrees and indicates the angle between the vessel's bow (front) and a reference point, such as true north or magnetic north.\n",
    "\n",
    "Speed: Speed represents the rate of motion of the marine vessel and is typically measured in knots or nautical miles per hour (nm/h). It indicates how fast the vessel is traveling over the water.\n",
    "\n",
    "Course: Course refers to the direction of the vessel's intended path over the ground. It is usually expressed in degrees and represents the angle between the vessel's heading and true north.\n",
    "\n",
    "Time_Stamp: Time_Stamp refers to a specific point in time when an event occurred or data was recorded. It is often used as a unique identifier or reference for a particular data entry.\n",
    "\n",
    "These features collectively provide important information about the vessel's location (latitude and longitude), time (stime, sdate, and time_stamp), orientation (heading and course), and movement (speed)**\n",
    "\n",
    "\n"
   ]
  },
  {
   "cell_type": "code",
   "execution_count": 8,
   "metadata": {},
   "outputs": [
    {
     "data": {
      "text/plain": [
       "25.414007    967\n",
       "25.312860     52\n",
       "25.417318      9\n",
       "25.429758      7\n",
       "25.393850      5\n",
       "25.324883      3\n",
       "25.375390      3\n",
       "25.373702      2\n",
       "25.369050      2\n",
       "25.394357      2\n",
       "25.432312      2\n",
       "25.355687      2\n",
       "25.290905      2\n",
       "25.402912      2\n",
       "25.377742      2\n",
       "25.461312      2\n",
       "25.343157      2\n",
       "25.404143      2\n",
       "25.379042      2\n",
       "25.378977      2\n",
       "25.348443      2\n",
       "25.433723      1\n",
       "25.433958      1\n",
       "25.305587      1\n",
       "25.379830      1\n",
       "25.408023      1\n",
       "25.432368      1\n",
       "25.343637      1\n",
       "25.431615      1\n",
       "25.401430      1\n",
       "25.315763      1\n",
       "25.388493      1\n",
       "25.364838      1\n",
       "25.405295      1\n",
       "25.380717      1\n",
       "25.409978      1\n",
       "25.403323      1\n",
       "25.403478      1\n",
       "25.385288      1\n",
       "25.366925      1\n",
       "25.359672      1\n",
       "25.434190      1\n",
       "25.318390      1\n",
       "25.404432      1\n",
       "25.379472      1\n",
       "25.335998      1\n",
       "25.410005      1\n",
       "25.356602      1\n",
       "25.313603      1\n",
       "25.404707      1\n",
       "25.403803      1\n",
       "25.377738      1\n",
       "25.407043      1\n",
       "25.349080      1\n",
       "25.409925      1\n",
       "25.407173      1\n",
       "25.401953      1\n",
       "25.408733      1\n",
       "25.411215      1\n",
       "25.433653      1\n",
       "Name: LATITUDE, dtype: int64"
      ]
     },
     "execution_count": 8,
     "metadata": {},
     "output_type": "execute_result"
    }
   ],
   "source": [
    "# عرض جغرافیایی\n",
    "df['LATITUDE'].value_counts()"
   ]
  },
  {
   "cell_type": "code",
   "execution_count": 9,
   "metadata": {},
   "outputs": [
    {
     "data": {
      "text/plain": [
       "54.717993    967\n",
       "55.264325     52\n",
       "54.067455      9\n",
       "53.895420      7\n",
       "54.679462      5\n",
       "54.965350      3\n",
       "55.181185      3\n",
       "54.869693      2\n",
       "55.096898      2\n",
       "55.119565      2\n",
       "55.022155      2\n",
       "55.283783      2\n",
       "54.648155      2\n",
       "54.605930      2\n",
       "54.818313      2\n",
       "54.889272      2\n",
       "54.995345      2\n",
       "55.146347      2\n",
       "53.570812      2\n",
       "54.918535      2\n",
       "53.810450      2\n",
       "54.530500      1\n",
       "54.769927      1\n",
       "55.179327      1\n",
       "55.201595      1\n",
       "54.451520      1\n",
       "54.774407      1\n",
       "53.668292      1\n",
       "55.222392      1\n",
       "54.940078      1\n",
       "54.426848      1\n",
       "54.504680      1\n",
       "53.746740      1\n",
       "54.741757      1\n",
       "55.069155      1\n",
       "54.812292      1\n",
       "54.796382      1\n",
       "54.367690      1\n",
       "53.696342      1\n",
       "53.730970      1\n",
       "55.260063      1\n",
       "54.795038      1\n",
       "54.863257      1\n",
       "55.073338      1\n",
       "53.844307      1\n",
       "54.314528      1\n",
       "54.916670      1\n",
       "54.581688      1\n",
       "55.094460      1\n",
       "55.251047      1\n",
       "54.280107      1\n",
       "54.556013      1\n",
       "53.783902      1\n",
       "54.892788      1\n",
       "54.402502      1\n",
       "55.223658      1\n",
       "55.029305      1\n",
       "55.020690      1\n",
       "54.837227      1\n",
       "54.476543      1\n",
       "Name: LONGITUDE, dtype: int64"
      ]
     },
     "execution_count": 9,
     "metadata": {},
     "output_type": "execute_result"
    }
   ],
   "source": [
    "# طول جغرافیایی\n",
    "df['LONGITUDE'].value_counts()"
   ]
  },
  {
   "cell_type": "markdown",
   "metadata": {},
   "source": [
    "**In summary, heading refers to the direction the vessel is currently pointing, while course refers to the intended direction of travel over the ground.**\n"
   ]
  },
  {
   "cell_type": "code",
   "execution_count": 10,
   "metadata": {
    "scrolled": true
   },
   "outputs": [
    {
     "data": {
      "text/plain": [
       "278.4    967\n",
       "128.6     52\n",
       "93.4       9\n",
       "96.2       7\n",
       "119.1      5\n",
       "102.0      3\n",
       "284.8      3\n",
       "95.6       2\n",
       "288.8      2\n",
       "82.1       2\n",
       "292.0      2\n",
       "98.7       2\n",
       "101.5      2\n",
       "113.7      2\n",
       "95.8       2\n",
       "83.3       2\n",
       "89.8       2\n",
       "90.5       2\n",
       "280.3      2\n",
       "94.6       2\n",
       "301.6      2\n",
       "294.5      1\n",
       "89.2       1\n",
       "79.9       1\n",
       "95.1       1\n",
       "93.6       1\n",
       "99.1       1\n",
       "285.1      1\n",
       "259.9      1\n",
       "94.7       1\n",
       "275.4      1\n",
       "114.0      1\n",
       "94.0       1\n",
       "83.0       1\n",
       "89.3       1\n",
       "99.4       1\n",
       "128.9      1\n",
       "284.7      1\n",
       "90.6       1\n",
       "85.6       1\n",
       "92.6       1\n",
       "277.9      1\n",
       "93.3       1\n",
       "295.3      1\n",
       "276.7      1\n",
       "286.3      1\n",
       "279.7      1\n",
       "282.0      1\n",
       "95.5       1\n",
       "265.2      1\n",
       "267.6      1\n",
       "93.1       1\n",
       "97.1       1\n",
       "87.3       1\n",
       "87.0       1\n",
       "291.5      1\n",
       "296.8      1\n",
       "91.3       1\n",
       "91.6       1\n",
       "92.0       1\n",
       "Name: COURSE, dtype: int64"
      ]
     },
     "execution_count": 10,
     "metadata": {},
     "output_type": "execute_result"
    }
   ],
   "source": [
    "# Course refers to the direction of the vessel's intended path over the ground\n",
    "df['COURSE'].value_counts()"
   ]
  },
  {
   "cell_type": "code",
   "execution_count": 11,
   "metadata": {},
   "outputs": [
    {
     "data": {
      "text/plain": [
       "278    967\n",
       "128     53\n",
       "93      12\n",
       "96       7\n",
       "95       6\n",
       "119      5\n",
       "284      4\n",
       "89       4\n",
       "94       4\n",
       "90       3\n",
       "83       3\n",
       "102      3\n",
       "91       2\n",
       "92       2\n",
       "87       2\n",
       "82       2\n",
       "98       2\n",
       "99       2\n",
       "101      2\n",
       "113      2\n",
       "301      2\n",
       "280      2\n",
       "292      2\n",
       "288      2\n",
       "282      1\n",
       "295      1\n",
       "294      1\n",
       "85       1\n",
       "291      1\n",
       "286      1\n",
       "285      1\n",
       "296      1\n",
       "114      1\n",
       "279      1\n",
       "277      1\n",
       "97       1\n",
       "276      1\n",
       "275      1\n",
       "267      1\n",
       "265      1\n",
       "259      1\n",
       "79       1\n",
       "Name: HEADING, dtype: int64"
      ]
     },
     "execution_count": 11,
     "metadata": {},
     "output_type": "execute_result"
    }
   ],
   "source": [
    "#  Degrees and angle between the vessel's bow (front) and a reference point\n",
    "df['HEADING'].value_counts()"
   ]
  },
  {
   "cell_type": "code",
   "execution_count": 12,
   "metadata": {},
   "outputs": [
    {
     "data": {
      "text/plain": [
       "7.9    979\n",
       "8.3     53\n",
       "7.8     15\n",
       "8.0     12\n",
       "7.2      6\n",
       "7.7      6\n",
       "6.8      5\n",
       "8.1      5\n",
       "6.9      5\n",
       "7.6      5\n",
       "7.1      3\n",
       "8.2      3\n",
       "6.3      3\n",
       "7.5      3\n",
       "6.5      3\n",
       "7.0      3\n",
       "7.4      2\n",
       "6.2      1\n",
       "6.7      1\n",
       "Name: SPEED, dtype: int64"
      ]
     },
     "execution_count": 12,
     "metadata": {},
     "output_type": "execute_result"
    }
   ],
   "source": [
    "# SPEED over ground\n",
    "df['SPEED'].value_counts()"
   ]
  },
  {
   "cell_type": "code",
   "execution_count": 13,
   "metadata": {},
   "outputs": [
    {
     "data": {
      "text/plain": [
       "20210509    142\n",
       "20210507    141\n",
       "20210504    139\n",
       "20210503    138\n",
       "20210508    137\n",
       "20210506    136\n",
       "20210505    136\n",
       "20210510    127\n",
       "20210502     17\n",
       "Name: SDATE, dtype: int64"
      ]
     },
     "execution_count": 13,
     "metadata": {},
     "output_type": "execute_result"
    }
   ],
   "source": [
    "#  SDATE or \"System Date\" ,refers to the date on which the data was recorded or transmitted by the radio device.\n",
    "df['SDATE'].value_counts()"
   ]
  },
  {
   "cell_type": "code",
   "execution_count": 14,
   "metadata": {},
   "outputs": [
    {
     "data": {
      "text/plain": [
       "33648     4\n",
       "193655    3\n",
       "214703    3\n",
       "44647     3\n",
       "15649     3\n",
       "         ..\n",
       "185655    1\n",
       "185652    1\n",
       "185650    1\n",
       "185646    1\n",
       "200707    1\n",
       "Name: STIME, Length: 1036, dtype: int64"
      ]
     },
     "execution_count": 14,
     "metadata": {},
     "output_type": "execute_result"
    }
   ],
   "source": [
    "# STIME or \"System Time\" ,refers to the time at which the data was recorded or transmitted by the radio device.\n",
    "df['STIME'].value_counts()"
   ]
  },
  {
   "cell_type": "code",
   "execution_count": 15,
   "metadata": {},
   "outputs": [
    {
     "data": {
      "text/plain": [
       "2021-05-03 18:02:57    967\n",
       "2021-05-03 04:27:17     52\n",
       "2021-05-02 19:34:19      9\n",
       "2021-05-02 18:22:14      7\n",
       "2021-05-02 23:49:15      5\n",
       "2021-05-03 14:35:25      3\n",
       "2021-05-03 02:11:24      3\n",
       "2021-05-03 16:00:50      2\n",
       "2021-05-03 01:49:38      2\n",
       "2021-05-03 00:59:43      2\n",
       "2021-05-03 03:34:21      2\n",
       "2021-05-03 02:37:50      2\n",
       "2021-05-02 23:32:45      2\n",
       "2021-05-03 01:36:08      2\n",
       "2021-05-03 03:12:32      2\n",
       "2021-05-03 13:44:07      2\n",
       "2021-05-03 15:04:30      2\n",
       "2021-05-02 16:06:01      2\n",
       "2021-05-02 17:46:31      2\n",
       "2021-05-02 23:12:15      2\n",
       "2021-05-03 16:56:36      2\n",
       "2021-05-03 14:01:18      1\n",
       "2021-05-02 17:35:25      1\n",
       "2021-05-02 16:48:22      1\n",
       "2021-05-03 15:45:47      1\n",
       "2021-05-02 22:30:25      1\n",
       "2021-05-03 04:07:03      1\n",
       "2021-05-02 22:18:47      1\n",
       "2021-05-02 23:02:09      1\n",
       "2021-05-03 16:35:54      1\n",
       "2021-05-03 16:25:17      1\n",
       "2021-05-03 03:48:20      1\n",
       "2021-05-02 20:58:25      1\n",
       "2021-05-02 21:33:55      1\n",
       "2021-05-02 22:41:04      1\n",
       "2021-05-03 14:25:13      1\n",
       "2021-05-03 14:14:25      1\n",
       "2021-05-02 21:48:14      1\n",
       "2021-05-02 21:58:18      1\n",
       "2021-05-02 17:00:10      1\n",
       "2021-05-03 17:12:05      1\n",
       "2021-05-02 17:14:09      1\n",
       "2021-05-03 15:17:31      1\n",
       "2021-05-02 17:20:25      1\n",
       "2021-05-03 17:30:09      1\n",
       "2021-05-03 16:46:12      1\n",
       "2021-05-03 17:22:41      1\n",
       "2021-05-03 01:23:00      1\n",
       "2021-05-02 18:00:54      1\n",
       "2021-05-02 22:51:30      1\n",
       "2021-05-03 17:40:49      1\n",
       "2021-05-03 15:49:32      1\n",
       "2021-05-02 21:12:17      1\n",
       "2021-05-03 04:25:11      1\n",
       "2021-05-03 00:48:28      1\n",
       "2021-05-03 17:52:38      1\n",
       "2021-05-02 22:08:26      1\n",
       "2021-05-03 00:37:20      1\n",
       "2021-05-03 03:01:42      1\n",
       "2021-05-03 15:28:36      1\n",
       "Name: TIME_STAMP, dtype: int64"
      ]
     },
     "execution_count": 15,
     "metadata": {},
     "output_type": "execute_result"
    }
   ],
   "source": [
    "# Time_Stamp refers to a specific point in time when an event occurred or data was recorded.\n",
    "df['TIME_STAMP'].value_counts()"
   ]
  },
  {
   "cell_type": "code",
   "execution_count": 16,
   "metadata": {},
   "outputs": [
    {
     "data": {
      "text/plain": [
       "Index(['LATITUDE', 'LONGITUDE', 'STIME', 'SDATE', 'HEADING', 'SPEED', 'COURSE',\n",
       "       'TIME_STAMP'],\n",
       "      dtype='object')"
      ]
     },
     "execution_count": 16,
     "metadata": {},
     "output_type": "execute_result"
    }
   ],
   "source": [
    "df.columns"
   ]
  },
  {
   "cell_type": "code",
   "execution_count": 64,
   "metadata": {},
   "outputs": [
    {
     "data": {
      "text/plain": [
       "<AxesSubplot:xlabel='LONGITUDE', ylabel='LATITUDE'>"
      ]
     },
     "execution_count": 64,
     "metadata": {},
     "output_type": "execute_result"
    },
    {
     "data": {
      "image/png": "[encoded data removed]",
      "text/plain": [
       "<Figure size 432x288 with 1 Axes>"
      ]
     },
     "metadata": {
      "needs_background": "light"
     },
     "output_type": "display_data"
    }
   ],
   "source": [
    "sns.scatterplot(x=df['LONGITUDE'],y=df['LATITUDE'])"
   ]
  },
  {
   "cell_type": "code",
   "execution_count": 65,
   "metadata": {},
   "outputs": [
    {
     "data": {
      "text/plain": [
       "<AxesSubplot:xlabel='HEADING', ylabel='COURSE'>"
      ]
     },
     "execution_count": 65,
     "metadata": {},
     "output_type": "execute_result"
    },
    {
     "data": {
      "image/png": "[encoded data removed]",
      "text/plain": [
       "<Figure size 432x288 with 1 Axes>"
      ]
     },
     "metadata": {
      "needs_background": "light"
     },
     "output_type": "display_data"
    }
   ],
   "source": [
    "sns.scatterplot(x=df['HEADING'],y=df['COURSE'])"
   ]
  },
  {
   "cell_type": "markdown",
   "metadata": {},
   "source": [
    "## Now we calculate the differences between Course and Heading to undrestand if there is any problem or not.\n",
    "\n",
    "**Ideally, the Heading and Course should align as closely as possible, indicating that the vessel is traveling in the intended direction. However, due to external influences, there may be some variance. A typical acceptable difference between Heading and Course can range from a few degrees to around 10 degrees, but this can vary based on the vessel's size, type, and navigation equipment.**\n",
    "\n",
    "**according to above explanation and checking the values of the df['diff'] we understand that the difference between to element is so low And that doesn't indicate a sensor failure.**"
   ]
  },
  {
   "cell_type": "code",
   "execution_count": 17,
   "metadata": {},
   "outputs": [],
   "source": [
    "df['diff'] = df['COURSE'] - df['HEADING']"
   ]
  },
  {
   "cell_type": "code",
   "execution_count": 18,
   "metadata": {},
   "outputs": [
    {
     "data": {
      "text/plain": [
       "0.4    968\n",
       "0.6     61\n",
       "0.0     11\n",
       "0.1     11\n",
       "0.4     10\n",
       "0.2      8\n",
       "0.5      7\n",
       "0.3      6\n",
       "0.8      6\n",
       "0.7      5\n",
       "0.8      4\n",
       "0.3      4\n",
       "0.7      3\n",
       "0.6      3\n",
       "0.9      2\n",
       "0.9      2\n",
       "0.2      1\n",
       "0.1      1\n",
       "Name: diff, dtype: int64"
      ]
     },
     "execution_count": 18,
     "metadata": {},
     "output_type": "execute_result"
    }
   ],
   "source": [
    "df['diff'].value_counts()"
   ]
  },
  {
   "cell_type": "code",
   "execution_count": 19,
   "metadata": {},
   "outputs": [
    {
     "data": {
      "text/html": [
       "<div>\n",
       "<style scoped>\n",
       "    .dataframe tbody tr th:only-of-type {\n",
       "        vertical-align: middle;\n",
       "    }\n",
       "\n",
       "    .dataframe tbody tr th {\n",
       "        vertical-align: top;\n",
       "    }\n",
       "\n",
       "    .dataframe thead th {\n",
       "        text-align: right;\n",
       "    }\n",
       "</style>\n",
       "<table border=\"1\" class=\"dataframe\">\n",
       "  <thead>\n",
       "    <tr style=\"text-align: right;\">\n",
       "      <th></th>\n",
       "      <th>LATITUDE</th>\n",
       "      <th>LONGITUDE</th>\n",
       "      <th>STIME</th>\n",
       "      <th>SDATE</th>\n",
       "      <th>HEADING</th>\n",
       "      <th>SPEED</th>\n",
       "      <th>COURSE</th>\n",
       "      <th>diff</th>\n",
       "    </tr>\n",
       "  </thead>\n",
       "  <tbody>\n",
       "    <tr>\n",
       "      <th>LATITUDE</th>\n",
       "      <td>1.000000</td>\n",
       "      <td>-0.781099</td>\n",
       "      <td>-0.043040</td>\n",
       "      <td>0.403230</td>\n",
       "      <td>0.559336</td>\n",
       "      <td>-0.128988</td>\n",
       "      <td>0.558633</td>\n",
       "      <td>-0.507791</td>\n",
       "    </tr>\n",
       "    <tr>\n",
       "      <th>LONGITUDE</th>\n",
       "      <td>-0.781099</td>\n",
       "      <td>1.000000</td>\n",
       "      <td>0.008830</td>\n",
       "      <td>-0.088421</td>\n",
       "      <td>-0.031688</td>\n",
       "      <td>0.114986</td>\n",
       "      <td>-0.030950</td>\n",
       "      <td>0.433472</td>\n",
       "    </tr>\n",
       "    <tr>\n",
       "      <th>STIME</th>\n",
       "      <td>-0.043040</td>\n",
       "      <td>0.008830</td>\n",
       "      <td>1.000000</td>\n",
       "      <td>-0.074986</td>\n",
       "      <td>0.068306</td>\n",
       "      <td>0.061035</td>\n",
       "      <td>0.068444</td>\n",
       "      <td>0.068091</td>\n",
       "    </tr>\n",
       "    <tr>\n",
       "      <th>SDATE</th>\n",
       "      <td>0.403230</td>\n",
       "      <td>-0.088421</td>\n",
       "      <td>-0.074986</td>\n",
       "      <td>1.000000</td>\n",
       "      <td>0.524264</td>\n",
       "      <td>0.090503</td>\n",
       "      <td>0.524153</td>\n",
       "      <td>-0.158236</td>\n",
       "    </tr>\n",
       "    <tr>\n",
       "      <th>HEADING</th>\n",
       "      <td>0.559336</td>\n",
       "      <td>-0.031688</td>\n",
       "      <td>0.068306</td>\n",
       "      <td>0.524264</td>\n",
       "      <td>1.000000</td>\n",
       "      <td>0.101769</td>\n",
       "      <td>0.999999</td>\n",
       "      <td>-0.179668</td>\n",
       "    </tr>\n",
       "    <tr>\n",
       "      <th>SPEED</th>\n",
       "      <td>-0.128988</td>\n",
       "      <td>0.114986</td>\n",
       "      <td>0.061035</td>\n",
       "      <td>0.090503</td>\n",
       "      <td>0.101769</td>\n",
       "      <td>1.000000</td>\n",
       "      <td>0.102101</td>\n",
       "      <td>0.174162</td>\n",
       "    </tr>\n",
       "    <tr>\n",
       "      <th>COURSE</th>\n",
       "      <td>0.558633</td>\n",
       "      <td>-0.030950</td>\n",
       "      <td>0.068444</td>\n",
       "      <td>0.524153</td>\n",
       "      <td>0.999999</td>\n",
       "      <td>0.102101</td>\n",
       "      <td>1.000000</td>\n",
       "      <td>-0.177998</td>\n",
       "    </tr>\n",
       "    <tr>\n",
       "      <th>diff</th>\n",
       "      <td>-0.507791</td>\n",
       "      <td>0.433472</td>\n",
       "      <td>0.068091</td>\n",
       "      <td>-0.158236</td>\n",
       "      <td>-0.179668</td>\n",
       "      <td>0.174162</td>\n",
       "      <td>-0.177998</td>\n",
       "      <td>1.000000</td>\n",
       "    </tr>\n",
       "  </tbody>\n",
       "</table>\n",
       "</div>"
      ],
      "text/plain": [
       "           LATITUDE  LONGITUDE     STIME     SDATE   HEADING     SPEED  \\\n",
       "LATITUDE   1.000000  -0.781099 -0.043040  0.403230  0.559336 -0.128988   \n",
       "LONGITUDE -0.781099   1.000000  0.008830 -0.088421 -0.031688  0.114986   \n",
       "STIME     -0.043040   0.008830  1.000000 -0.074986  0.068306  0.061035   \n",
       "SDATE      0.403230  -0.088421 -0.074986  1.000000  0.524264  0.090503   \n",
       "HEADING    0.559336  -0.031688  0.068306  0.524264  1.000000  0.101769   \n",
       "SPEED     -0.128988   0.114986  0.061035  0.090503  0.101769  1.000000   \n",
       "COURSE     0.558633  -0.030950  0.068444  0.524153  0.999999  0.102101   \n",
       "diff      -0.507791   0.433472  0.068091 -0.158236 -0.179668  0.174162   \n",
       "\n",
       "             COURSE      diff  \n",
       "LATITUDE   0.558633 -0.507791  \n",
       "LONGITUDE -0.030950  0.433472  \n",
       "STIME      0.068444  0.068091  \n",
       "SDATE      0.524153 -0.158236  \n",
       "HEADING    0.999999 -0.179668  \n",
       "SPEED      0.102101  0.174162  \n",
       "COURSE     1.000000 -0.177998  \n",
       "diff      -0.177998  1.000000  "
      ]
     },
     "execution_count": 19,
     "metadata": {},
     "output_type": "execute_result"
    }
   ],
   "source": [
    "# as it's shown in the table below HEADING and COURSE have a high correlation and it's good.\n",
    "df.corr()"
   ]
  },
  {
   "cell_type": "code",
   "execution_count": 20,
   "metadata": {},
   "outputs": [
    {
     "name": "stdout",
     "output_type": "stream",
     "text": [
      "['20210503', '20210503', '20210503', '20210503', '20210503', '20210502', '20210502', '20210502', '20210502', '20210502', '20210502', '20210502', '20210502', '20210502', '20210502', '20210503', '20210503', '20210503', '20210503', '20210503', '20210502', '20210502', '20210502', '20210502', '20210502', '20210502', '20210502', '20210503', '20210503', '20210503', '20210503', '20210503', '20210503', '20210503', '20210503', '20210503', '20210503', '20210503', '20210503', '20210503', '20210503', '20210503', '20210503', '20210503', '20210503', '20210503', '20210503', '20210503', '20210503', '20210503', '20210503', '20210503', '20210503', '20210503', '20210503', '20210503', '20210503', '20210503', '20210503', '20210503', '20210503', '20210503', '20210503', '20210503', '20210503', '20210503', '20210503', '20210503', '20210503', '20210503', '20210503', '20210503', '20210503', '20210503', '20210503', '20210503', '20210503', '20210503', '20210503', '20210503', '20210503', '20210503', '20210503', '20210503', '20210503', '20210503', '20210503', '20210503', '20210503', '20210503', '20210503', '20210503', '20210503', '20210503', '20210503', '20210503', '20210503', '20210503', '20210503', '20210503', '20210503', '20210503', '20210503', '20210503', '20210503', '20210503', '20210503', '20210503', '20210503', '20210503', '20210503', '20210503', '20210503', '20210503', '20210503', '20210503', '20210503', '20210503', '20210503', '20210503', '20210503', '20210503', '20210503', '20210503', '20210503', '20210503', '20210503', '20210503', '20210503', '20210503', '20210503', '20210503', '20210503', '20210503', '20210503', '20210503', '20210503', '20210503', '20210503', '20210503', '20210503', '20210503', '20210503', '20210503', '20210504', '20210504', '20210504', '20210504', '20210504', '20210503', '20210503', '20210503', '20210504', '20210503', '20210504', '20210504', '20210504', '20210504', '20210504', '20210503', '20210503', '20210504', '20210503', '20210504', '20210504', '20210504', '20210503', '20210504', '20210504', '20210504', '20210503', '20210504', '20210504', '20210504', '20210504', '20210504', '20210504', '20210504', '20210504', '20210504', '20210503', '20210503', '20210504', '20210504', '20210504', '20210504', '20210504', '20210504', '20210504', '20210504', '20210504', '20210504', '20210504', '20210504', '20210504', '20210504', '20210504', '20210504', '20210504', '20210504', '20210504', '20210504', '20210504', '20210504', '20210504', '20210504', '20210504', '20210504', '20210504', '20210504', '20210504', '20210504', '20210504', '20210504', '20210504', '20210504', '20210504', '20210504', '20210504', '20210504', '20210504', '20210504', '20210504', '20210504', '20210504', '20210504', '20210504', '20210504', '20210504', '20210504', '20210504', '20210504', '20210504', '20210504', '20210504', '20210504', '20210504', '20210504', '20210504', '20210504', '20210504', '20210504', '20210504', '20210504', '20210504', '20210504', '20210504', '20210504', '20210504', '20210504', '20210504', '20210504', '20210504', '20210504', '20210504', '20210504', '20210504', '20210504', '20210504', '20210504', '20210504', '20210504', '20210504', '20210504', '20210504', '20210504', '20210504', '20210504', '20210504', '20210504', '20210504', '20210504', '20210504', '20210504', '20210504', '20210504', '20210504', '20210504', '20210504', '20210504', '20210504', '20210504', '20210504', '20210504', '20210505', '20210505', '20210505', '20210504', '20210504', '20210504', '20210504', '20210504', '20210504', '20210504', '20210504', '20210504', '20210504', '20210505', '20210505', '20210505', '20210505', '20210505', '20210505', '20210505', '20210505', '20210505', '20210505', '20210505', '20210505', '20210505', '20210505', '20210505', '20210505', '20210505', '20210505', '20210505', '20210505', '20210505', '20210505', '20210505', '20210505', '20210505', '20210505', '20210505', '20210505', '20210505', '20210505', '20210505', '20210505', '20210505', '20210505', '20210505', '20210505', '20210505', '20210505', '20210505', '20210505', '20210505', '20210505', '20210505', '20210505', '20210505', '20210505', '20210505', '20210505', '20210505', '20210505', '20210505', '20210505', '20210505', '20210505', '20210505', '20210505', '20210505', '20210505', '20210505', '20210505', '20210505', '20210505', '20210505', '20210505', '20210505', '20210505', '20210505', '20210505', '20210505', '20210505', '20210505', '20210505', '20210505', '20210505', '20210505', '20210505', '20210505', '20210505', '20210505', '20210505', '20210505', '20210505', '20210505', '20210505', '20210505', '20210505', '20210505', '20210505', '20210505', '20210505', '20210505', '20210505', '20210505', '20210505', '20210505', '20210505', '20210505', '20210505', '20210505', '20210505', '20210505', '20210505', '20210505', '20210505', '20210505', '20210505', '20210505', '20210505', '20210505', '20210505', '20210505', '20210505', '20210505', '20210505', '20210505', '20210505', '20210505', '20210505', '20210505', '20210505', '20210505', '20210505', '20210505', '20210505', '20210505', '20210505', '20210506', '20210506', '20210505', '20210506', '20210506', '20210506', '20210506', '20210506', '20210506', '20210506', '20210506', '20210506', '20210506', '20210505', '20210505', '20210505', '20210505', '20210505', '20210506', '20210506', '20210506', '20210506', '20210506', '20210506', '20210506', '20210506', '20210506', '20210506', '20210506', '20210506', '20210506', '20210506', '20210506', '20210506', '20210505', '20210506', '20210506', '20210506', '20210506', '20210506', '20210506', '20210506', '20210506', '20210506', '20210506', '20210506', '20210506', '20210506', '20210506', '20210506', '20210506', '20210506', '20210506', '20210506', '20210506', '20210506', '20210506', '20210506', '20210506', '20210506', '20210506', '20210506', '20210506', '20210506', '20210506', '20210506', '20210506', '20210506', '20210506', '20210506', '20210506', '20210506', '20210506', '20210506', '20210506', '20210506', '20210506', '20210506', '20210506', '20210506', '20210506', '20210506', '20210506', '20210506', '20210506', '20210506', '20210506', '20210506', '20210506', '20210506', '20210506', '20210506', '20210506', '20210506', '20210506', '20210506', '20210506', '20210506', '20210506', '20210506', '20210506', '20210506', '20210506', '20210506', '20210506', '20210506', '20210506', '20210506', '20210506', '20210506', '20210506', '20210506', '20210506', '20210506', '20210506', '20210506', '20210506', '20210506', '20210506', '20210507', '20210507', '20210507', '20210507', '20210507', '20210507', '20210507', '20210507', '20210507', '20210507', '20210507', '20210507', '20210507', '20210507', '20210506', '20210506', '20210506', '20210506', '20210506', '20210506', '20210506', '20210506', '20210506', '20210506', '20210506', '20210506', '20210506', '20210506', '20210506', '20210506', '20210506', '20210506', '20210506', '20210506', '20210506', '20210506', '20210506', '20210506', '20210507', '20210507', '20210507', '20210507', '20210507', '20210507', '20210507', '20210507', '20210507', '20210507', '20210507', '20210507', '20210507', '20210507', '20210507', '20210507', '20210507', '20210507', '20210507', '20210507', '20210507', '20210507', '20210507', '20210507', '20210507', '20210507', '20210507', '20210507', '20210507', '20210507', '20210507', '20210507', '20210507', '20210507', '20210507', '20210507', '20210507', '20210507', '20210507', '20210507', '20210507', '20210507', '20210507', '20210507', '20210507', '20210507', '20210507', '20210507', '20210507', '20210507', '20210507', '20210507', '20210507', '20210507', '20210507', '20210507', '20210507', '20210507', '20210507', '20210507', '20210507', '20210507', '20210507', '20210507', '20210507', '20210507', '20210507', '20210507', '20210507', '20210507', '20210507', '20210507', '20210507', '20210507', '20210507', '20210507', '20210507', '20210507', '20210507', '20210507', '20210507', '20210507', '20210507', '20210507', '20210507', '20210507', '20210507', '20210507', '20210507', '20210507', '20210507', '20210507', '20210507', '20210507', '20210507', '20210507', '20210507', '20210507', '20210507', '20210507', '20210507', '20210507', '20210507', '20210507', '20210507', '20210507', '20210507', '20210507', '20210507', '20210507', '20210507', '20210507', '20210507', '20210507', '20210507', '20210507', '20210507', '20210507', '20210507', '20210508', '20210508', '20210507', '20210507', '20210507', '20210508', '20210508', '20210508', '20210508', '20210508', '20210508', '20210508', '20210508', '20210508', '20210508', '20210507', '20210507', '20210507', '20210507', '20210507', '20210508', '20210508', '20210508', '20210508', '20210508', '20210508', '20210508', '20210508', '20210508', '20210508', '20210508', '20210508', '20210508', '20210508', '20210508', '20210508', '20210508', '20210508', '20210508', '20210508', '20210508', '20210508', '20210508', '20210508', '20210508', '20210508', '20210508', '20210508', '20210508', '20210508', '20210508', '20210508', '20210508', '20210508', '20210508', '20210508', '20210508', '20210508', '20210508', '20210508', '20210508', '20210508', '20210508', '20210508', '20210508', '20210508', '20210508', '20210508', '20210508', '20210508', '20210508', '20210508', '20210508', '20210508', '20210508', '20210508', '20210508', '20210508', '20210508', '20210508', '20210508', '20210508', '20210508', '20210508', '20210508', '20210508', '20210508', '20210508', '20210508', '20210508', '20210508', '20210508', '20210508', '20210508', '20210508', '20210508', '20210508', '20210508', '20210508', '20210508', '20210508', '20210508', '20210508', '20210508', '20210508', '20210508', '20210508', '20210508', '20210508', '20210508', '20210508', '20210508', '20210508', '20210508', '20210508', '20210508', '20210508', '20210508', '20210508', '20210508', '20210508', '20210508', '20210509', '20210509', '20210509', '20210509', '20210509', '20210508', '20210508', '20210508', '20210508', '20210508', '20210508', '20210508', '20210508', '20210508', '20210508', '20210508', '20210508', '20210508', '20210508', '20210508', '20210509', '20210509', '20210509', '20210509', '20210509', '20210508', '20210508', '20210508', '20210509', '20210508', '20210508', '20210508', '20210508', '20210508', '20210509', '20210509', '20210509', '20210509', '20210509', '20210509', '20210509', '20210509', '20210509', '20210509', '20210509', '20210509', '20210509', '20210509', '20210509', '20210509', '20210509', '20210509', '20210509', '20210509', '20210509', '20210509', '20210509', '20210509', '20210509', '20210509', '20210509', '20210509', '20210509', '20210509', '20210509', '20210509', '20210509', '20210509', '20210509', '20210509', '20210509', '20210509', '20210509', '20210509', '20210509', '20210509', '20210509', '20210509', '20210509', '20210509', '20210509', '20210509', '20210509', '20210509', '20210509', '20210509', '20210509', '20210509', '20210509', '20210509', '20210509', '20210509', '20210509', '20210509', '20210509', '20210509', '20210509', '20210509', '20210509', '20210509', '20210509', '20210509', '20210509', '20210509', '20210509', '20210509', '20210509', '20210509', '20210509', '20210509', '20210509', '20210509', '20210509', '20210509', '20210509', '20210509', '20210509', '20210509', '20210509', '20210509', '20210509', '20210509', '20210509', '20210509', '20210509', '20210509', '20210509', '20210509', '20210509', '20210509', '20210509', '20210509', '20210509', '20210509', '20210509', '20210509', '20210509', '20210509', '20210509', '20210509', '20210509', '20210509', '20210509', '20210509', '20210509', '20210509', '20210509', '20210509', '20210509', '20210509', '20210509', '20210509', '20210510', '20210510', '20210509', '20210509', '20210510', '20210509', '20210509', '20210509', '20210509', '20210509', '20210510', '20210510', '20210510', '20210510', '20210510', '20210510', '20210510', '20210510', '20210510', '20210510', '20210509', '20210509', '20210509', '20210509', '20210509', '20210510', '20210510', '20210510', '20210510', '20210510', '20210510', '20210510', '20210510', '20210510', '20210510', '20210509', '20210510', '20210510', '20210510', '20210510', '20210510', '20210510', '20210510', '20210510', '20210510', '20210510', '20210510', '20210510', '20210510', '20210510', '20210510', '20210510', '20210510', '20210510', '20210510', '20210510', '20210510', '20210510', '20210510', '20210510', '20210510', '20210510', '20210510', '20210510', '20210510', '20210510', '20210510', '20210510', '20210510', '20210510', '20210510', '20210510', '20210510', '20210510', '20210510', '20210510', '20210510', '20210510', '20210510', '20210510', '20210510', '20210510', '20210510', '20210510', '20210510', '20210510', '20210510', '20210510', '20210510', '20210510', '20210510', '20210510', '20210510', '20210510', '20210510', '20210510', '20210510', '20210510', '20210510', '20210510', '20210510', '20210510', '20210510', '20210510', '20210510', '20210510', '20210510', '20210510', '20210510', '20210510', '20210510', '20210510', '20210510', '20210510', '20210510', '20210510', '20210510', '20210510', '20210510', '20210510', '20210510', '20210510', '20210510', '20210510', '20210510', '20210510', '20210510', '20210510', '20210510', '20210510', '20210510', '20210510', '20210510', '20210510', '20210510', '20210510', '20210510', '20210510', '20210510', '20210510']\n"
     ]
    }
   ],
   "source": [
    "print(list(map(str, df['SDATE'])))"
   ]
  },
  {
   "cell_type": "code",
   "execution_count": 21,
   "metadata": {},
   "outputs": [],
   "source": [
    "df['SDATE_str'] = list(map(str, df['SDATE']))"
   ]
  },
  {
   "cell_type": "code",
   "execution_count": 22,
   "metadata": {},
   "outputs": [
    {
     "data": {
      "text/html": [
       "<div>\n",
       "<style scoped>\n",
       "    .dataframe tbody tr th:only-of-type {\n",
       "        vertical-align: middle;\n",
       "    }\n",
       "\n",
       "    .dataframe tbody tr th {\n",
       "        vertical-align: top;\n",
       "    }\n",
       "\n",
       "    .dataframe thead th {\n",
       "        text-align: right;\n",
       "    }\n",
       "</style>\n",
       "<table border=\"1\" class=\"dataframe\">\n",
       "  <thead>\n",
       "    <tr style=\"text-align: right;\">\n",
       "      <th></th>\n",
       "      <th>LATITUDE</th>\n",
       "      <th>LONGITUDE</th>\n",
       "      <th>STIME</th>\n",
       "      <th>SDATE</th>\n",
       "      <th>HEADING</th>\n",
       "      <th>SPEED</th>\n",
       "      <th>COURSE</th>\n",
       "      <th>TIME_STAMP</th>\n",
       "      <th>diff</th>\n",
       "      <th>SDATE_str</th>\n",
       "    </tr>\n",
       "  </thead>\n",
       "  <tbody>\n",
       "    <tr>\n",
       "      <th>0</th>\n",
       "      <td>25.417318</td>\n",
       "      <td>54.067455</td>\n",
       "      <td>2641</td>\n",
       "      <td>20210503</td>\n",
       "      <td>93</td>\n",
       "      <td>8.0</td>\n",
       "      <td>93.4</td>\n",
       "      <td>2021-05-02 19:34:19</td>\n",
       "      <td>0.4</td>\n",
       "      <td>20210503</td>\n",
       "    </tr>\n",
       "    <tr>\n",
       "      <th>1</th>\n",
       "      <td>25.404707</td>\n",
       "      <td>54.280107</td>\n",
       "      <td>13653</td>\n",
       "      <td>20210503</td>\n",
       "      <td>97</td>\n",
       "      <td>8.3</td>\n",
       "      <td>97.1</td>\n",
       "      <td>2021-05-02 20:58:25</td>\n",
       "      <td>0.1</td>\n",
       "      <td>20210503</td>\n",
       "    </tr>\n",
       "    <tr>\n",
       "      <th>2</th>\n",
       "      <td>25.417318</td>\n",
       "      <td>54.067455</td>\n",
       "      <td>10640</td>\n",
       "      <td>20210503</td>\n",
       "      <td>93</td>\n",
       "      <td>8.0</td>\n",
       "      <td>93.4</td>\n",
       "      <td>2021-05-02 19:34:19</td>\n",
       "      <td>0.4</td>\n",
       "      <td>20210503</td>\n",
       "    </tr>\n",
       "    <tr>\n",
       "      <th>3</th>\n",
       "      <td>25.417318</td>\n",
       "      <td>54.067455</td>\n",
       "      <td>12640</td>\n",
       "      <td>20210503</td>\n",
       "      <td>93</td>\n",
       "      <td>8.0</td>\n",
       "      <td>93.4</td>\n",
       "      <td>2021-05-02 19:34:19</td>\n",
       "      <td>0.4</td>\n",
       "      <td>20210503</td>\n",
       "    </tr>\n",
       "    <tr>\n",
       "      <th>4</th>\n",
       "      <td>25.417318</td>\n",
       "      <td>54.067455</td>\n",
       "      <td>11640</td>\n",
       "      <td>20210503</td>\n",
       "      <td>93</td>\n",
       "      <td>8.0</td>\n",
       "      <td>93.4</td>\n",
       "      <td>2021-05-02 19:34:19</td>\n",
       "      <td>0.4</td>\n",
       "      <td>20210503</td>\n",
       "    </tr>\n",
       "    <tr>\n",
       "      <th>...</th>\n",
       "      <td>...</td>\n",
       "      <td>...</td>\n",
       "      <td>...</td>\n",
       "      <td>...</td>\n",
       "      <td>...</td>\n",
       "      <td>...</td>\n",
       "      <td>...</td>\n",
       "      <td>...</td>\n",
       "      <td>...</td>\n",
       "      <td>...</td>\n",
       "    </tr>\n",
       "    <tr>\n",
       "      <th>1108</th>\n",
       "      <td>25.414007</td>\n",
       "      <td>54.717993</td>\n",
       "      <td>194649</td>\n",
       "      <td>20210510</td>\n",
       "      <td>278</td>\n",
       "      <td>7.9</td>\n",
       "      <td>278.4</td>\n",
       "      <td>2021-05-03 18:02:57</td>\n",
       "      <td>0.4</td>\n",
       "      <td>20210510</td>\n",
       "    </tr>\n",
       "    <tr>\n",
       "      <th>1109</th>\n",
       "      <td>25.414007</td>\n",
       "      <td>54.717993</td>\n",
       "      <td>193655</td>\n",
       "      <td>20210510</td>\n",
       "      <td>278</td>\n",
       "      <td>7.9</td>\n",
       "      <td>278.4</td>\n",
       "      <td>2021-05-03 18:02:57</td>\n",
       "      <td>0.4</td>\n",
       "      <td>20210510</td>\n",
       "    </tr>\n",
       "    <tr>\n",
       "      <th>1110</th>\n",
       "      <td>25.414007</td>\n",
       "      <td>54.717993</td>\n",
       "      <td>192727</td>\n",
       "      <td>20210510</td>\n",
       "      <td>278</td>\n",
       "      <td>7.9</td>\n",
       "      <td>278.4</td>\n",
       "      <td>2021-05-03 18:02:57</td>\n",
       "      <td>0.4</td>\n",
       "      <td>20210510</td>\n",
       "    </tr>\n",
       "    <tr>\n",
       "      <th>1111</th>\n",
       "      <td>25.414007</td>\n",
       "      <td>54.717993</td>\n",
       "      <td>200655</td>\n",
       "      <td>20210510</td>\n",
       "      <td>278</td>\n",
       "      <td>7.9</td>\n",
       "      <td>278.4</td>\n",
       "      <td>2021-05-03 18:02:57</td>\n",
       "      <td>0.4</td>\n",
       "      <td>20210510</td>\n",
       "    </tr>\n",
       "    <tr>\n",
       "      <th>1112</th>\n",
       "      <td>25.414007</td>\n",
       "      <td>54.717993</td>\n",
       "      <td>182702</td>\n",
       "      <td>20210510</td>\n",
       "      <td>278</td>\n",
       "      <td>7.9</td>\n",
       "      <td>278.4</td>\n",
       "      <td>2021-05-03 18:02:57</td>\n",
       "      <td>0.4</td>\n",
       "      <td>20210510</td>\n",
       "    </tr>\n",
       "  </tbody>\n",
       "</table>\n",
       "<p>1113 rows × 10 columns</p>\n",
       "</div>"
      ],
      "text/plain": [
       "       LATITUDE  LONGITUDE   STIME     SDATE  HEADING  SPEED  COURSE  \\\n",
       "0     25.417318  54.067455    2641  20210503       93    8.0    93.4   \n",
       "1     25.404707  54.280107   13653  20210503       97    8.3    97.1   \n",
       "2     25.417318  54.067455   10640  20210503       93    8.0    93.4   \n",
       "3     25.417318  54.067455   12640  20210503       93    8.0    93.4   \n",
       "4     25.417318  54.067455   11640  20210503       93    8.0    93.4   \n",
       "...         ...        ...     ...       ...      ...    ...     ...   \n",
       "1108  25.414007  54.717993  194649  20210510      278    7.9   278.4   \n",
       "1109  25.414007  54.717993  193655  20210510      278    7.9   278.4   \n",
       "1110  25.414007  54.717993  192727  20210510      278    7.9   278.4   \n",
       "1111  25.414007  54.717993  200655  20210510      278    7.9   278.4   \n",
       "1112  25.414007  54.717993  182702  20210510      278    7.9   278.4   \n",
       "\n",
       "              TIME_STAMP  diff SDATE_str  \n",
       "0    2021-05-02 19:34:19   0.4  20210503  \n",
       "1    2021-05-02 20:58:25   0.1  20210503  \n",
       "2    2021-05-02 19:34:19   0.4  20210503  \n",
       "3    2021-05-02 19:34:19   0.4  20210503  \n",
       "4    2021-05-02 19:34:19   0.4  20210503  \n",
       "...                  ...   ...       ...  \n",
       "1108 2021-05-03 18:02:57   0.4  20210510  \n",
       "1109 2021-05-03 18:02:57   0.4  20210510  \n",
       "1110 2021-05-03 18:02:57   0.4  20210510  \n",
       "1111 2021-05-03 18:02:57   0.4  20210510  \n",
       "1112 2021-05-03 18:02:57   0.4  20210510  \n",
       "\n",
       "[1113 rows x 10 columns]"
      ]
     },
     "execution_count": 22,
     "metadata": {},
     "output_type": "execute_result"
    }
   ],
   "source": [
    "df"
   ]
  },
  {
   "cell_type": "code",
   "execution_count": 23,
   "metadata": {},
   "outputs": [
    {
     "name": "stdout",
     "output_type": "stream",
     "text": [
      "       LATITUDE  LONGITUDE   STIME     SDATE  HEADING  SPEED  COURSE  \\\n",
      "0     25.417318  54.067455    2641  20210503       93    8.0    93.4   \n",
      "1     25.404707  54.280107   13653  20210503       97    8.3    97.1   \n",
      "2     25.417318  54.067455   10640  20210503       93    8.0    93.4   \n",
      "3     25.417318  54.067455   12640  20210503       93    8.0    93.4   \n",
      "4     25.417318  54.067455   11640  20210503       93    8.0    93.4   \n",
      "...         ...        ...     ...       ...      ...    ...     ...   \n",
      "1108  25.414007  54.717993  194649  20210510      278    7.9   278.4   \n",
      "1109  25.414007  54.717993  193655  20210510      278    7.9   278.4   \n",
      "1110  25.414007  54.717993  192727  20210510      278    7.9   278.4   \n",
      "1111  25.414007  54.717993  200655  20210510      278    7.9   278.4   \n",
      "1112  25.414007  54.717993  182702  20210510      278    7.9   278.4   \n",
      "\n",
      "              TIME_STAMP  diff SDATE_str datetime_obj formatted_date  \n",
      "0    2021-05-02 19:34:19   0.4  20210503   2021-05-03     2021-05-03  \n",
      "1    2021-05-02 20:58:25   0.1  20210503   2021-05-03     2021-05-03  \n",
      "2    2021-05-02 19:34:19   0.4  20210503   2021-05-03     2021-05-03  \n",
      "3    2021-05-02 19:34:19   0.4  20210503   2021-05-03     2021-05-03  \n",
      "4    2021-05-02 19:34:19   0.4  20210503   2021-05-03     2021-05-03  \n",
      "...                  ...   ...       ...          ...            ...  \n",
      "1108 2021-05-03 18:02:57   0.4  20210510   2021-05-10     2021-05-10  \n",
      "1109 2021-05-03 18:02:57   0.4  20210510   2021-05-10     2021-05-10  \n",
      "1110 2021-05-03 18:02:57   0.4  20210510   2021-05-10     2021-05-10  \n",
      "1111 2021-05-03 18:02:57   0.4  20210510   2021-05-10     2021-05-10  \n",
      "1112 2021-05-03 18:02:57   0.4  20210510   2021-05-10     2021-05-10  \n",
      "\n",
      "[1113 rows x 12 columns]\n"
     ]
    }
   ],
   "source": [
    "import pandas as pd\n",
    "from datetime import datetime\n",
    "\n",
    "# Convert the column values to datetime objects(datetime64[ns] format)\n",
    "df['datetime_obj'] = df['SDATE_str'].apply(lambda x: datetime.strptime(x, \"%Y%m%d\")) # parse time\n",
    "\n",
    "# Convert back to the desired date format(object format)\n",
    "df['formatted_date'] = df['datetime_obj'].apply(lambda x: x.strftime(\"%Y-%m-%d\")) # formatting time\n",
    "\n",
    "# Print the DataFrame\n",
    "print(df)\n"
   ]
  },
  {
   "cell_type": "code",
   "execution_count": 27,
   "metadata": {},
   "outputs": [
    {
     "name": "stdout",
     "output_type": "stream",
     "text": [
      "datetime64[ns]\n",
      "object\n",
      "datetime64[ns]\n",
      "object\n"
     ]
    }
   ],
   "source": [
    "print(df['datetime_obj'].dtype)\n",
    "print(df['formatted_date'].dtype)\n",
    "print(df['TIME_STAMP'].dtype)\n",
    "print(df['TIME_STAMP_DATE'].dtype)"
   ]
  },
  {
   "cell_type": "code",
   "execution_count": 25,
   "metadata": {},
   "outputs": [],
   "source": [
    "import datetime\n",
    "df['TIME_STAMP_DATE']=df['TIME_STAMP'].dt.strftime('%Y-%m-%d')"
   ]
  },
  {
   "cell_type": "code",
   "execution_count": 26,
   "metadata": {},
   "outputs": [
    {
     "data": {
      "text/plain": [
       "0       2021-05-02\n",
       "1       2021-05-02\n",
       "2       2021-05-02\n",
       "3       2021-05-02\n",
       "4       2021-05-02\n",
       "           ...    \n",
       "1108    2021-05-03\n",
       "1109    2021-05-03\n",
       "1110    2021-05-03\n",
       "1111    2021-05-03\n",
       "1112    2021-05-03\n",
       "Name: TIME_STAMP_DATE, Length: 1113, dtype: object"
      ]
     },
     "execution_count": 26,
     "metadata": {},
     "output_type": "execute_result"
    }
   ],
   "source": [
    "df['TIME_STAMP_DATE']"
   ]
  },
  {
   "cell_type": "code",
   "execution_count": 28,
   "metadata": {},
   "outputs": [
    {
     "data": {
      "text/plain": [
       "1 days    168\n",
       "6 days    142\n",
       "4 days    141\n",
       "5 days    137\n",
       "2 days    136\n",
       "3 days    136\n",
       "7 days    127\n",
       "0 days    126\n",
       "dtype: int64"
      ]
     },
     "execution_count": 28,
     "metadata": {},
     "output_type": "execute_result"
    }
   ],
   "source": [
    "# df['date1'] = pd.to_datetime(df['date1'])   turning to datetime form\n",
    "# df['date2'] = pd.to_datetime(df['date2'])   turning to datetime form\n",
    "\n",
    "# Calculating Value_counts of The subtraction\n",
    "\n",
    "(pd.to_datetime(df['formatted_date']) - pd.to_datetime(df['TIME_STAMP_DATE'])).value_counts()"
   ]
  },
  {
   "cell_type": "code",
   "execution_count": 31,
   "metadata": {},
   "outputs": [
    {
     "data": {
      "text/plain": [
       "0       1\n",
       "1       1\n",
       "2       1\n",
       "3       1\n",
       "4       1\n",
       "       ..\n",
       "1108    7\n",
       "1109    7\n",
       "1110    7\n",
       "1111    7\n",
       "1112    7\n",
       "Length: 1113, dtype: int64"
      ]
     },
     "execution_count": 31,
     "metadata": {},
     "output_type": "execute_result"
    }
   ],
   "source": [
    "(pd.to_datetime(df['formatted_date']) - pd.to_datetime(df['TIME_STAMP_DATE'])).dt.days"
   ]
  },
  {
   "cell_type": "code",
   "execution_count": 32,
   "metadata": {},
   "outputs": [],
   "source": [
    "# Perform date subtraction and extract the difference\n",
    "df['difference'] = (pd.to_datetime(df['formatted_date']) - pd.to_datetime(df['TIME_STAMP_DATE'])).dt.days"
   ]
  },
  {
   "cell_type": "code",
   "execution_count": 34,
   "metadata": {},
   "outputs": [
    {
     "data": {
      "text/plain": [
       "1    168\n",
       "6    142\n",
       "4    141\n",
       "5    137\n",
       "3    136\n",
       "2    136\n",
       "7    127\n",
       "0    126\n",
       "Name: difference, dtype: int64"
      ]
     },
     "execution_count": 34,
     "metadata": {},
     "output_type": "execute_result"
    }
   ],
   "source": [
    "df['difference'].value_counts()"
   ]
  },
  {
   "cell_type": "markdown",
   "metadata": {},
   "source": [
    "**The maximum time between sending and receiving data from a radio device connected to a marine vessel can vary depending on various factors, including the specific communication system used, the distance between the vessel and the receiving station, atmospheric conditions, signal strength, and other environmental factors. \n",
    "\n",
    "In general, for radio communications over long distances, there may be a noticeable delay or latency in sending and receiving data. This delay can range from a few milliseconds to several seconds or more, depending on the factors mentioned above.\n",
    "\n",
    "For example, in satellite communication systems commonly used for marine vessels, the signal travels from the vessel to the satellite in space and then down to the receiving station. This round-trip distance introduces inherent latency, and the time delay can range from around 500 milliseconds to several seconds, depending on the satellite's location and the vessel's position.\n",
    "\n",
    "It's important to note that advancements in technology and communication systems continue to reduce latency and improve real-time data transmission. However, it is still subject to the constraints of the communication infrastructure and the specific setup used on the vessel.\n",
    "\n",
    "To determine the maximum time between sending and receiving data in a specific scenario, it would be necessary to consider the particular radio communication system, equipment, and the specific conditions in which the vessel is operating.**"
   ]
  },
  {
   "cell_type": "code",
   "execution_count": 44,
   "metadata": {},
   "outputs": [
    {
     "data": {
      "text/plain": [
       "Index(['LATITUDE', 'LONGITUDE', 'STIME', 'SDATE', 'HEADING', 'SPEED', 'COURSE',\n",
       "       'TIME_STAMP', 'diff', 'SDATE_str', 'datetime_obj', 'formatted_date',\n",
       "       'TIME_STAMP_DATE', 'difference'],\n",
       "      dtype='object')"
      ]
     },
     "execution_count": 44,
     "metadata": {},
     "output_type": "execute_result"
    }
   ],
   "source": [
    "df.columns"
   ]
  },
  {
   "cell_type": "code",
   "execution_count": 48,
   "metadata": {},
   "outputs": [
    {
     "name": "stdout",
     "output_type": "stream",
     "text": [
      "      LATITUDE  LONGITUDE     STIME   HEADING     SPEED    COURSE  difference  \\\n",
      "0     0.414351  -3.511422 -1.662376 -3.179230  0.547018 -3.180402   -1.079764   \n",
      "1    -0.101140  -2.390447 -1.504443 -3.103092  2.007046 -3.109952   -1.079764   \n",
      "2     0.414351  -3.511422 -1.547655 -3.179230  0.547018 -3.180402   -1.079764   \n",
      "3     0.414351  -3.511422 -1.518972 -3.179230  0.547018 -3.180402   -1.079764   \n",
      "4     0.414351  -3.511422 -1.533314 -3.179230  0.547018 -3.180402   -1.079764   \n",
      "...        ...        ...       ...       ...       ...       ...         ...   \n",
      "1108  0.278990  -0.082166  1.091383  0.342179  0.060343  0.342095    1.566352   \n",
      "1109  0.278990  -0.082166  1.077127  0.342179  0.060343  0.342095    1.566352   \n",
      "1110  0.278990  -0.082166  1.063817  0.342179  0.060343  0.342095    1.566352   \n",
      "1111  0.278990  -0.082166  1.177520  0.342179  0.060343  0.342095    1.566352   \n",
      "1112  0.278990  -0.082166  0.920040  0.342179  0.060343  0.342095    1.566352   \n",
      "\n",
      "          diff  \n",
      "0    -0.110008  \n",
      "1    -3.419164  \n",
      "2    -0.110008  \n",
      "3    -0.110008  \n",
      "4    -0.110008  \n",
      "...        ...  \n",
      "1108 -0.110008  \n",
      "1109 -0.110008  \n",
      "1110 -0.110008  \n",
      "1111 -0.110008  \n",
      "1112 -0.110008  \n",
      "\n",
      "[1113 rows x 8 columns]\n"
     ]
    }
   ],
   "source": [
    "# Z-score normalization\n",
    "List = ['LATITUDE', 'LONGITUDE', 'STIME', 'HEADING', 'SPEED', 'COURSE','difference', 'diff']\n",
    "df_normalized = (df[List] - df[List].mean()) / df[List].std()\n",
    "\n",
    "# Print the normalized DataFrame\n",
    "print(df_normalized)"
   ]
  },
  {
   "cell_type": "code",
   "execution_count": 49,
   "metadata": {},
   "outputs": [
    {
     "data": {
      "text/html": [
       "<div>\n",
       "<style scoped>\n",
       "    .dataframe tbody tr th:only-of-type {\n",
       "        vertical-align: middle;\n",
       "    }\n",
       "\n",
       "    .dataframe tbody tr th {\n",
       "        vertical-align: top;\n",
       "    }\n",
       "\n",
       "    .dataframe thead th {\n",
       "        text-align: right;\n",
       "    }\n",
       "</style>\n",
       "<table border=\"1\" class=\"dataframe\">\n",
       "  <thead>\n",
       "    <tr style=\"text-align: right;\">\n",
       "      <th></th>\n",
       "      <th>LATITUDE</th>\n",
       "      <th>LONGITUDE</th>\n",
       "      <th>STIME</th>\n",
       "      <th>HEADING</th>\n",
       "      <th>SPEED</th>\n",
       "      <th>COURSE</th>\n",
       "      <th>difference</th>\n",
       "      <th>diff</th>\n",
       "    </tr>\n",
       "  </thead>\n",
       "  <tbody>\n",
       "    <tr>\n",
       "      <th>LATITUDE</th>\n",
       "      <td>1.000000</td>\n",
       "      <td>-0.781099</td>\n",
       "      <td>-0.043040</td>\n",
       "      <td>0.559336</td>\n",
       "      <td>-0.128988</td>\n",
       "      <td>0.558633</td>\n",
       "      <td>0.421505</td>\n",
       "      <td>-0.507791</td>\n",
       "    </tr>\n",
       "    <tr>\n",
       "      <th>LONGITUDE</th>\n",
       "      <td>-0.781099</td>\n",
       "      <td>1.000000</td>\n",
       "      <td>0.008830</td>\n",
       "      <td>-0.031688</td>\n",
       "      <td>0.114986</td>\n",
       "      <td>-0.030950</td>\n",
       "      <td>-0.144755</td>\n",
       "      <td>0.433472</td>\n",
       "    </tr>\n",
       "    <tr>\n",
       "      <th>STIME</th>\n",
       "      <td>-0.043040</td>\n",
       "      <td>0.008830</td>\n",
       "      <td>1.000000</td>\n",
       "      <td>0.068306</td>\n",
       "      <td>0.061035</td>\n",
       "      <td>0.068444</td>\n",
       "      <td>-0.082444</td>\n",
       "      <td>0.068091</td>\n",
       "    </tr>\n",
       "    <tr>\n",
       "      <th>HEADING</th>\n",
       "      <td>0.559336</td>\n",
       "      <td>-0.031688</td>\n",
       "      <td>0.068306</td>\n",
       "      <td>1.000000</td>\n",
       "      <td>0.101769</td>\n",
       "      <td>0.999999</td>\n",
       "      <td>0.480936</td>\n",
       "      <td>-0.179668</td>\n",
       "    </tr>\n",
       "    <tr>\n",
       "      <th>SPEED</th>\n",
       "      <td>-0.128988</td>\n",
       "      <td>0.114986</td>\n",
       "      <td>0.061035</td>\n",
       "      <td>0.101769</td>\n",
       "      <td>1.000000</td>\n",
       "      <td>0.102101</td>\n",
       "      <td>0.079111</td>\n",
       "      <td>0.174162</td>\n",
       "    </tr>\n",
       "    <tr>\n",
       "      <th>COURSE</th>\n",
       "      <td>0.558633</td>\n",
       "      <td>-0.030950</td>\n",
       "      <td>0.068444</td>\n",
       "      <td>0.999999</td>\n",
       "      <td>0.102101</td>\n",
       "      <td>1.000000</td>\n",
       "      <td>0.480772</td>\n",
       "      <td>-0.177998</td>\n",
       "    </tr>\n",
       "    <tr>\n",
       "      <th>difference</th>\n",
       "      <td>0.421505</td>\n",
       "      <td>-0.144755</td>\n",
       "      <td>-0.082444</td>\n",
       "      <td>0.480936</td>\n",
       "      <td>0.079111</td>\n",
       "      <td>0.480772</td>\n",
       "      <td>1.000000</td>\n",
       "      <td>-0.181010</td>\n",
       "    </tr>\n",
       "    <tr>\n",
       "      <th>diff</th>\n",
       "      <td>-0.507791</td>\n",
       "      <td>0.433472</td>\n",
       "      <td>0.068091</td>\n",
       "      <td>-0.179668</td>\n",
       "      <td>0.174162</td>\n",
       "      <td>-0.177998</td>\n",
       "      <td>-0.181010</td>\n",
       "      <td>1.000000</td>\n",
       "    </tr>\n",
       "  </tbody>\n",
       "</table>\n",
       "</div>"
      ],
      "text/plain": [
       "            LATITUDE  LONGITUDE     STIME   HEADING     SPEED    COURSE  \\\n",
       "LATITUDE    1.000000  -0.781099 -0.043040  0.559336 -0.128988  0.558633   \n",
       "LONGITUDE  -0.781099   1.000000  0.008830 -0.031688  0.114986 -0.030950   \n",
       "STIME      -0.043040   0.008830  1.000000  0.068306  0.061035  0.068444   \n",
       "HEADING     0.559336  -0.031688  0.068306  1.000000  0.101769  0.999999   \n",
       "SPEED      -0.128988   0.114986  0.061035  0.101769  1.000000  0.102101   \n",
       "COURSE      0.558633  -0.030950  0.068444  0.999999  0.102101  1.000000   \n",
       "difference  0.421505  -0.144755 -0.082444  0.480936  0.079111  0.480772   \n",
       "diff       -0.507791   0.433472  0.068091 -0.179668  0.174162 -0.177998   \n",
       "\n",
       "            difference      diff  \n",
       "LATITUDE      0.421505 -0.507791  \n",
       "LONGITUDE    -0.144755  0.433472  \n",
       "STIME        -0.082444  0.068091  \n",
       "HEADING       0.480936 -0.179668  \n",
       "SPEED         0.079111  0.174162  \n",
       "COURSE        0.480772 -0.177998  \n",
       "difference    1.000000 -0.181010  \n",
       "diff         -0.181010  1.000000  "
      ]
     },
     "execution_count": 49,
     "metadata": {},
     "output_type": "execute_result"
    }
   ],
   "source": [
    "# minimizing the difference between time stamp date and sdate is our goal\n",
    "\n",
    "# calculating correlation\n",
    "df_normalized.corr()"
   ]
  },
  {
   "cell_type": "code",
   "execution_count": 51,
   "metadata": {},
   "outputs": [
    {
     "data": {
      "image/png": "[encoded data removed]",
      "text/plain": [
       "<Figure size 576x576 with 2 Axes>"
      ]
     },
     "metadata": {
      "needs_background": "light"
     },
     "output_type": "display_data"
    }
   ],
   "source": [
    "import seaborn as sns\n",
    "plt.figure(figsize = (8, 8))\n",
    "sns.heatmap(df_normalized.corr(), annot = True, cmap=\"YlGnBu\")\n",
    "plt.show()"
   ]
  },
  {
   "cell_type": "code",
   "execution_count": null,
   "metadata": {},
   "outputs": [],
   "source": []
  },
  {
   "cell_type": "code",
   "execution_count": 56,
   "metadata": {},
   "outputs": [
    {
     "data": {
      "image/png": "[encoded data removed]",
      "text/plain": [
       "<Figure size 418.625x360 with 1 Axes>"
      ]
     },
     "metadata": {
      "needs_background": "light"
     },
     "output_type": "display_data"
    }
   ],
   "source": [
    "sns.relplot(x=\"LATITUDE\", y=\"LONGITUDE\", size=\"difference\", sizes=(15, 200), data=df);"
   ]
  },
  {
   "cell_type": "code",
   "execution_count": 63,
   "metadata": {},
   "outputs": [
    {
     "data": {
      "image/png": "[encoded data removed]",
      "text/plain": [
       "<Figure size 418.625x360 with 1 Axes>"
      ]
     },
     "metadata": {
      "needs_background": "light"
     },
     "output_type": "display_data"
    }
   ],
   "source": [
    "sns.relplot(x=\"COURSE\", y=\"HEADING\", size=\"difference\", sizes=(15, 200), data=df);"
   ]
  },
  {
   "cell_type": "code",
   "execution_count": null,
   "metadata": {},
   "outputs": [],
   "source": []
  }
 ],
 "metadata": {
  "kernelspec": {
   "display_name": "Python 3",
   "language": "python",
   "name": "python3"
  },
  "language_info": {
   "codemirror_mode": {
    "name": "ipython",
    "version": 3
   },
   "file_extension": ".py",
   "mimetype": "text/x-python",
   "name": "python",
   "nbconvert_exporter": "python",
   "pygments_lexer": "ipython3",
   "version": "3.8.5"
  }
 },
 "nbformat": 4,
 "nbformat_minor": 4
}
