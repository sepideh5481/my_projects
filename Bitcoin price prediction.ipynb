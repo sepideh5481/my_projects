{
 "cells": [
  {
   "cell_type": "code",
   "execution_count": 1,
   "metadata": {},
   "outputs": [],
   "source": [
    "import pandas as pd\n",
    "import numpy as np\n",
    "import matplotlib.pyplot as plt\n",
    "import seaborn as sn\n",
    "%matplotlib inline"
   ]
  },
  {
   "cell_type": "code",
   "execution_count": 2,
   "metadata": {},
   "outputs": [
    {
     "data": {
      "text/html": [
       "<div>\n",
       "<style scoped>\n",
       "    .dataframe tbody tr th:only-of-type {\n",
       "        vertical-align: middle;\n",
       "    }\n",
       "\n",
       "    .dataframe tbody tr th {\n",
       "        vertical-align: top;\n",
       "    }\n",
       "\n",
       "    .dataframe thead th {\n",
       "        text-align: right;\n",
       "    }\n",
       "</style>\n",
       "<table border=\"1\" class=\"dataframe\">\n",
       "  <thead>\n",
       "    <tr style=\"text-align: right;\">\n",
       "      <th></th>\n",
       "      <th>Bitcoin</th>\n",
       "      <th>Ether</th>\n",
       "    </tr>\n",
       "    <tr>\n",
       "      <th>Timestamp</th>\n",
       "      <th></th>\n",
       "      <th></th>\n",
       "    </tr>\n",
       "  </thead>\n",
       "  <tbody>\n",
       "    <tr>\n",
       "      <th>2017-04-02</th>\n",
       "      <td>1099.169125</td>\n",
       "      <td>48.55</td>\n",
       "    </tr>\n",
       "    <tr>\n",
       "      <th>2017-04-03</th>\n",
       "      <td>1141.813000</td>\n",
       "      <td>44.13</td>\n",
       "    </tr>\n",
       "    <tr>\n",
       "      <th>2017-04-04</th>\n",
       "      <td>1141.600363</td>\n",
       "      <td>44.43</td>\n",
       "    </tr>\n",
       "    <tr>\n",
       "      <th>2017-04-05</th>\n",
       "      <td>1133.079314</td>\n",
       "      <td>44.90</td>\n",
       "    </tr>\n",
       "    <tr>\n",
       "      <th>2017-04-06</th>\n",
       "      <td>1196.307937</td>\n",
       "      <td>43.23</td>\n",
       "    </tr>\n",
       "  </tbody>\n",
       "</table>\n",
       "</div>"
      ],
      "text/plain": [
       "                Bitcoin  Ether\n",
       "Timestamp                     \n",
       "2017-04-02  1099.169125  48.55\n",
       "2017-04-03  1141.813000  44.13\n",
       "2017-04-04  1141.600363  44.43\n",
       "2017-04-05  1133.079314  44.90\n",
       "2017-04-06  1196.307937  43.23"
      ]
     },
     "execution_count": 2,
     "metadata": {},
     "output_type": "execute_result"
    }
   ],
   "source": [
    "data=pd.read_csv(\"C:/Users/Lenovo/kntu/btc-eth-prices-outliers.csv.txt\",index_col=0,parse_dates=True)\n",
    "data.head()"
   ]
  },
  {
   "cell_type": "code",
   "execution_count": 3,
   "metadata": {},
   "outputs": [
    {
     "name": "stdout",
     "output_type": "stream",
     "text": [
      "<class 'pandas.core.frame.DataFrame'>\n",
      "DatetimeIndex: 365 entries, 2017-04-02 to 2018-04-01\n",
      "Data columns (total 2 columns):\n",
      " #   Column   Non-Null Count  Dtype  \n",
      "---  ------   --------------  -----  \n",
      " 0   Bitcoin  365 non-null    float64\n",
      " 1   Ether    362 non-null    float64\n",
      "dtypes: float64(2)\n",
      "memory usage: 8.6 KB\n"
     ]
    }
   ],
   "source": [
    "data.info()"
   ]
  },
  {
   "cell_type": "code",
   "execution_count": 4,
   "metadata": {},
   "outputs": [
    {
     "data": {
      "text/html": [
       "<div>\n",
       "<style scoped>\n",
       "    .dataframe tbody tr th:only-of-type {\n",
       "        vertical-align: middle;\n",
       "    }\n",
       "\n",
       "    .dataframe tbody tr th {\n",
       "        vertical-align: top;\n",
       "    }\n",
       "\n",
       "    .dataframe thead th {\n",
       "        text-align: right;\n",
       "    }\n",
       "</style>\n",
       "<table border=\"1\" class=\"dataframe\">\n",
       "  <thead>\n",
       "    <tr style=\"text-align: right;\">\n",
       "      <th></th>\n",
       "      <th>Bitcoin</th>\n",
       "      <th>Ether</th>\n",
       "    </tr>\n",
       "    <tr>\n",
       "      <th>Timestamp</th>\n",
       "      <th></th>\n",
       "      <th></th>\n",
       "    </tr>\n",
       "  </thead>\n",
       "  <tbody>\n",
       "    <tr>\n",
       "      <th>2017-12-08</th>\n",
       "      <td>16007.436667</td>\n",
       "      <td>NaN</td>\n",
       "    </tr>\n",
       "    <tr>\n",
       "      <th>2017-12-09</th>\n",
       "      <td>15142.834152</td>\n",
       "      <td>NaN</td>\n",
       "    </tr>\n",
       "    <tr>\n",
       "      <th>2017-12-10</th>\n",
       "      <td>14869.805000</td>\n",
       "      <td>NaN</td>\n",
       "    </tr>\n",
       "  </tbody>\n",
       "</table>\n",
       "</div>"
      ],
      "text/plain": [
       "                 Bitcoin  Ether\n",
       "Timestamp                      \n",
       "2017-12-08  16007.436667    NaN\n",
       "2017-12-09  15142.834152    NaN\n",
       "2017-12-10  14869.805000    NaN"
      ]
     },
     "execution_count": 4,
     "metadata": {},
     "output_type": "execute_result"
    }
   ],
   "source": [
    "data[data[\"Ether\"].isna()]"
   ]
  },
  {
   "cell_type": "code",
   "execution_count": 5,
   "metadata": {},
   "outputs": [],
   "source": [
    "data[\"Ether\"].fillna(method=\"ffill\",inplace=True)"
   ]
  },
  {
   "cell_type": "code",
   "execution_count": 6,
   "metadata": {
    "scrolled": true
   },
   "outputs": [
    {
     "data": {
      "text/html": [
       "<div>\n",
       "<style scoped>\n",
       "    .dataframe tbody tr th:only-of-type {\n",
       "        vertical-align: middle;\n",
       "    }\n",
       "\n",
       "    .dataframe tbody tr th {\n",
       "        vertical-align: top;\n",
       "    }\n",
       "\n",
       "    .dataframe thead th {\n",
       "        text-align: right;\n",
       "    }\n",
       "</style>\n",
       "<table border=\"1\" class=\"dataframe\">\n",
       "  <thead>\n",
       "    <tr style=\"text-align: right;\">\n",
       "      <th></th>\n",
       "      <th>Bitcoin</th>\n",
       "      <th>Ether</th>\n",
       "    </tr>\n",
       "    <tr>\n",
       "      <th>Timestamp</th>\n",
       "      <th></th>\n",
       "      <th></th>\n",
       "    </tr>\n",
       "  </thead>\n",
       "  <tbody>\n",
       "  </tbody>\n",
       "</table>\n",
       "</div>"
      ],
      "text/plain": [
       "Empty DataFrame\n",
       "Columns: [Bitcoin, Ether]\n",
       "Index: []"
      ]
     },
     "execution_count": 6,
     "metadata": {},
     "output_type": "execute_result"
    }
   ],
   "source": [
    "data[data[\"Ether\"].isna()]"
   ]
  },
  {
   "cell_type": "code",
   "execution_count": 7,
   "metadata": {},
   "outputs": [
    {
     "data": {
      "text/plain": [
       "Bitcoin    15142.834152\n",
       "Ether        421.150000\n",
       "Name: 2017-12-09 00:00:00, dtype: float64"
      ]
     },
     "execution_count": 7,
     "metadata": {},
     "output_type": "execute_result"
    }
   ],
   "source": [
    "data.iloc[251]"
   ]
  },
  {
   "cell_type": "code",
   "execution_count": 8,
   "metadata": {},
   "outputs": [
    {
     "data": {
      "text/plain": [
       "Bitcoin    16501.971667\n",
       "Ether        421.150000\n",
       "Name: 2017-12-07 00:00:00, dtype: float64"
      ]
     },
     "execution_count": 8,
     "metadata": {},
     "output_type": "execute_result"
    }
   ],
   "source": [
    "data.iloc[249]"
   ]
  },
  {
   "cell_type": "code",
   "execution_count": 9,
   "metadata": {},
   "outputs": [
    {
     "data": {
      "text/plain": [
       "Bitcoin    16762.116667\n",
       "Ether        513.290000\n",
       "Name: 2017-12-11 00:00:00, dtype: float64"
      ]
     },
     "execution_count": 9,
     "metadata": {},
     "output_type": "execute_result"
    }
   ],
   "source": [
    "data.iloc[253]"
   ]
  },
  {
   "cell_type": "code",
   "execution_count": 10,
   "metadata": {
    "scrolled": true
   },
   "outputs": [
    {
     "data": {
      "text/plain": [
       "Bitcoin    14869.805\n",
       "Ether        421.150\n",
       "Name: 2017-12-10 00:00:00, dtype: float64"
      ]
     },
     "execution_count": 10,
     "metadata": {},
     "output_type": "execute_result"
    }
   ],
   "source": [
    "data.iloc[252]"
   ]
  },
  {
   "cell_type": "code",
   "execution_count": 11,
   "metadata": {},
   "outputs": [
    {
     "data": {
      "text/html": [
       "<div>\n",
       "<style scoped>\n",
       "    .dataframe tbody tr th:only-of-type {\n",
       "        vertical-align: middle;\n",
       "    }\n",
       "\n",
       "    .dataframe tbody tr th {\n",
       "        vertical-align: top;\n",
       "    }\n",
       "\n",
       "    .dataframe thead th {\n",
       "        text-align: right;\n",
       "    }\n",
       "</style>\n",
       "<table border=\"1\" class=\"dataframe\">\n",
       "  <thead>\n",
       "    <tr style=\"text-align: right;\">\n",
       "      <th></th>\n",
       "      <th>Bitcoin</th>\n",
       "      <th>Ether</th>\n",
       "    </tr>\n",
       "    <tr>\n",
       "      <th>Timestamp</th>\n",
       "      <th></th>\n",
       "      <th></th>\n",
       "    </tr>\n",
       "  </thead>\n",
       "  <tbody>\n",
       "    <tr>\n",
       "      <th>2017-04-02</th>\n",
       "      <td>1099.169125</td>\n",
       "      <td>48.55</td>\n",
       "    </tr>\n",
       "    <tr>\n",
       "      <th>2017-04-03</th>\n",
       "      <td>1141.813000</td>\n",
       "      <td>44.13</td>\n",
       "    </tr>\n",
       "    <tr>\n",
       "      <th>2017-04-04</th>\n",
       "      <td>1141.600363</td>\n",
       "      <td>44.43</td>\n",
       "    </tr>\n",
       "    <tr>\n",
       "      <th>2017-04-05</th>\n",
       "      <td>1133.079314</td>\n",
       "      <td>44.90</td>\n",
       "    </tr>\n",
       "    <tr>\n",
       "      <th>2017-04-06</th>\n",
       "      <td>1196.307937</td>\n",
       "      <td>43.23</td>\n",
       "    </tr>\n",
       "    <tr>\n",
       "      <th>...</th>\n",
       "      <td>...</td>\n",
       "      <td>...</td>\n",
       "    </tr>\n",
       "    <tr>\n",
       "      <th>2018-03-28</th>\n",
       "      <td>7960.380000</td>\n",
       "      <td>445.93</td>\n",
       "    </tr>\n",
       "    <tr>\n",
       "      <th>2018-03-29</th>\n",
       "      <td>7172.280000</td>\n",
       "      <td>383.90</td>\n",
       "    </tr>\n",
       "    <tr>\n",
       "      <th>2018-03-30</th>\n",
       "      <td>6882.531667</td>\n",
       "      <td>393.82</td>\n",
       "    </tr>\n",
       "    <tr>\n",
       "      <th>2018-03-31</th>\n",
       "      <td>6935.480000</td>\n",
       "      <td>394.07</td>\n",
       "    </tr>\n",
       "    <tr>\n",
       "      <th>2018-04-01</th>\n",
       "      <td>6794.105000</td>\n",
       "      <td>378.85</td>\n",
       "    </tr>\n",
       "  </tbody>\n",
       "</table>\n",
       "<p>365 rows × 2 columns</p>\n",
       "</div>"
      ],
      "text/plain": [
       "                Bitcoin   Ether\n",
       "Timestamp                      \n",
       "2017-04-02  1099.169125   48.55\n",
       "2017-04-03  1141.813000   44.13\n",
       "2017-04-04  1141.600363   44.43\n",
       "2017-04-05  1133.079314   44.90\n",
       "2017-04-06  1196.307937   43.23\n",
       "...                 ...     ...\n",
       "2018-03-28  7960.380000  445.93\n",
       "2018-03-29  7172.280000  383.90\n",
       "2018-03-30  6882.531667  393.82\n",
       "2018-03-31  6935.480000  394.07\n",
       "2018-04-01  6794.105000  378.85\n",
       "\n",
       "[365 rows x 2 columns]"
      ]
     },
     "execution_count": 11,
     "metadata": {},
     "output_type": "execute_result"
    }
   ],
   "source": [
    "data"
   ]
  },
  {
   "cell_type": "code",
   "execution_count": 12,
   "metadata": {},
   "outputs": [
    {
     "data": {
      "image/png": "[encoded data removed]",
      "text/plain": [
       "<Figure size 432x288 with 1 Axes>"
      ]
     },
     "metadata": {
      "needs_background": "light"
     },
     "output_type": "display_data"
    }
   ],
   "source": [
    "data.plot()\n",
    "plt.show()"
   ]
  },
  {
   "cell_type": "code",
   "execution_count": 13,
   "metadata": {},
   "outputs": [],
   "source": [
    "data_btc=data.drop(columns=\"Ether\")"
   ]
  },
  {
   "cell_type": "code",
   "execution_count": 14,
   "metadata": {},
   "outputs": [],
   "source": [
    "data_ether=data.drop(columns=\"Bitcoin\")"
   ]
  },
  {
   "cell_type": "code",
   "execution_count": 15,
   "metadata": {},
   "outputs": [
    {
     "data": {
      "text/html": [
       "<div>\n",
       "<style scoped>\n",
       "    .dataframe tbody tr th:only-of-type {\n",
       "        vertical-align: middle;\n",
       "    }\n",
       "\n",
       "    .dataframe tbody tr th {\n",
       "        vertical-align: top;\n",
       "    }\n",
       "\n",
       "    .dataframe thead th {\n",
       "        text-align: right;\n",
       "    }\n",
       "</style>\n",
       "<table border=\"1\" class=\"dataframe\">\n",
       "  <thead>\n",
       "    <tr style=\"text-align: right;\">\n",
       "      <th></th>\n",
       "      <th>Bitcoin</th>\n",
       "    </tr>\n",
       "    <tr>\n",
       "      <th>Timestamp</th>\n",
       "      <th></th>\n",
       "    </tr>\n",
       "  </thead>\n",
       "  <tbody>\n",
       "    <tr>\n",
       "      <th>2017-04-02</th>\n",
       "      <td>1099.169125</td>\n",
       "    </tr>\n",
       "    <tr>\n",
       "      <th>2017-04-03</th>\n",
       "      <td>1141.813000</td>\n",
       "    </tr>\n",
       "    <tr>\n",
       "      <th>2017-04-04</th>\n",
       "      <td>1141.600363</td>\n",
       "    </tr>\n",
       "    <tr>\n",
       "      <th>2017-04-05</th>\n",
       "      <td>1133.079314</td>\n",
       "    </tr>\n",
       "    <tr>\n",
       "      <th>2017-04-06</th>\n",
       "      <td>1196.307937</td>\n",
       "    </tr>\n",
       "  </tbody>\n",
       "</table>\n",
       "</div>"
      ],
      "text/plain": [
       "                Bitcoin\n",
       "Timestamp              \n",
       "2017-04-02  1099.169125\n",
       "2017-04-03  1141.813000\n",
       "2017-04-04  1141.600363\n",
       "2017-04-05  1133.079314\n",
       "2017-04-06  1196.307937"
      ]
     },
     "execution_count": 15,
     "metadata": {},
     "output_type": "execute_result"
    }
   ],
   "source": [
    "data_btc.head()"
   ]
  },
  {
   "cell_type": "code",
   "execution_count": 16,
   "metadata": {},
   "outputs": [
    {
     "data": {
      "image/png": "[encoded data removed]",
      "text/plain": [
       "<Figure size 432x288 with 1 Axes>"
      ]
     },
     "metadata": {
      "needs_background": "light"
     },
     "output_type": "display_data"
    }
   ],
   "source": [
    "from pandas.plotting import lag_plot\n",
    "lag_plot(data_btc)\n",
    "plt.show()"
   ]
  },
  {
   "cell_type": "code",
   "execution_count": 17,
   "metadata": {},
   "outputs": [
    {
     "data": {
      "image/png": "[encoded data removed]",
      "text/plain": [
       "<Figure size 432x288 with 1 Axes>"
      ]
     },
     "metadata": {
      "needs_background": "light"
     },
     "output_type": "display_data"
    }
   ],
   "source": [
    "from pandas.plotting import lag_plot\n",
    "lag_plot(data_ether)\n",
    "plt.show()"
   ]
  },
  {
   "cell_type": "code",
   "execution_count": 18,
   "metadata": {},
   "outputs": [
    {
     "data": {
      "text/plain": [
       "array([[  1099.169125  ],\n",
       "       [  1141.813     ],\n",
       "       [  1141.6003625 ],\n",
       "       [  1133.07931429],\n",
       "       [  1196.3079375 ],\n",
       "       [  1190.45425   ],\n",
       "       [  1181.1498375 ],\n",
       "       [  1208.8005    ],\n",
       "       [  1207.744875  ],\n",
       "       [  1226.6170375 ],\n",
       "       [  1218.92205   ],\n",
       "       [  1180.0237125 ],\n",
       "       [  1185.26005714],\n",
       "       [  1184.88067143],\n",
       "       [  1186.9274125 ],\n",
       "       [  1205.634875  ],\n",
       "       [  1216.18674286],\n",
       "       [  1217.9300875 ],\n",
       "       [  1241.686325  ],\n",
       "       [  1258.3614125 ],\n",
       "       [  1261.311225  ],\n",
       "       [  1257.9881125 ],\n",
       "       [  1262.902775  ],\n",
       "       [  1279.4146875 ],\n",
       "       [  1309.109875  ],\n",
       "       [  1345.3539125 ],\n",
       "       [  1331.29442857],\n",
       "       [  1334.9790375 ],\n",
       "       [  1353.0045    ],\n",
       "       [  1417.1728125 ],\n",
       "       [  1452.0762875 ],\n",
       "       [  1507.57685714],\n",
       "       [  1508.292125  ],\n",
       "       [  1533.33507143],\n",
       "       [  1560.4102    ],\n",
       "       [  1535.86842857],\n",
       "       [  1640.619225  ],\n",
       "       [  1721.28497143],\n",
       "       [  1762.88625   ],\n",
       "       [  1820.9905625 ],\n",
       "       [  1720.4785    ],\n",
       "       [  1771.9200125 ],\n",
       "       [  1776.3165    ],\n",
       "       [  1723.1269375 ],\n",
       "       [  1739.031975  ],\n",
       "       [  1807.4850625 ],\n",
       "       [  1899.0828875 ],\n",
       "       [  1961.5204875 ],\n",
       "       [  2052.9097875 ],\n",
       "       [  2046.5344625 ],\n",
       "       [  2090.6623125 ],\n",
       "       [  2287.7102875 ],\n",
       "       [  2379.19383333],\n",
       "       [  2387.20628571],\n",
       "       [  2211.97685714],\n",
       "       [  2014.0529625 ],\n",
       "       [  2192.9808    ],\n",
       "       [  2275.9307    ],\n",
       "       [  2239.20534286],\n",
       "       [  2285.93391429],\n",
       "       [  2399.24267143],\n",
       "       [  2446.14241429],\n",
       "       [  2525.76515847],\n",
       "       [  2516.17314286],\n",
       "       [  2698.3138125 ],\n",
       "       [  2883.31369664],\n",
       "       [  2664.9208625 ],\n",
       "       [  2792.9991875 ],\n",
       "       [  2827.4913    ],\n",
       "       [  2845.37285714],\n",
       "       [  2961.8296125 ],\n",
       "       [  2657.6750625 ],\n",
       "       [  2748.18508571],\n",
       "       [  2447.0415625 ],\n",
       "       [  2442.48025   ],\n",
       "       [  2464.95981429],\n",
       "       [  2665.927     ],\n",
       "       [  2507.38925214],\n",
       "       [  2617.2102625 ],\n",
       "       [  2754.97825   ],\n",
       "       [  2671.04325   ],\n",
       "       [  2727.2880125 ],\n",
       "       [  2710.41228571],\n",
       "       [  2589.1648875 ],\n",
       "       [  2512.36628571],\n",
       "       [  2436.45105714],\n",
       "       [  2517.90311429],\n",
       "       [  2585.34918571],\n",
       "       [  2544.414475  ],\n",
       "       [  2477.641375  ],\n",
       "       [  2434.0778625 ],\n",
       "       [  2501.19134286],\n",
       "       [  2561.22542857],\n",
       "       [  2599.7298375 ],\n",
       "       [  2619.187503  ],\n",
       "       [  2609.96775   ],\n",
       "       [  2491.20121429],\n",
       "       [  2562.1306625 ],\n",
       "       [  2536.2389375 ],\n",
       "       [  2366.17014286],\n",
       "       [  2369.86212857],\n",
       "       [  2385.74857143],\n",
       "       [  2354.78341667],\n",
       "       [  2190.94783333],\n",
       "       [  2058.9956    ],\n",
       "       [  1931.2143    ],\n",
       "       [  2176.6234875 ],\n",
       "       [  2320.12225   ],\n",
       "       [  2264.7657    ],\n",
       "       [  2898.18841667],\n",
       "       [  2682.1953625 ],\n",
       "       [  2807.60985714],\n",
       "       [  2725.54971667],\n",
       "       [  2751.82102857],\n",
       "       [  2560.99791667],\n",
       "       [  2495.02858571],\n",
       "       [  2647.625     ],\n",
       "       [  2781.63658333],\n",
       "       [  2722.51278571],\n",
       "       [  2745.95541667],\n",
       "       [  2866.43166667],\n",
       "       [  2710.41306667],\n",
       "       [  2693.63398333],\n",
       "       [  2794.11771667],\n",
       "       [  2873.85108333],\n",
       "       [  3218.11501667],\n",
       "       [  3252.56253333],\n",
       "       [  3407.22683333],\n",
       "       [  3457.37433333],\n",
       "       [  3357.32631667],\n",
       "       [  3424.4042    ],\n",
       "       [  3632.50666667],\n",
       "       [  3852.80291429],\n",
       "       [  4125.54802   ],\n",
       "       [  4282.992     ],\n",
       "       [  4217.02832857],\n",
       "       [  4360.87687143],\n",
       "       [  4328.72571667],\n",
       "       [  4130.44006667],\n",
       "       [  4222.66221429],\n",
       "       [  4157.95803333],\n",
       "       [  4043.722     ],\n",
       "       [  4082.18098333],\n",
       "       [  4174.95      ],\n",
       "       [  4340.31671667],\n",
       "       [  4363.05445   ],\n",
       "       [  4360.51331667],\n",
       "       [  4354.30833333],\n",
       "       [  4391.67351667],\n",
       "       [  4607.98545   ],\n",
       "       [  4594.98785   ],\n",
       "       [  4748.255     ],\n",
       "       [  4911.74001667],\n",
       "       [  4580.38748   ],\n",
       "       [  4648.15998333],\n",
       "       [  4344.09831667],\n",
       "       [  4488.72014   ],\n",
       "       [  4641.82201667],\n",
       "       [  4654.6585    ],\n",
       "       [  4310.75018333],\n",
       "       [  4375.55952   ],\n",
       "       [  4329.955     ],\n",
       "       [  4248.09001667],\n",
       "       [  4219.03661667],\n",
       "       [  3961.27126667],\n",
       "       [  3319.63      ],\n",
       "       [  3774.26528333],\n",
       "       [  3763.62604   ],\n",
       "       [  3746.06078333],\n",
       "       [  4093.31666667],\n",
       "       [  3943.41333333],\n",
       "       [  3977.56166667],\n",
       "       [  3658.89818333],\n",
       "       [  3637.50255   ],\n",
       "       [  3776.3869    ],\n",
       "       [  3703.04065   ],\n",
       "       [  3942.555     ],\n",
       "       [  3910.30738333],\n",
       "       [  4202.55498333],\n",
       "       [  4201.98905   ],\n",
       "       [  4193.57466667],\n",
       "       [  4335.36831667],\n",
       "       [  4360.72296667],\n",
       "       [  4386.88375   ],\n",
       "       [  4293.3066    ],\n",
       "       [  4225.175     ],\n",
       "       [  4338.852     ],\n",
       "       [  4345.60333333],\n",
       "       [  4376.19166667],\n",
       "       [  4602.28088333],\n",
       "       [  4777.96781667],\n",
       "       [  4782.28      ],\n",
       "       [  4819.48576667],\n",
       "       [  5325.13068333],\n",
       "       [  5563.80656667],\n",
       "       [  5739.43873333],\n",
       "       [  5647.31166667],\n",
       "       [  5711.20586667],\n",
       "       [  5603.71294   ],\n",
       "       [  5546.1761    ],\n",
       "       [  5727.6335    ],\n",
       "       [  5979.45984   ],\n",
       "       [  6020.37168333],\n",
       "       [  5983.18455   ],\n",
       "       [  5876.07986667],\n",
       "       [  5505.82776667],\n",
       "       [  5669.62253333],\n",
       "       [  5893.13841667],\n",
       "       [  5772.50498333],\n",
       "       [  5776.69695   ],\n",
       "       [  6155.43402   ],\n",
       "       [  6105.87422   ],\n",
       "       [  6388.64516667],\n",
       "       [  6665.30668333],\n",
       "       [  7068.0201    ],\n",
       "       [  7197.72006   ],\n",
       "       [  7437.54331667],\n",
       "       [  7377.01236667],\n",
       "       [  6989.07166667],\n",
       "       [  7092.12723333],\n",
       "       [  7415.87825   ],\n",
       "       [  7158.03706   ],\n",
       "       [  6719.39785   ],\n",
       "       [  6362.85103333],\n",
       "       [  5716.30158333],\n",
       "       [  6550.22753333],\n",
       "       [  6635.41263333],\n",
       "       [  7301.42992   ],\n",
       "       [  7815.0307    ],\n",
       "       [  7786.88436667],\n",
       "       [  7817.14038333],\n",
       "       [  8007.65406667],\n",
       "       [  8255.59681667],\n",
       "       [  8059.8       ],\n",
       "       [  8268.035     ],\n",
       "       [  8148.95      ],\n",
       "       [  8250.97833333],\n",
       "       [  8707.40726667],\n",
       "       [  9284.1438    ],\n",
       "       [  9718.29505   ],\n",
       "       [  9952.50882   ],\n",
       "       [  9879.32833333],\n",
       "       [ 10147.372     ],\n",
       "       [ 10883.912     ],\n",
       "       [ 11071.36833333],\n",
       "       [ 11332.622     ],\n",
       "       [ 11584.83      ],\n",
       "       [ 11878.43333333],\n",
       "       [ 13540.98      ],\n",
       "       [ 16501.97166667],\n",
       "       [ 16007.43666667],\n",
       "       [ 15142.83415212],\n",
       "       [ 14869.805     ],\n",
       "       [ 16762.11666667],\n",
       "       [ 17276.39333333],\n",
       "       [ 16808.36666667],\n",
       "       [ 16678.892     ],\n",
       "       [ 17771.9       ],\n",
       "       [ 19498.68333333],\n",
       "       [ 19289.785     ],\n",
       "       [ 18961.85666667],\n",
       "       [ 17737.11166667],\n",
       "       [ 16026.27166667],\n",
       "       [ 16047.51      ],\n",
       "       [ 15190.945     ],\n",
       "       [ 15360.26166667],\n",
       "       [ 13949.175     ],\n",
       "       [ 14119.02833333],\n",
       "       [ 15999.04833333],\n",
       "       [ 15589.32166667],\n",
       "       [143805.81666667],\n",
       "       [ 14640.14      ],\n",
       "       [ 13215.574     ],\n",
       "       [ 14165.575     ],\n",
       "       [ 13812.18666667],\n",
       "       [ 15005.85666667],\n",
       "       [ 15053.26166667],\n",
       "       [ 15199.355     ],\n",
       "       [ 17174.12      ],\n",
       "       [ 17319.198     ],\n",
       "       [ 16651.47166667],\n",
       "       [ 15265.90666667],\n",
       "       [ 14714.25333333],\n",
       "       [ 15126.39833333],\n",
       "       [ 13296.794     ],\n",
       "       [ 13912.882     ],\n",
       "       [ 14499.77333333],\n",
       "       [ 13852.92      ],\n",
       "       [ 14012.196     ],\n",
       "       [ 11180.99833333],\n",
       "       [ 11116.94666667],\n",
       "       [ 11345.42333333],\n",
       "       [ 11422.44      ],\n",
       "       [ 12950.79333333],\n",
       "       [ 11505.228     ],\n",
       "       [ 10544.59333333],\n",
       "       [ 11223.064     ],\n",
       "       [ 11282.25833333],\n",
       "       [ 11214.44      ],\n",
       "       [ 10969.815     ],\n",
       "       [ 11524.77666667],\n",
       "       [ 11765.71      ],\n",
       "       [ 11212.655     ],\n",
       "       [ 10184.06166667],\n",
       "       [ 10125.01333333],\n",
       "       [  9083.25833333],\n",
       "       [  8901.90166667],\n",
       "       [  9076.67833333],\n",
       "       [  8400.64833333],\n",
       "       [  6838.81666667],\n",
       "       [  7685.63333333],\n",
       "       [  8099.95833333],\n",
       "       [  8240.53666667],\n",
       "       [  8535.51666667],\n",
       "       [  8319.87656618],\n",
       "       [  8343.455     ],\n",
       "       [  8811.34333333],\n",
       "       [  8597.7675    ],\n",
       "       [  9334.63333333],\n",
       "       [  9977.154     ],\n",
       "       [ 10127.16166667],\n",
       "       [ 10841.99166667],\n",
       "       [ 10503.29833333],\n",
       "       [ 11110.965     ],\n",
       "       [ 11390.39166667],\n",
       "       [ 10532.79166667],\n",
       "       [  9931.07166667],\n",
       "       [ 10162.11666667],\n",
       "       [  9697.956     ],\n",
       "       [  9696.59333333],\n",
       "       [ 10348.60333333],\n",
       "       [ 10763.88333333],\n",
       "       [ 10370.165     ],\n",
       "       [ 11009.38166667],\n",
       "       [ 11055.815     ],\n",
       "       [ 11326.94833333],\n",
       "       [114301.81666667],\n",
       "       [ 11595.54      ],\n",
       "       [ 10763.19833333],\n",
       "       [ 10118.058     ],\n",
       "       [  9429.11166667],\n",
       "       [  9089.27833333],\n",
       "       [  8746.002     ],\n",
       "       [  9761.39666667],\n",
       "       [  9182.84333333],\n",
       "       [  9154.7       ],\n",
       "       [  8151.53166667],\n",
       "       [  8358.12166667],\n",
       "       [  8530.402     ],\n",
       "       [  7993.67464364],\n",
       "       [  8171.415     ],\n",
       "       [  8412.03333333],\n",
       "       [  8986.94833333],\n",
       "       [  8947.75333333],\n",
       "       [  8690.40833333],\n",
       "       [  8686.82666667],\n",
       "       [  8662.37833333],\n",
       "       [  8617.29666667],\n",
       "       [  8197.54833333],\n",
       "       [  7876.195     ],\n",
       "       [  7960.38      ],\n",
       "       [  7172.28      ],\n",
       "       [  6882.53166667],\n",
       "       [  6935.48      ],\n",
       "       [  6794.105     ]])"
      ]
     },
     "execution_count": 18,
     "metadata": {},
     "output_type": "execute_result"
    }
   ],
   "source": [
    "data_btc.values"
   ]
  },
  {
   "cell_type": "code",
   "execution_count": 19,
   "metadata": {},
   "outputs": [],
   "source": [
    "values=pd.DataFrame(data_btc.values)"
   ]
  },
  {
   "cell_type": "code",
   "execution_count": 20,
   "metadata": {},
   "outputs": [
    {
     "data": {
      "text/html": [
       "<div>\n",
       "<style scoped>\n",
       "    .dataframe tbody tr th:only-of-type {\n",
       "        vertical-align: middle;\n",
       "    }\n",
       "\n",
       "    .dataframe tbody tr th {\n",
       "        vertical-align: top;\n",
       "    }\n",
       "\n",
       "    .dataframe thead th {\n",
       "        text-align: right;\n",
       "    }\n",
       "</style>\n",
       "<table border=\"1\" class=\"dataframe\">\n",
       "  <thead>\n",
       "    <tr style=\"text-align: right;\">\n",
       "      <th></th>\n",
       "      <th>0</th>\n",
       "    </tr>\n",
       "  </thead>\n",
       "  <tbody>\n",
       "    <tr>\n",
       "      <th>0</th>\n",
       "      <td>1099.169125</td>\n",
       "    </tr>\n",
       "    <tr>\n",
       "      <th>1</th>\n",
       "      <td>1141.813000</td>\n",
       "    </tr>\n",
       "    <tr>\n",
       "      <th>2</th>\n",
       "      <td>1141.600363</td>\n",
       "    </tr>\n",
       "    <tr>\n",
       "      <th>3</th>\n",
       "      <td>1133.079314</td>\n",
       "    </tr>\n",
       "    <tr>\n",
       "      <th>4</th>\n",
       "      <td>1196.307937</td>\n",
       "    </tr>\n",
       "    <tr>\n",
       "      <th>...</th>\n",
       "      <td>...</td>\n",
       "    </tr>\n",
       "    <tr>\n",
       "      <th>360</th>\n",
       "      <td>7960.380000</td>\n",
       "    </tr>\n",
       "    <tr>\n",
       "      <th>361</th>\n",
       "      <td>7172.280000</td>\n",
       "    </tr>\n",
       "    <tr>\n",
       "      <th>362</th>\n",
       "      <td>6882.531667</td>\n",
       "    </tr>\n",
       "    <tr>\n",
       "      <th>363</th>\n",
       "      <td>6935.480000</td>\n",
       "    </tr>\n",
       "    <tr>\n",
       "      <th>364</th>\n",
       "      <td>6794.105000</td>\n",
       "    </tr>\n",
       "  </tbody>\n",
       "</table>\n",
       "<p>365 rows × 1 columns</p>\n",
       "</div>"
      ],
      "text/plain": [
       "               0\n",
       "0    1099.169125\n",
       "1    1141.813000\n",
       "2    1141.600363\n",
       "3    1133.079314\n",
       "4    1196.307937\n",
       "..           ...\n",
       "360  7960.380000\n",
       "361  7172.280000\n",
       "362  6882.531667\n",
       "363  6935.480000\n",
       "364  6794.105000\n",
       "\n",
       "[365 rows x 1 columns]"
      ]
     },
     "execution_count": 20,
     "metadata": {},
     "output_type": "execute_result"
    }
   ],
   "source": [
    "values"
   ]
  },
  {
   "cell_type": "code",
   "execution_count": 21,
   "metadata": {},
   "outputs": [],
   "source": [
    "dataframe=pd.concat([values.shift(1),values],axis=1)\n",
    "dataframe.columns=[\"t-1\",\"t+1\"]"
   ]
  },
  {
   "cell_type": "code",
   "execution_count": 22,
   "metadata": {},
   "outputs": [
    {
     "data": {
      "text/html": [
       "<div>\n",
       "<style scoped>\n",
       "    .dataframe tbody tr th:only-of-type {\n",
       "        vertical-align: middle;\n",
       "    }\n",
       "\n",
       "    .dataframe tbody tr th {\n",
       "        vertical-align: top;\n",
       "    }\n",
       "\n",
       "    .dataframe thead th {\n",
       "        text-align: right;\n",
       "    }\n",
       "</style>\n",
       "<table border=\"1\" class=\"dataframe\">\n",
       "  <thead>\n",
       "    <tr style=\"text-align: right;\">\n",
       "      <th></th>\n",
       "      <th>t-1</th>\n",
       "      <th>t+1</th>\n",
       "    </tr>\n",
       "  </thead>\n",
       "  <tbody>\n",
       "    <tr>\n",
       "      <th>0</th>\n",
       "      <td>NaN</td>\n",
       "      <td>1099.169125</td>\n",
       "    </tr>\n",
       "    <tr>\n",
       "      <th>1</th>\n",
       "      <td>1099.169125</td>\n",
       "      <td>1141.813000</td>\n",
       "    </tr>\n",
       "    <tr>\n",
       "      <th>2</th>\n",
       "      <td>1141.813000</td>\n",
       "      <td>1141.600363</td>\n",
       "    </tr>\n",
       "    <tr>\n",
       "      <th>3</th>\n",
       "      <td>1141.600363</td>\n",
       "      <td>1133.079314</td>\n",
       "    </tr>\n",
       "    <tr>\n",
       "      <th>4</th>\n",
       "      <td>1133.079314</td>\n",
       "      <td>1196.307937</td>\n",
       "    </tr>\n",
       "    <tr>\n",
       "      <th>...</th>\n",
       "      <td>...</td>\n",
       "      <td>...</td>\n",
       "    </tr>\n",
       "    <tr>\n",
       "      <th>360</th>\n",
       "      <td>7876.195000</td>\n",
       "      <td>7960.380000</td>\n",
       "    </tr>\n",
       "    <tr>\n",
       "      <th>361</th>\n",
       "      <td>7960.380000</td>\n",
       "      <td>7172.280000</td>\n",
       "    </tr>\n",
       "    <tr>\n",
       "      <th>362</th>\n",
       "      <td>7172.280000</td>\n",
       "      <td>6882.531667</td>\n",
       "    </tr>\n",
       "    <tr>\n",
       "      <th>363</th>\n",
       "      <td>6882.531667</td>\n",
       "      <td>6935.480000</td>\n",
       "    </tr>\n",
       "    <tr>\n",
       "      <th>364</th>\n",
       "      <td>6935.480000</td>\n",
       "      <td>6794.105000</td>\n",
       "    </tr>\n",
       "  </tbody>\n",
       "</table>\n",
       "<p>365 rows × 2 columns</p>\n",
       "</div>"
      ],
      "text/plain": [
       "             t-1          t+1\n",
       "0            NaN  1099.169125\n",
       "1    1099.169125  1141.813000\n",
       "2    1141.813000  1141.600363\n",
       "3    1141.600363  1133.079314\n",
       "4    1133.079314  1196.307937\n",
       "..           ...          ...\n",
       "360  7876.195000  7960.380000\n",
       "361  7960.380000  7172.280000\n",
       "362  7172.280000  6882.531667\n",
       "363  6882.531667  6935.480000\n",
       "364  6935.480000  6794.105000\n",
       "\n",
       "[365 rows x 2 columns]"
      ]
     },
     "execution_count": 22,
     "metadata": {},
     "output_type": "execute_result"
    }
   ],
   "source": [
    "dataframe"
   ]
  },
  {
   "cell_type": "code",
   "execution_count": 23,
   "metadata": {},
   "outputs": [
    {
     "data": {
      "text/html": [
       "<div>\n",
       "<style scoped>\n",
       "    .dataframe tbody tr th:only-of-type {\n",
       "        vertical-align: middle;\n",
       "    }\n",
       "\n",
       "    .dataframe tbody tr th {\n",
       "        vertical-align: top;\n",
       "    }\n",
       "\n",
       "    .dataframe thead th {\n",
       "        text-align: right;\n",
       "    }\n",
       "</style>\n",
       "<table border=\"1\" class=\"dataframe\">\n",
       "  <thead>\n",
       "    <tr style=\"text-align: right;\">\n",
       "      <th></th>\n",
       "      <th>t-1</th>\n",
       "      <th>t+1</th>\n",
       "    </tr>\n",
       "  </thead>\n",
       "  <tbody>\n",
       "    <tr>\n",
       "      <th>t-1</th>\n",
       "      <td>1.00000</td>\n",
       "      <td>0.28001</td>\n",
       "    </tr>\n",
       "    <tr>\n",
       "      <th>t+1</th>\n",
       "      <td>0.28001</td>\n",
       "      <td>1.00000</td>\n",
       "    </tr>\n",
       "  </tbody>\n",
       "</table>\n",
       "</div>"
      ],
      "text/plain": [
       "         t-1      t+1\n",
       "t-1  1.00000  0.28001\n",
       "t+1  0.28001  1.00000"
      ]
     },
     "execution_count": 23,
     "metadata": {},
     "output_type": "execute_result"
    }
   ],
   "source": [
    "dataframe.corr()"
   ]
  },
  {
   "cell_type": "code",
   "execution_count": 24,
   "metadata": {},
   "outputs": [
    {
     "name": "stdout",
     "output_type": "stream",
     "text": [
      "Coefficients: [ 1.46936321e+03  6.89396362e-02  5.69020344e-02  4.77827302e-02\n",
      "  3.89021202e-02  5.08105631e-02  4.51192844e-02  4.97017056e-02\n",
      "  5.50799105e-02  6.38735390e-02  5.94450730e-02  5.50483025e-02\n",
      "  5.56580008e-02  4.49938282e-02  2.90228919e-02  3.51542986e-02\n",
      "  3.87643838e-02  3.16973047e-02  1.98072250e-02  5.76145647e-03\n",
      "  1.15391185e-02  1.31161797e-02 -4.49460231e-04  2.56465678e-03\n",
      " -9.86709980e-03 -1.64290680e-02 -1.19435828e-02 -1.37098760e-02\n",
      " -5.62913942e-03 -8.68216072e-04]\n"
     ]
    },
    {
     "name": "stderr",
     "output_type": "stream",
     "text": [
      "C:\\Users\\Lenovo\\anaconda3\\lib\\site-packages\\statsmodels\\tsa\\ar_model.py:248: FutureWarning: The parameter names will change after 0.12 is released. Set old_names to False to use the new names now. Set old_names to True to use the old names. \n",
      "  warnings.warn(\n"
     ]
    }
   ],
   "source": [
    "from statsmodels.tsa.ar_model import AutoReg\n",
    "from sklearn.metrics import mean_squared_error\n",
    "x=data_btc.values\n",
    "train , test =x[1:len(x)-7] , x[len(x)-7:len(x)]\n",
    "model=AutoReg(train,lags=29)\n",
    "model_fit = model.fit()\n",
    "print('Coefficients: %s' % model_fit.params)"
   ]
  },
  {
   "cell_type": "code",
   "execution_count": 25,
   "metadata": {},
   "outputs": [
    {
     "data": {
      "text/plain": [
       "array([[8197.54833333],\n",
       "       [7876.195     ],\n",
       "       [7960.38      ],\n",
       "       [7172.28      ],\n",
       "       [6882.53166667],\n",
       "       [6935.48      ],\n",
       "       [6794.105     ]])"
      ]
     },
     "execution_count": 25,
     "metadata": {},
     "output_type": "execute_result"
    }
   ],
   "source": [
    "test"
   ]
  },
  {
   "cell_type": "code",
   "execution_count": 26,
   "metadata": {},
   "outputs": [
    {
     "data": {
      "text/plain": [
       "array([8488.94037968, 8738.43656768, 7441.89832487, 6650.29347122,\n",
       "       6960.05747761, 6710.2051407 , 7491.72540075])"
      ]
     },
     "execution_count": 26,
     "metadata": {},
     "output_type": "execute_result"
    }
   ],
   "source": [
    "predictions=model_fit.predict(start=len(train),end=len(train)+len(test)-1)\n",
    "predictions"
   ]
  },
  {
   "cell_type": "code",
   "execution_count": 27,
   "metadata": {},
   "outputs": [
    {
     "name": "stdout",
     "output_type": "stream",
     "text": [
      "predictions=8488.940380    , expected=8197.548333\n",
      "predictions=8738.436568    , expected=7876.195000\n",
      "predictions=7441.898325    , expected=7960.380000\n",
      "predictions=6650.293471    , expected=7172.280000\n",
      "predictions=6960.057478    , expected=6882.531667\n",
      "predictions=6710.205141    , expected=6935.480000\n",
      "predictions=7491.725401    , expected=6794.105000\n"
     ]
    }
   ],
   "source": [
    "for i in range(len(predictions)):\n",
    "    print(\"predictions=%f    , expected=%f\" %(predictions[i],test[i]))"
   ]
  },
  {
   "cell_type": "code",
   "execution_count": 28,
   "metadata": {},
   "outputs": [
    {
     "name": "stdout",
     "output_type": "stream",
     "text": [
      "Test RMSE: 522.781\n"
     ]
    }
   ],
   "source": [
    "from math import sqrt\n",
    "rmse = sqrt(mean_squared_error(test, predictions))\n",
    "print('Test RMSE: %.3f' % rmse)"
   ]
  },
  {
   "cell_type": "code",
   "execution_count": 29,
   "metadata": {},
   "outputs": [
    {
     "data": {
      "image/png": "[encoded data removed]",
      "text/plain": [
       "<Figure size 432x288 with 1 Axes>"
      ]
     },
     "metadata": {
      "needs_background": "light"
     },
     "output_type": "display_data"
    }
   ],
   "source": [
    "plt.plot(test)\n",
    "plt.plot(predictions, color='orange')\n",
    "plt.show()"
   ]
  },
  {
   "cell_type": "code",
   "execution_count": null,
   "metadata": {},
   "outputs": [],
   "source": []
  }
 ],
 "metadata": {
  "kernelspec": {
   "display_name": "Python 3",
   "language": "python",
   "name": "python3"
  },
  "language_info": {
   "codemirror_mode": {
    "name": "ipython",
    "version": 3
   },
   "file_extension": ".py",
   "mimetype": "text/x-python",
   "name": "python",
   "nbconvert_exporter": "python",
   "pygments_lexer": "ipython3",
   "version": "3.8.5"
  }
 },
 "nbformat": 4,
 "nbformat_minor": 4
}
