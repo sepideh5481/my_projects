{
 "cells": [
  {
   "cell_type": "code",
   "execution_count": 1,
   "id": "be9709b8",
   "metadata": {},
   "outputs": [],
   "source": [
    "import pandas as pd\n",
    "import numpy as np"
   ]
  },
  {
   "cell_type": "code",
   "execution_count": 2,
   "id": "fb5eef68",
   "metadata": {},
   "outputs": [],
   "source": [
    "df=pd.read_csv(\"C:/Users/Lenovo/Desktop/digikala/3/purchase_history.csv\",parse_dates=[2])"
   ]
  },
  {
   "cell_type": "code",
   "execution_count": 3,
   "id": "bae1af6c",
   "metadata": {},
   "outputs": [
    {
     "data": {
      "text/html": [
       "<div>\n",
       "<style scoped>\n",
       "    .dataframe tbody tr th:only-of-type {\n",
       "        vertical-align: middle;\n",
       "    }\n",
       "\n",
       "    .dataframe tbody tr th {\n",
       "        vertical-align: top;\n",
       "    }\n",
       "\n",
       "    .dataframe thead th {\n",
       "        text-align: right;\n",
       "    }\n",
       "</style>\n",
       "<table border=\"1\" class=\"dataframe\">\n",
       "  <thead>\n",
       "    <tr style=\"text-align: right;\">\n",
       "      <th></th>\n",
       "      <th>user_id</th>\n",
       "      <th>product_id</th>\n",
       "      <th>created_at</th>\n",
       "    </tr>\n",
       "  </thead>\n",
       "  <tbody>\n",
       "    <tr>\n",
       "      <th>0</th>\n",
       "      <td>647746</td>\n",
       "      <td>2011564</td>\n",
       "      <td>2019-02-09</td>\n",
       "    </tr>\n",
       "    <tr>\n",
       "      <th>1</th>\n",
       "      <td>906136</td>\n",
       "      <td>4105782</td>\n",
       "      <td>2019-11-23</td>\n",
       "    </tr>\n",
       "    <tr>\n",
       "      <th>2</th>\n",
       "      <td>12862997</td>\n",
       "      <td>2144063</td>\n",
       "      <td>2019-07-16</td>\n",
       "    </tr>\n",
       "    <tr>\n",
       "      <th>3</th>\n",
       "      <td>12097079</td>\n",
       "      <td>1207738</td>\n",
       "      <td>2019-04-05</td>\n",
       "    </tr>\n",
       "    <tr>\n",
       "      <th>4</th>\n",
       "      <td>3184486</td>\n",
       "      <td>4278839</td>\n",
       "      <td>2019-03-08</td>\n",
       "    </tr>\n",
       "  </tbody>\n",
       "</table>\n",
       "</div>"
      ],
      "text/plain": [
       "    user_id  product_id created_at\n",
       "0    647746     2011564 2019-02-09\n",
       "1    906136     4105782 2019-11-23\n",
       "2  12862997     2144063 2019-07-16\n",
       "3  12097079     1207738 2019-04-05\n",
       "4   3184486     4278839 2019-03-08"
      ]
     },
     "execution_count": 3,
     "metadata": {},
     "output_type": "execute_result"
    }
   ],
   "source": [
    "df.head()"
   ]
  },
  {
   "cell_type": "code",
   "execution_count": 4,
   "id": "d751b09c",
   "metadata": {},
   "outputs": [
    {
     "name": "stdout",
     "output_type": "stream",
     "text": [
      "<class 'pandas.core.frame.DataFrame'>\n",
      "RangeIndex: 2174447 entries, 0 to 2174446\n",
      "Data columns (total 3 columns):\n",
      " #   Column      Dtype         \n",
      "---  ------      -----         \n",
      " 0   user_id     int64         \n",
      " 1   product_id  int64         \n",
      " 2   created_at  datetime64[ns]\n",
      "dtypes: datetime64[ns](1), int64(2)\n",
      "memory usage: 49.8 MB\n"
     ]
    }
   ],
   "source": [
    "df.info()"
   ]
  },
  {
   "cell_type": "code",
   "execution_count": 5,
   "id": "b6a04c82",
   "metadata": {},
   "outputs": [
    {
     "data": {
      "text/plain": [
       "user_id       0\n",
       "product_id    0\n",
       "created_at    0\n",
       "dtype: int64"
      ]
     },
     "execution_count": 5,
     "metadata": {},
     "output_type": "execute_result"
    }
   ],
   "source": [
    "df.isnull().sum()"
   ]
  },
  {
   "cell_type": "code",
   "execution_count": 6,
   "id": "50e204fe",
   "metadata": {},
   "outputs": [
    {
     "data": {
      "text/plain": [
       "29623462    13604\n",
       "38514908     4514\n",
       "7024706      3434\n",
       "3424777      3410\n",
       "7359226      2431\n",
       "            ...  \n",
       "1030577         4\n",
       "1165576         4\n",
       "9539526         4\n",
       "7052017         4\n",
       "3233681         4\n",
       "Name: user_id, Length: 96688, dtype: int64"
      ]
     },
     "execution_count": 6,
     "metadata": {},
     "output_type": "execute_result"
    }
   ],
   "source": [
    "df[\"user_id\"].value_counts()"
   ]
  },
  {
   "cell_type": "code",
   "execution_count": 7,
   "id": "5c372f8a",
   "metadata": {},
   "outputs": [],
   "source": [
    "features=[\"user_id\",\"product_id\",\"day\",\"Month\"]"
   ]
  },
  {
   "cell_type": "code",
   "execution_count": 8,
   "id": "b085b8d6",
   "metadata": {},
   "outputs": [],
   "source": [
    "target=\"created_at\""
   ]
  },
  {
   "cell_type": "code",
   "execution_count": 27,
   "id": "ad3cd224",
   "metadata": {},
   "outputs": [
    {
     "data": {
      "text/plain": [
       "0         2019-02-09\n",
       "1         2019-11-23\n",
       "2         2019-07-16\n",
       "3         2019-04-05\n",
       "4         2019-03-08\n",
       "             ...    \n",
       "2174442   2019-09-22\n",
       "2174443   2019-07-15\n",
       "2174444   2019-07-30\n",
       "2174445   2019-02-09\n",
       "2174446   2019-11-13\n",
       "Name: created_at, Length: 2174447, dtype: datetime64[ns]"
      ]
     },
     "execution_count": 27,
     "metadata": {},
     "output_type": "execute_result"
    }
   ],
   "source": [
    "df['created_at']"
   ]
  },
  {
   "cell_type": "code",
   "execution_count": 28,
   "id": "bef0a143",
   "metadata": {},
   "outputs": [],
   "source": [
    "date_col= df['created_at'].astype(str).str.split('-', expand=True)"
   ]
  },
  {
   "cell_type": "code",
   "execution_count": 29,
   "id": "09e81f54",
   "metadata": {},
   "outputs": [],
   "source": [
    "date_col.columns = ['Year', 'Month', 'Day']\n"
   ]
  },
  {
   "cell_type": "code",
   "execution_count": 30,
   "id": "a72e241f",
   "metadata": {},
   "outputs": [
    {
     "data": {
      "text/html": [
       "<div>\n",
       "<style scoped>\n",
       "    .dataframe tbody tr th:only-of-type {\n",
       "        vertical-align: middle;\n",
       "    }\n",
       "\n",
       "    .dataframe tbody tr th {\n",
       "        vertical-align: top;\n",
       "    }\n",
       "\n",
       "    .dataframe thead th {\n",
       "        text-align: right;\n",
       "    }\n",
       "</style>\n",
       "<table border=\"1\" class=\"dataframe\">\n",
       "  <thead>\n",
       "    <tr style=\"text-align: right;\">\n",
       "      <th></th>\n",
       "      <th>Year</th>\n",
       "      <th>Month</th>\n",
       "      <th>Day</th>\n",
       "    </tr>\n",
       "  </thead>\n",
       "  <tbody>\n",
       "    <tr>\n",
       "      <th>0</th>\n",
       "      <td>2019</td>\n",
       "      <td>02</td>\n",
       "      <td>09</td>\n",
       "    </tr>\n",
       "    <tr>\n",
       "      <th>1</th>\n",
       "      <td>2019</td>\n",
       "      <td>11</td>\n",
       "      <td>23</td>\n",
       "    </tr>\n",
       "    <tr>\n",
       "      <th>2</th>\n",
       "      <td>2019</td>\n",
       "      <td>07</td>\n",
       "      <td>16</td>\n",
       "    </tr>\n",
       "    <tr>\n",
       "      <th>3</th>\n",
       "      <td>2019</td>\n",
       "      <td>04</td>\n",
       "      <td>05</td>\n",
       "    </tr>\n",
       "    <tr>\n",
       "      <th>4</th>\n",
       "      <td>2019</td>\n",
       "      <td>03</td>\n",
       "      <td>08</td>\n",
       "    </tr>\n",
       "    <tr>\n",
       "      <th>...</th>\n",
       "      <td>...</td>\n",
       "      <td>...</td>\n",
       "      <td>...</td>\n",
       "    </tr>\n",
       "    <tr>\n",
       "      <th>2174442</th>\n",
       "      <td>2019</td>\n",
       "      <td>09</td>\n",
       "      <td>22</td>\n",
       "    </tr>\n",
       "    <tr>\n",
       "      <th>2174443</th>\n",
       "      <td>2019</td>\n",
       "      <td>07</td>\n",
       "      <td>15</td>\n",
       "    </tr>\n",
       "    <tr>\n",
       "      <th>2174444</th>\n",
       "      <td>2019</td>\n",
       "      <td>07</td>\n",
       "      <td>30</td>\n",
       "    </tr>\n",
       "    <tr>\n",
       "      <th>2174445</th>\n",
       "      <td>2019</td>\n",
       "      <td>02</td>\n",
       "      <td>09</td>\n",
       "    </tr>\n",
       "    <tr>\n",
       "      <th>2174446</th>\n",
       "      <td>2019</td>\n",
       "      <td>11</td>\n",
       "      <td>13</td>\n",
       "    </tr>\n",
       "  </tbody>\n",
       "</table>\n",
       "<p>2174447 rows × 3 columns</p>\n",
       "</div>"
      ],
      "text/plain": [
       "         Year Month Day\n",
       "0        2019    02  09\n",
       "1        2019    11  23\n",
       "2        2019    07  16\n",
       "3        2019    04  05\n",
       "4        2019    03  08\n",
       "...       ...   ...  ..\n",
       "2174442  2019    09  22\n",
       "2174443  2019    07  15\n",
       "2174444  2019    07  30\n",
       "2174445  2019    02  09\n",
       "2174446  2019    11  13\n",
       "\n",
       "[2174447 rows x 3 columns]"
      ]
     },
     "execution_count": 30,
     "metadata": {},
     "output_type": "execute_result"
    }
   ],
   "source": [
    "date_col"
   ]
  },
  {
   "cell_type": "code",
   "execution_count": 31,
   "id": "89dd6125",
   "metadata": {},
   "outputs": [],
   "source": [
    "df1=pd.concat([df.drop(\"created_at\",axis=1),date_col],axis=1)"
   ]
  },
  {
   "cell_type": "code",
   "execution_count": 32,
   "id": "a4599404",
   "metadata": {},
   "outputs": [
    {
     "data": {
      "text/html": [
       "<div>\n",
       "<style scoped>\n",
       "    .dataframe tbody tr th:only-of-type {\n",
       "        vertical-align: middle;\n",
       "    }\n",
       "\n",
       "    .dataframe tbody tr th {\n",
       "        vertical-align: top;\n",
       "    }\n",
       "\n",
       "    .dataframe thead th {\n",
       "        text-align: right;\n",
       "    }\n",
       "</style>\n",
       "<table border=\"1\" class=\"dataframe\">\n",
       "  <thead>\n",
       "    <tr style=\"text-align: right;\">\n",
       "      <th></th>\n",
       "      <th>user_id</th>\n",
       "      <th>product_id</th>\n",
       "      <th>Year</th>\n",
       "      <th>Month</th>\n",
       "      <th>Day</th>\n",
       "    </tr>\n",
       "  </thead>\n",
       "  <tbody>\n",
       "    <tr>\n",
       "      <th>0</th>\n",
       "      <td>647746</td>\n",
       "      <td>2011564</td>\n",
       "      <td>2019</td>\n",
       "      <td>02</td>\n",
       "      <td>09</td>\n",
       "    </tr>\n",
       "    <tr>\n",
       "      <th>1</th>\n",
       "      <td>906136</td>\n",
       "      <td>4105782</td>\n",
       "      <td>2019</td>\n",
       "      <td>11</td>\n",
       "      <td>23</td>\n",
       "    </tr>\n",
       "    <tr>\n",
       "      <th>2</th>\n",
       "      <td>12862997</td>\n",
       "      <td>2144063</td>\n",
       "      <td>2019</td>\n",
       "      <td>07</td>\n",
       "      <td>16</td>\n",
       "    </tr>\n",
       "    <tr>\n",
       "      <th>3</th>\n",
       "      <td>12097079</td>\n",
       "      <td>1207738</td>\n",
       "      <td>2019</td>\n",
       "      <td>04</td>\n",
       "      <td>05</td>\n",
       "    </tr>\n",
       "    <tr>\n",
       "      <th>4</th>\n",
       "      <td>3184486</td>\n",
       "      <td>4278839</td>\n",
       "      <td>2019</td>\n",
       "      <td>03</td>\n",
       "      <td>08</td>\n",
       "    </tr>\n",
       "    <tr>\n",
       "      <th>...</th>\n",
       "      <td>...</td>\n",
       "      <td>...</td>\n",
       "      <td>...</td>\n",
       "      <td>...</td>\n",
       "      <td>...</td>\n",
       "    </tr>\n",
       "    <tr>\n",
       "      <th>2174442</th>\n",
       "      <td>2602547</td>\n",
       "      <td>1624033</td>\n",
       "      <td>2019</td>\n",
       "      <td>09</td>\n",
       "      <td>22</td>\n",
       "    </tr>\n",
       "    <tr>\n",
       "      <th>2174443</th>\n",
       "      <td>14188320</td>\n",
       "      <td>924263</td>\n",
       "      <td>2019</td>\n",
       "      <td>07</td>\n",
       "      <td>15</td>\n",
       "    </tr>\n",
       "    <tr>\n",
       "      <th>2174444</th>\n",
       "      <td>6774415</td>\n",
       "      <td>871217</td>\n",
       "      <td>2019</td>\n",
       "      <td>07</td>\n",
       "      <td>30</td>\n",
       "    </tr>\n",
       "    <tr>\n",
       "      <th>2174445</th>\n",
       "      <td>12176860</td>\n",
       "      <td>1604228</td>\n",
       "      <td>2019</td>\n",
       "      <td>02</td>\n",
       "      <td>09</td>\n",
       "    </tr>\n",
       "    <tr>\n",
       "      <th>2174446</th>\n",
       "      <td>1456614</td>\n",
       "      <td>1688713</td>\n",
       "      <td>2019</td>\n",
       "      <td>11</td>\n",
       "      <td>13</td>\n",
       "    </tr>\n",
       "  </tbody>\n",
       "</table>\n",
       "<p>2174447 rows × 5 columns</p>\n",
       "</div>"
      ],
      "text/plain": [
       "          user_id  product_id  Year Month Day\n",
       "0          647746     2011564  2019    02  09\n",
       "1          906136     4105782  2019    11  23\n",
       "2        12862997     2144063  2019    07  16\n",
       "3        12097079     1207738  2019    04  05\n",
       "4         3184486     4278839  2019    03  08\n",
       "...           ...         ...   ...   ...  ..\n",
       "2174442   2602547     1624033  2019    09  22\n",
       "2174443  14188320      924263  2019    07  15\n",
       "2174444   6774415      871217  2019    07  30\n",
       "2174445  12176860     1604228  2019    02  09\n",
       "2174446   1456614     1688713  2019    11  13\n",
       "\n",
       "[2174447 rows x 5 columns]"
      ]
     },
     "execution_count": 32,
     "metadata": {},
     "output_type": "execute_result"
    }
   ],
   "source": [
    "df1"
   ]
  },
  {
   "cell_type": "code",
   "execution_count": 33,
   "id": "f8300b6b",
   "metadata": {},
   "outputs": [
    {
     "data": {
      "text/html": [
       "<div>\n",
       "<style scoped>\n",
       "    .dataframe tbody tr th:only-of-type {\n",
       "        vertical-align: middle;\n",
       "    }\n",
       "\n",
       "    .dataframe tbody tr th {\n",
       "        vertical-align: top;\n",
       "    }\n",
       "\n",
       "    .dataframe thead th {\n",
       "        text-align: right;\n",
       "    }\n",
       "</style>\n",
       "<table border=\"1\" class=\"dataframe\">\n",
       "  <thead>\n",
       "    <tr style=\"text-align: right;\">\n",
       "      <th></th>\n",
       "      <th>user_id</th>\n",
       "      <th>product_id</th>\n",
       "    </tr>\n",
       "  </thead>\n",
       "  <tbody>\n",
       "    <tr>\n",
       "      <th>0</th>\n",
       "      <td>647746</td>\n",
       "      <td>2011564</td>\n",
       "    </tr>\n",
       "    <tr>\n",
       "      <th>1</th>\n",
       "      <td>906136</td>\n",
       "      <td>4105782</td>\n",
       "    </tr>\n",
       "    <tr>\n",
       "      <th>2</th>\n",
       "      <td>12862997</td>\n",
       "      <td>2144063</td>\n",
       "    </tr>\n",
       "    <tr>\n",
       "      <th>3</th>\n",
       "      <td>12097079</td>\n",
       "      <td>1207738</td>\n",
       "    </tr>\n",
       "    <tr>\n",
       "      <th>4</th>\n",
       "      <td>3184486</td>\n",
       "      <td>4278839</td>\n",
       "    </tr>\n",
       "    <tr>\n",
       "      <th>...</th>\n",
       "      <td>...</td>\n",
       "      <td>...</td>\n",
       "    </tr>\n",
       "    <tr>\n",
       "      <th>2174442</th>\n",
       "      <td>2602547</td>\n",
       "      <td>1624033</td>\n",
       "    </tr>\n",
       "    <tr>\n",
       "      <th>2174443</th>\n",
       "      <td>14188320</td>\n",
       "      <td>924263</td>\n",
       "    </tr>\n",
       "    <tr>\n",
       "      <th>2174444</th>\n",
       "      <td>6774415</td>\n",
       "      <td>871217</td>\n",
       "    </tr>\n",
       "    <tr>\n",
       "      <th>2174445</th>\n",
       "      <td>12176860</td>\n",
       "      <td>1604228</td>\n",
       "    </tr>\n",
       "    <tr>\n",
       "      <th>2174446</th>\n",
       "      <td>1456614</td>\n",
       "      <td>1688713</td>\n",
       "    </tr>\n",
       "  </tbody>\n",
       "</table>\n",
       "<p>2174447 rows × 2 columns</p>\n",
       "</div>"
      ],
      "text/plain": [
       "          user_id  product_id\n",
       "0          647746     2011564\n",
       "1          906136     4105782\n",
       "2        12862997     2144063\n",
       "3        12097079     1207738\n",
       "4         3184486     4278839\n",
       "...           ...         ...\n",
       "2174442   2602547     1624033\n",
       "2174443  14188320      924263\n",
       "2174444   6774415      871217\n",
       "2174445  12176860     1604228\n",
       "2174446   1456614     1688713\n",
       "\n",
       "[2174447 rows x 2 columns]"
      ]
     },
     "execution_count": 33,
     "metadata": {},
     "output_type": "execute_result"
    }
   ],
   "source": [
    "df.drop(\"created_at\",axis=1)"
   ]
  },
  {
   "cell_type": "code",
   "execution_count": 34,
   "id": "3629f158",
   "metadata": {},
   "outputs": [
    {
     "data": {
      "text/html": [
       "<div>\n",
       "<style scoped>\n",
       "    .dataframe tbody tr th:only-of-type {\n",
       "        vertical-align: middle;\n",
       "    }\n",
       "\n",
       "    .dataframe tbody tr th {\n",
       "        vertical-align: top;\n",
       "    }\n",
       "\n",
       "    .dataframe thead th {\n",
       "        text-align: right;\n",
       "    }\n",
       "</style>\n",
       "<table border=\"1\" class=\"dataframe\">\n",
       "  <thead>\n",
       "    <tr style=\"text-align: right;\">\n",
       "      <th></th>\n",
       "      <th>user_id</th>\n",
       "      <th>product_id</th>\n",
       "      <th>created_at</th>\n",
       "    </tr>\n",
       "  </thead>\n",
       "  <tbody>\n",
       "    <tr>\n",
       "      <th>0</th>\n",
       "      <td>647746</td>\n",
       "      <td>2011564</td>\n",
       "      <td>2019-02-09</td>\n",
       "    </tr>\n",
       "    <tr>\n",
       "      <th>1</th>\n",
       "      <td>906136</td>\n",
       "      <td>4105782</td>\n",
       "      <td>2019-11-23</td>\n",
       "    </tr>\n",
       "    <tr>\n",
       "      <th>2</th>\n",
       "      <td>12862997</td>\n",
       "      <td>2144063</td>\n",
       "      <td>2019-07-16</td>\n",
       "    </tr>\n",
       "    <tr>\n",
       "      <th>3</th>\n",
       "      <td>12097079</td>\n",
       "      <td>1207738</td>\n",
       "      <td>2019-04-05</td>\n",
       "    </tr>\n",
       "    <tr>\n",
       "      <th>4</th>\n",
       "      <td>3184486</td>\n",
       "      <td>4278839</td>\n",
       "      <td>2019-03-08</td>\n",
       "    </tr>\n",
       "    <tr>\n",
       "      <th>...</th>\n",
       "      <td>...</td>\n",
       "      <td>...</td>\n",
       "      <td>...</td>\n",
       "    </tr>\n",
       "    <tr>\n",
       "      <th>2174442</th>\n",
       "      <td>2602547</td>\n",
       "      <td>1624033</td>\n",
       "      <td>2019-09-22</td>\n",
       "    </tr>\n",
       "    <tr>\n",
       "      <th>2174443</th>\n",
       "      <td>14188320</td>\n",
       "      <td>924263</td>\n",
       "      <td>2019-07-15</td>\n",
       "    </tr>\n",
       "    <tr>\n",
       "      <th>2174444</th>\n",
       "      <td>6774415</td>\n",
       "      <td>871217</td>\n",
       "      <td>2019-07-30</td>\n",
       "    </tr>\n",
       "    <tr>\n",
       "      <th>2174445</th>\n",
       "      <td>12176860</td>\n",
       "      <td>1604228</td>\n",
       "      <td>2019-02-09</td>\n",
       "    </tr>\n",
       "    <tr>\n",
       "      <th>2174446</th>\n",
       "      <td>1456614</td>\n",
       "      <td>1688713</td>\n",
       "      <td>2019-11-13</td>\n",
       "    </tr>\n",
       "  </tbody>\n",
       "</table>\n",
       "<p>2174447 rows × 3 columns</p>\n",
       "</div>"
      ],
      "text/plain": [
       "          user_id  product_id created_at\n",
       "0          647746     2011564 2019-02-09\n",
       "1          906136     4105782 2019-11-23\n",
       "2        12862997     2144063 2019-07-16\n",
       "3        12097079     1207738 2019-04-05\n",
       "4         3184486     4278839 2019-03-08\n",
       "...           ...         ...        ...\n",
       "2174442   2602547     1624033 2019-09-22\n",
       "2174443  14188320      924263 2019-07-15\n",
       "2174444   6774415      871217 2019-07-30\n",
       "2174445  12176860     1604228 2019-02-09\n",
       "2174446   1456614     1688713 2019-11-13\n",
       "\n",
       "[2174447 rows x 3 columns]"
      ]
     },
     "execution_count": 34,
     "metadata": {},
     "output_type": "execute_result"
    }
   ],
   "source": [
    "df"
   ]
  },
  {
   "cell_type": "code",
   "execution_count": 35,
   "id": "0b47bfe8",
   "metadata": {},
   "outputs": [
    {
     "data": {
      "text/plain": [
       "2019    2174447\n",
       "Name: Year, dtype: int64"
      ]
     },
     "execution_count": 35,
     "metadata": {},
     "output_type": "execute_result"
    }
   ],
   "source": [
    "df1[\"Year\"].value_counts()"
   ]
  },
  {
   "cell_type": "code",
   "execution_count": 36,
   "id": "9c706861",
   "metadata": {},
   "outputs": [
    {
     "data": {
      "text/plain": [
       "22    77921\n",
       "11    77227\n",
       "27    75997\n",
       "28    75510\n",
       "24    74509\n",
       "26    74016\n",
       "08    73617\n",
       "14    73066\n",
       "12    72713\n",
       "23    72636\n",
       "09    72571\n",
       "04    72494\n",
       "25    72484\n",
       "07    72222\n",
       "03    71721\n",
       "18    71654\n",
       "21    71625\n",
       "15    71387\n",
       "10    71265\n",
       "13    69966\n",
       "16    69134\n",
       "02    68927\n",
       "05    68729\n",
       "17    68616\n",
       "06    68384\n",
       "01    66568\n",
       "20    66181\n",
       "29    65693\n",
       "19    65668\n",
       "30    60141\n",
       "31    41805\n",
       "Name: Day, dtype: int64"
      ]
     },
     "execution_count": 36,
     "metadata": {},
     "output_type": "execute_result"
    }
   ],
   "source": [
    "df1[\"Day\"].value_counts(dropna=False)"
   ]
  },
  {
   "cell_type": "code",
   "execution_count": null,
   "id": "89c4462b",
   "metadata": {},
   "outputs": [],
   "source": []
  },
  {
   "cell_type": "code",
   "execution_count": 37,
   "id": "21ddf494",
   "metadata": {},
   "outputs": [
    {
     "data": {
      "text/html": [
       "<div>\n",
       "<style scoped>\n",
       "    .dataframe tbody tr th:only-of-type {\n",
       "        vertical-align: middle;\n",
       "    }\n",
       "\n",
       "    .dataframe tbody tr th {\n",
       "        vertical-align: top;\n",
       "    }\n",
       "\n",
       "    .dataframe thead th {\n",
       "        text-align: right;\n",
       "    }\n",
       "</style>\n",
       "<table border=\"1\" class=\"dataframe\">\n",
       "  <thead>\n",
       "    <tr style=\"text-align: right;\">\n",
       "      <th></th>\n",
       "      <th>user_id</th>\n",
       "      <th>product_id</th>\n",
       "      <th>Year</th>\n",
       "      <th>Month</th>\n",
       "      <th>Day</th>\n",
       "    </tr>\n",
       "  </thead>\n",
       "  <tbody>\n",
       "    <tr>\n",
       "      <th>0</th>\n",
       "      <td>647746</td>\n",
       "      <td>2011564</td>\n",
       "      <td>2019</td>\n",
       "      <td>02</td>\n",
       "      <td>09</td>\n",
       "    </tr>\n",
       "    <tr>\n",
       "      <th>1</th>\n",
       "      <td>906136</td>\n",
       "      <td>4105782</td>\n",
       "      <td>2019</td>\n",
       "      <td>11</td>\n",
       "      <td>23</td>\n",
       "    </tr>\n",
       "    <tr>\n",
       "      <th>2</th>\n",
       "      <td>12862997</td>\n",
       "      <td>2144063</td>\n",
       "      <td>2019</td>\n",
       "      <td>07</td>\n",
       "      <td>16</td>\n",
       "    </tr>\n",
       "    <tr>\n",
       "      <th>3</th>\n",
       "      <td>12097079</td>\n",
       "      <td>1207738</td>\n",
       "      <td>2019</td>\n",
       "      <td>04</td>\n",
       "      <td>05</td>\n",
       "    </tr>\n",
       "    <tr>\n",
       "      <th>4</th>\n",
       "      <td>3184486</td>\n",
       "      <td>4278839</td>\n",
       "      <td>2019</td>\n",
       "      <td>03</td>\n",
       "      <td>08</td>\n",
       "    </tr>\n",
       "    <tr>\n",
       "      <th>...</th>\n",
       "      <td>...</td>\n",
       "      <td>...</td>\n",
       "      <td>...</td>\n",
       "      <td>...</td>\n",
       "      <td>...</td>\n",
       "    </tr>\n",
       "    <tr>\n",
       "      <th>2174442</th>\n",
       "      <td>2602547</td>\n",
       "      <td>1624033</td>\n",
       "      <td>2019</td>\n",
       "      <td>09</td>\n",
       "      <td>22</td>\n",
       "    </tr>\n",
       "    <tr>\n",
       "      <th>2174443</th>\n",
       "      <td>14188320</td>\n",
       "      <td>924263</td>\n",
       "      <td>2019</td>\n",
       "      <td>07</td>\n",
       "      <td>15</td>\n",
       "    </tr>\n",
       "    <tr>\n",
       "      <th>2174444</th>\n",
       "      <td>6774415</td>\n",
       "      <td>871217</td>\n",
       "      <td>2019</td>\n",
       "      <td>07</td>\n",
       "      <td>30</td>\n",
       "    </tr>\n",
       "    <tr>\n",
       "      <th>2174445</th>\n",
       "      <td>12176860</td>\n",
       "      <td>1604228</td>\n",
       "      <td>2019</td>\n",
       "      <td>02</td>\n",
       "      <td>09</td>\n",
       "    </tr>\n",
       "    <tr>\n",
       "      <th>2174446</th>\n",
       "      <td>1456614</td>\n",
       "      <td>1688713</td>\n",
       "      <td>2019</td>\n",
       "      <td>11</td>\n",
       "      <td>13</td>\n",
       "    </tr>\n",
       "  </tbody>\n",
       "</table>\n",
       "<p>2174447 rows × 5 columns</p>\n",
       "</div>"
      ],
      "text/plain": [
       "          user_id  product_id  Year Month Day\n",
       "0          647746     2011564  2019    02  09\n",
       "1          906136     4105782  2019    11  23\n",
       "2        12862997     2144063  2019    07  16\n",
       "3        12097079     1207738  2019    04  05\n",
       "4         3184486     4278839  2019    03  08\n",
       "...           ...         ...   ...   ...  ..\n",
       "2174442   2602547     1624033  2019    09  22\n",
       "2174443  14188320      924263  2019    07  15\n",
       "2174444   6774415      871217  2019    07  30\n",
       "2174445  12176860     1604228  2019    02  09\n",
       "2174446   1456614     1688713  2019    11  13\n",
       "\n",
       "[2174447 rows x 5 columns]"
      ]
     },
     "execution_count": 37,
     "metadata": {},
     "output_type": "execute_result"
    }
   ],
   "source": [
    "df1"
   ]
  },
  {
   "cell_type": "code",
   "execution_count": 38,
   "id": "f9cc5e41",
   "metadata": {},
   "outputs": [
    {
     "data": {
      "text/html": [
       "<div>\n",
       "<style scoped>\n",
       "    .dataframe tbody tr th:only-of-type {\n",
       "        vertical-align: middle;\n",
       "    }\n",
       "\n",
       "    .dataframe tbody tr th {\n",
       "        vertical-align: top;\n",
       "    }\n",
       "\n",
       "    .dataframe thead th {\n",
       "        text-align: right;\n",
       "    }\n",
       "</style>\n",
       "<table border=\"1\" class=\"dataframe\">\n",
       "  <thead>\n",
       "    <tr style=\"text-align: right;\">\n",
       "      <th></th>\n",
       "      <th>user_id</th>\n",
       "      <th>product_id</th>\n",
       "      <th>created_at</th>\n",
       "    </tr>\n",
       "  </thead>\n",
       "  <tbody>\n",
       "    <tr>\n",
       "      <th>0</th>\n",
       "      <td>647746</td>\n",
       "      <td>2011564</td>\n",
       "      <td>2019-02-09</td>\n",
       "    </tr>\n",
       "    <tr>\n",
       "      <th>1</th>\n",
       "      <td>906136</td>\n",
       "      <td>4105782</td>\n",
       "      <td>2019-11-23</td>\n",
       "    </tr>\n",
       "    <tr>\n",
       "      <th>2</th>\n",
       "      <td>12862997</td>\n",
       "      <td>2144063</td>\n",
       "      <td>2019-07-16</td>\n",
       "    </tr>\n",
       "    <tr>\n",
       "      <th>3</th>\n",
       "      <td>12097079</td>\n",
       "      <td>1207738</td>\n",
       "      <td>2019-04-05</td>\n",
       "    </tr>\n",
       "    <tr>\n",
       "      <th>4</th>\n",
       "      <td>3184486</td>\n",
       "      <td>4278839</td>\n",
       "      <td>2019-03-08</td>\n",
       "    </tr>\n",
       "    <tr>\n",
       "      <th>...</th>\n",
       "      <td>...</td>\n",
       "      <td>...</td>\n",
       "      <td>...</td>\n",
       "    </tr>\n",
       "    <tr>\n",
       "      <th>2174442</th>\n",
       "      <td>2602547</td>\n",
       "      <td>1624033</td>\n",
       "      <td>2019-09-22</td>\n",
       "    </tr>\n",
       "    <tr>\n",
       "      <th>2174443</th>\n",
       "      <td>14188320</td>\n",
       "      <td>924263</td>\n",
       "      <td>2019-07-15</td>\n",
       "    </tr>\n",
       "    <tr>\n",
       "      <th>2174444</th>\n",
       "      <td>6774415</td>\n",
       "      <td>871217</td>\n",
       "      <td>2019-07-30</td>\n",
       "    </tr>\n",
       "    <tr>\n",
       "      <th>2174445</th>\n",
       "      <td>12176860</td>\n",
       "      <td>1604228</td>\n",
       "      <td>2019-02-09</td>\n",
       "    </tr>\n",
       "    <tr>\n",
       "      <th>2174446</th>\n",
       "      <td>1456614</td>\n",
       "      <td>1688713</td>\n",
       "      <td>2019-11-13</td>\n",
       "    </tr>\n",
       "  </tbody>\n",
       "</table>\n",
       "<p>2174447 rows × 3 columns</p>\n",
       "</div>"
      ],
      "text/plain": [
       "          user_id  product_id created_at\n",
       "0          647746     2011564 2019-02-09\n",
       "1          906136     4105782 2019-11-23\n",
       "2        12862997     2144063 2019-07-16\n",
       "3        12097079     1207738 2019-04-05\n",
       "4         3184486     4278839 2019-03-08\n",
       "...           ...         ...        ...\n",
       "2174442   2602547     1624033 2019-09-22\n",
       "2174443  14188320      924263 2019-07-15\n",
       "2174444   6774415      871217 2019-07-30\n",
       "2174445  12176860     1604228 2019-02-09\n",
       "2174446   1456614     1688713 2019-11-13\n",
       "\n",
       "[2174447 rows x 3 columns]"
      ]
     },
     "execution_count": 38,
     "metadata": {},
     "output_type": "execute_result"
    }
   ],
   "source": [
    "df"
   ]
  },
  {
   "cell_type": "code",
   "execution_count": null,
   "id": "85ee0b68",
   "metadata": {},
   "outputs": [],
   "source": []
  },
  {
   "cell_type": "code",
   "execution_count": null,
   "id": "894d7a9d",
   "metadata": {},
   "outputs": [],
   "source": []
  },
  {
   "cell_type": "code",
   "execution_count": 39,
   "id": "507e6604",
   "metadata": {},
   "outputs": [],
   "source": [
    "# because all the years are same we don't need to use them for prediction\n",
    "features=[\"user_id\",\"product_id\"]\n",
    "target=[\"Day\",\"Month\"]"
   ]
  },
  {
   "cell_type": "code",
   "execution_count": 53,
   "id": "2666044e",
   "metadata": {},
   "outputs": [
    {
     "data": {
      "text/plain": [
       "(2174447, 5)"
      ]
     },
     "execution_count": 53,
     "metadata": {},
     "output_type": "execute_result"
    }
   ],
   "source": [
    "df1.shape"
   ]
  },
  {
   "cell_type": "code",
   "execution_count": 40,
   "id": "85567f7d",
   "metadata": {},
   "outputs": [],
   "source": [
    "from sklearn.linear_model import LinearRegression\n",
    "from sklearn.model_selection import train_test_split"
   ]
  },
  {
   "cell_type": "code",
   "execution_count": 54,
   "id": "13349be5",
   "metadata": {},
   "outputs": [],
   "source": [
    "X_train, X_test, y_train, y_test = train_test_split(df1[features], df1[target], test_size=0.15, random_state=42)"
   ]
  },
  {
   "cell_type": "code",
   "execution_count": 55,
   "id": "973480bd",
   "metadata": {},
   "outputs": [],
   "source": [
    "model = LinearRegression()"
   ]
  },
  {
   "cell_type": "code",
   "execution_count": 56,
   "id": "53ec2c53",
   "metadata": {},
   "outputs": [
    {
     "data": {
      "text/plain": [
       "LinearRegression()"
      ]
     },
     "execution_count": 56,
     "metadata": {},
     "output_type": "execute_result"
    }
   ],
   "source": [
    "model.fit(X_train,y_train)"
   ]
  },
  {
   "cell_type": "code",
   "execution_count": 57,
   "id": "f1139ab4",
   "metadata": {},
   "outputs": [],
   "source": [
    "prediction= model.predict(X_test)"
   ]
  },
  {
   "cell_type": "code",
   "execution_count": 58,
   "id": "bdd500a9",
   "metadata": {},
   "outputs": [
    {
     "data": {
      "text/plain": [
       "array([[15.80436711,  6.15882043],\n",
       "       [15.65214246,  5.80416235],\n",
       "       [15.8130217 ,  6.19502572],\n",
       "       ...,\n",
       "       [15.67298562,  5.83951934],\n",
       "       [15.63282195,  5.73398121],\n",
       "       [15.93561241,  6.497795  ]])"
      ]
     },
     "execution_count": 58,
     "metadata": {},
     "output_type": "execute_result"
    }
   ],
   "source": [
    "prediction"
   ]
  },
  {
   "cell_type": "code",
   "execution_count": 59,
   "id": "80a61e25",
   "metadata": {},
   "outputs": [
    {
     "data": {
      "text/html": [
       "<div>\n",
       "<style scoped>\n",
       "    .dataframe tbody tr th:only-of-type {\n",
       "        vertical-align: middle;\n",
       "    }\n",
       "\n",
       "    .dataframe tbody tr th {\n",
       "        vertical-align: top;\n",
       "    }\n",
       "\n",
       "    .dataframe thead th {\n",
       "        text-align: right;\n",
       "    }\n",
       "</style>\n",
       "<table border=\"1\" class=\"dataframe\">\n",
       "  <thead>\n",
       "    <tr style=\"text-align: right;\">\n",
       "      <th></th>\n",
       "      <th>Day</th>\n",
       "      <th>Month</th>\n",
       "    </tr>\n",
       "  </thead>\n",
       "  <tbody>\n",
       "    <tr>\n",
       "      <th>1872703</th>\n",
       "      <td>25</td>\n",
       "      <td>07</td>\n",
       "    </tr>\n",
       "    <tr>\n",
       "      <th>798761</th>\n",
       "      <td>14</td>\n",
       "      <td>01</td>\n",
       "    </tr>\n",
       "    <tr>\n",
       "      <th>17499</th>\n",
       "      <td>05</td>\n",
       "      <td>04</td>\n",
       "    </tr>\n",
       "    <tr>\n",
       "      <th>254561</th>\n",
       "      <td>09</td>\n",
       "      <td>02</td>\n",
       "    </tr>\n",
       "    <tr>\n",
       "      <th>1627415</th>\n",
       "      <td>06</td>\n",
       "      <td>02</td>\n",
       "    </tr>\n",
       "    <tr>\n",
       "      <th>...</th>\n",
       "      <td>...</td>\n",
       "      <td>...</td>\n",
       "    </tr>\n",
       "    <tr>\n",
       "      <th>1430942</th>\n",
       "      <td>16</td>\n",
       "      <td>07</td>\n",
       "    </tr>\n",
       "    <tr>\n",
       "      <th>2091370</th>\n",
       "      <td>18</td>\n",
       "      <td>06</td>\n",
       "    </tr>\n",
       "    <tr>\n",
       "      <th>411312</th>\n",
       "      <td>24</td>\n",
       "      <td>05</td>\n",
       "    </tr>\n",
       "    <tr>\n",
       "      <th>1722643</th>\n",
       "      <td>17</td>\n",
       "      <td>07</td>\n",
       "    </tr>\n",
       "    <tr>\n",
       "      <th>1033028</th>\n",
       "      <td>30</td>\n",
       "      <td>05</td>\n",
       "    </tr>\n",
       "  </tbody>\n",
       "</table>\n",
       "<p>326168 rows × 2 columns</p>\n",
       "</div>"
      ],
      "text/plain": [
       "        Day Month\n",
       "1872703  25    07\n",
       "798761   14    01\n",
       "17499    05    04\n",
       "254561   09    02\n",
       "1627415  06    02\n",
       "...      ..   ...\n",
       "1430942  16    07\n",
       "2091370  18    06\n",
       "411312   24    05\n",
       "1722643  17    07\n",
       "1033028  30    05\n",
       "\n",
       "[326168 rows x 2 columns]"
      ]
     },
     "execution_count": 59,
     "metadata": {},
     "output_type": "execute_result"
    }
   ],
   "source": [
    "y_test"
   ]
  },
  {
   "cell_type": "code",
   "execution_count": 60,
   "id": "6cd31bef",
   "metadata": {},
   "outputs": [
    {
     "data": {
      "text/plain": [
       "array([[15.80436711,  6.15882043],\n",
       "       [15.65214246,  5.80416235],\n",
       "       [15.8130217 ,  6.19502572],\n",
       "       ...,\n",
       "       [15.67298562,  5.83951934],\n",
       "       [15.63282195,  5.73398121],\n",
       "       [15.93561241,  6.497795  ]])"
      ]
     },
     "execution_count": 60,
     "metadata": {},
     "output_type": "execute_result"
    }
   ],
   "source": [
    "prediction"
   ]
  },
  {
   "cell_type": "code",
   "execution_count": 61,
   "id": "39e37928",
   "metadata": {},
   "outputs": [],
   "source": [
    "prediction=np.round(prediction,decimals =0)"
   ]
  },
  {
   "cell_type": "code",
   "execution_count": 62,
   "id": "26c8f486",
   "metadata": {},
   "outputs": [
    {
     "data": {
      "text/plain": [
       "array([[16.,  6.],\n",
       "       [16.,  6.],\n",
       "       [16.,  6.],\n",
       "       ...,\n",
       "       [16.,  6.],\n",
       "       [16.,  6.],\n",
       "       [16.,  6.]])"
      ]
     },
     "execution_count": 62,
     "metadata": {},
     "output_type": "execute_result"
    }
   ],
   "source": [
    "prediction"
   ]
  },
  {
   "cell_type": "code",
   "execution_count": 63,
   "id": "73fcf6e6",
   "metadata": {},
   "outputs": [
    {
     "data": {
      "text/plain": [
       "6.0    255235\n",
       "7.0     70575\n",
       "8.0       358\n",
       "Name: 1, dtype: int64"
      ]
     },
     "execution_count": 63,
     "metadata": {},
     "output_type": "execute_result"
    }
   ],
   "source": [
    "pd.DataFrame(prediction)[1].value_counts()"
   ]
  },
  {
   "cell_type": "code",
   "execution_count": 64,
   "id": "46a92fba",
   "metadata": {},
   "outputs": [
    {
     "data": {
      "text/html": [
       "<div>\n",
       "<style scoped>\n",
       "    .dataframe tbody tr th:only-of-type {\n",
       "        vertical-align: middle;\n",
       "    }\n",
       "\n",
       "    .dataframe tbody tr th {\n",
       "        vertical-align: top;\n",
       "    }\n",
       "\n",
       "    .dataframe thead th {\n",
       "        text-align: right;\n",
       "    }\n",
       "</style>\n",
       "<table border=\"1\" class=\"dataframe\">\n",
       "  <thead>\n",
       "    <tr style=\"text-align: right;\">\n",
       "      <th></th>\n",
       "      <th>Day</th>\n",
       "      <th>Month</th>\n",
       "    </tr>\n",
       "  </thead>\n",
       "  <tbody>\n",
       "    <tr>\n",
       "      <th>1872703</th>\n",
       "      <td>25</td>\n",
       "      <td>07</td>\n",
       "    </tr>\n",
       "    <tr>\n",
       "      <th>798761</th>\n",
       "      <td>14</td>\n",
       "      <td>01</td>\n",
       "    </tr>\n",
       "    <tr>\n",
       "      <th>17499</th>\n",
       "      <td>05</td>\n",
       "      <td>04</td>\n",
       "    </tr>\n",
       "    <tr>\n",
       "      <th>254561</th>\n",
       "      <td>09</td>\n",
       "      <td>02</td>\n",
       "    </tr>\n",
       "    <tr>\n",
       "      <th>1627415</th>\n",
       "      <td>06</td>\n",
       "      <td>02</td>\n",
       "    </tr>\n",
       "    <tr>\n",
       "      <th>...</th>\n",
       "      <td>...</td>\n",
       "      <td>...</td>\n",
       "    </tr>\n",
       "    <tr>\n",
       "      <th>1430942</th>\n",
       "      <td>16</td>\n",
       "      <td>07</td>\n",
       "    </tr>\n",
       "    <tr>\n",
       "      <th>2091370</th>\n",
       "      <td>18</td>\n",
       "      <td>06</td>\n",
       "    </tr>\n",
       "    <tr>\n",
       "      <th>411312</th>\n",
       "      <td>24</td>\n",
       "      <td>05</td>\n",
       "    </tr>\n",
       "    <tr>\n",
       "      <th>1722643</th>\n",
       "      <td>17</td>\n",
       "      <td>07</td>\n",
       "    </tr>\n",
       "    <tr>\n",
       "      <th>1033028</th>\n",
       "      <td>30</td>\n",
       "      <td>05</td>\n",
       "    </tr>\n",
       "  </tbody>\n",
       "</table>\n",
       "<p>326168 rows × 2 columns</p>\n",
       "</div>"
      ],
      "text/plain": [
       "        Day Month\n",
       "1872703  25    07\n",
       "798761   14    01\n",
       "17499    05    04\n",
       "254561   09    02\n",
       "1627415  06    02\n",
       "...      ..   ...\n",
       "1430942  16    07\n",
       "2091370  18    06\n",
       "411312   24    05\n",
       "1722643  17    07\n",
       "1033028  30    05\n",
       "\n",
       "[326168 rows x 2 columns]"
      ]
     },
     "execution_count": 64,
     "metadata": {},
     "output_type": "execute_result"
    }
   ],
   "source": [
    "y_test"
   ]
  },
  {
   "cell_type": "code",
   "execution_count": 65,
   "id": "186f0f12",
   "metadata": {},
   "outputs": [
    {
     "data": {
      "text/plain": [
       "array([[16.,  6.],\n",
       "       [16.,  6.],\n",
       "       [16.,  6.],\n",
       "       ...,\n",
       "       [16.,  6.],\n",
       "       [16.,  6.],\n",
       "       [16.,  6.]])"
      ]
     },
     "execution_count": 65,
     "metadata": {},
     "output_type": "execute_result"
    }
   ],
   "source": [
    "prediction"
   ]
  },
  {
   "cell_type": "code",
   "execution_count": 66,
   "id": "f306412b",
   "metadata": {},
   "outputs": [],
   "source": [
    "y_test[\"Day_pred\"]=prediction[:,0]\n",
    "y_test[\"month_pred\"]=prediction[:,1]"
   ]
  },
  {
   "cell_type": "code",
   "execution_count": 67,
   "id": "67c9fa25",
   "metadata": {
    "scrolled": true
   },
   "outputs": [
    {
     "data": {
      "text/html": [
       "<div>\n",
       "<style scoped>\n",
       "    .dataframe tbody tr th:only-of-type {\n",
       "        vertical-align: middle;\n",
       "    }\n",
       "\n",
       "    .dataframe tbody tr th {\n",
       "        vertical-align: top;\n",
       "    }\n",
       "\n",
       "    .dataframe thead th {\n",
       "        text-align: right;\n",
       "    }\n",
       "</style>\n",
       "<table border=\"1\" class=\"dataframe\">\n",
       "  <thead>\n",
       "    <tr style=\"text-align: right;\">\n",
       "      <th></th>\n",
       "      <th>Day</th>\n",
       "      <th>Month</th>\n",
       "      <th>Day_pred</th>\n",
       "      <th>month_pred</th>\n",
       "    </tr>\n",
       "  </thead>\n",
       "  <tbody>\n",
       "    <tr>\n",
       "      <th>1872703</th>\n",
       "      <td>25</td>\n",
       "      <td>07</td>\n",
       "      <td>16.0</td>\n",
       "      <td>6.0</td>\n",
       "    </tr>\n",
       "    <tr>\n",
       "      <th>798761</th>\n",
       "      <td>14</td>\n",
       "      <td>01</td>\n",
       "      <td>16.0</td>\n",
       "      <td>6.0</td>\n",
       "    </tr>\n",
       "    <tr>\n",
       "      <th>17499</th>\n",
       "      <td>05</td>\n",
       "      <td>04</td>\n",
       "      <td>16.0</td>\n",
       "      <td>6.0</td>\n",
       "    </tr>\n",
       "    <tr>\n",
       "      <th>254561</th>\n",
       "      <td>09</td>\n",
       "      <td>02</td>\n",
       "      <td>16.0</td>\n",
       "      <td>6.0</td>\n",
       "    </tr>\n",
       "    <tr>\n",
       "      <th>1627415</th>\n",
       "      <td>06</td>\n",
       "      <td>02</td>\n",
       "      <td>16.0</td>\n",
       "      <td>6.0</td>\n",
       "    </tr>\n",
       "    <tr>\n",
       "      <th>...</th>\n",
       "      <td>...</td>\n",
       "      <td>...</td>\n",
       "      <td>...</td>\n",
       "      <td>...</td>\n",
       "    </tr>\n",
       "    <tr>\n",
       "      <th>1430942</th>\n",
       "      <td>16</td>\n",
       "      <td>07</td>\n",
       "      <td>16.0</td>\n",
       "      <td>6.0</td>\n",
       "    </tr>\n",
       "    <tr>\n",
       "      <th>2091370</th>\n",
       "      <td>18</td>\n",
       "      <td>06</td>\n",
       "      <td>16.0</td>\n",
       "      <td>6.0</td>\n",
       "    </tr>\n",
       "    <tr>\n",
       "      <th>411312</th>\n",
       "      <td>24</td>\n",
       "      <td>05</td>\n",
       "      <td>16.0</td>\n",
       "      <td>6.0</td>\n",
       "    </tr>\n",
       "    <tr>\n",
       "      <th>1722643</th>\n",
       "      <td>17</td>\n",
       "      <td>07</td>\n",
       "      <td>16.0</td>\n",
       "      <td>6.0</td>\n",
       "    </tr>\n",
       "    <tr>\n",
       "      <th>1033028</th>\n",
       "      <td>30</td>\n",
       "      <td>05</td>\n",
       "      <td>16.0</td>\n",
       "      <td>6.0</td>\n",
       "    </tr>\n",
       "  </tbody>\n",
       "</table>\n",
       "<p>326168 rows × 4 columns</p>\n",
       "</div>"
      ],
      "text/plain": [
       "        Day Month  Day_pred  month_pred\n",
       "1872703  25    07      16.0         6.0\n",
       "798761   14    01      16.0         6.0\n",
       "17499    05    04      16.0         6.0\n",
       "254561   09    02      16.0         6.0\n",
       "1627415  06    02      16.0         6.0\n",
       "...      ..   ...       ...         ...\n",
       "1430942  16    07      16.0         6.0\n",
       "2091370  18    06      16.0         6.0\n",
       "411312   24    05      16.0         6.0\n",
       "1722643  17    07      16.0         6.0\n",
       "1033028  30    05      16.0         6.0\n",
       "\n",
       "[326168 rows x 4 columns]"
      ]
     },
     "execution_count": 67,
     "metadata": {},
     "output_type": "execute_result"
    }
   ],
   "source": [
    "y_test"
   ]
  },
  {
   "cell_type": "code",
   "execution_count": 74,
   "id": "243eac89",
   "metadata": {},
   "outputs": [
    {
     "data": {
      "text/plain": [
       "(326168, 2)"
      ]
     },
     "execution_count": 74,
     "metadata": {},
     "output_type": "execute_result"
    }
   ],
   "source": [
    "prediction.shape"
   ]
  },
  {
   "cell_type": "code",
   "execution_count": 68,
   "id": "10b12841",
   "metadata": {},
   "outputs": [
    {
     "data": {
      "text/plain": [
       "16.0    326168\n",
       "Name: Day_pred, dtype: int64"
      ]
     },
     "execution_count": 68,
     "metadata": {},
     "output_type": "execute_result"
    }
   ],
   "source": [
    "y_test[\"Day_pred\"].value_counts()"
   ]
  },
  {
   "cell_type": "code",
   "execution_count": 69,
   "id": "8a3d836d",
   "metadata": {},
   "outputs": [
    {
     "data": {
      "text/plain": [
       "6.0    255235\n",
       "7.0     70575\n",
       "8.0       358\n",
       "Name: month_pred, dtype: int64"
      ]
     },
     "execution_count": 69,
     "metadata": {},
     "output_type": "execute_result"
    }
   ],
   "source": [
    "y_test[\"month_pred\"].value_counts()"
   ]
  },
  {
   "cell_type": "code",
   "execution_count": null,
   "id": "ecde0c08",
   "metadata": {},
   "outputs": [],
   "source": []
  },
  {
   "cell_type": "code",
   "execution_count": 70,
   "id": "6d50d914",
   "metadata": {},
   "outputs": [],
   "source": [
    "prediction=pd.DataFrame(prediction,columns=[\"Day\",\"Month\"])"
   ]
  },
  {
   "cell_type": "code",
   "execution_count": 75,
   "id": "950774f4",
   "metadata": {},
   "outputs": [],
   "source": [
    "prediction_new=pd.concat([prediction,df1[\"Year\"].head(326168)],axis=1)"
   ]
  },
  {
   "cell_type": "code",
   "execution_count": 76,
   "id": "5aaed322",
   "metadata": {},
   "outputs": [],
   "source": [
    "prediction_new=prediction_new[[\"Year\",\"Month\",\"Day\"]]"
   ]
  },
  {
   "cell_type": "code",
   "execution_count": 77,
   "id": "f2e804ed",
   "metadata": {},
   "outputs": [
    {
     "data": {
      "text/html": [
       "<div>\n",
       "<style scoped>\n",
       "    .dataframe tbody tr th:only-of-type {\n",
       "        vertical-align: middle;\n",
       "    }\n",
       "\n",
       "    .dataframe tbody tr th {\n",
       "        vertical-align: top;\n",
       "    }\n",
       "\n",
       "    .dataframe thead th {\n",
       "        text-align: right;\n",
       "    }\n",
       "</style>\n",
       "<table border=\"1\" class=\"dataframe\">\n",
       "  <thead>\n",
       "    <tr style=\"text-align: right;\">\n",
       "      <th></th>\n",
       "      <th>Year</th>\n",
       "      <th>Month</th>\n",
       "      <th>Day</th>\n",
       "    </tr>\n",
       "  </thead>\n",
       "  <tbody>\n",
       "    <tr>\n",
       "      <th>0</th>\n",
       "      <td>2019</td>\n",
       "      <td>6.0</td>\n",
       "      <td>16.0</td>\n",
       "    </tr>\n",
       "    <tr>\n",
       "      <th>1</th>\n",
       "      <td>2019</td>\n",
       "      <td>6.0</td>\n",
       "      <td>16.0</td>\n",
       "    </tr>\n",
       "    <tr>\n",
       "      <th>2</th>\n",
       "      <td>2019</td>\n",
       "      <td>6.0</td>\n",
       "      <td>16.0</td>\n",
       "    </tr>\n",
       "    <tr>\n",
       "      <th>3</th>\n",
       "      <td>2019</td>\n",
       "      <td>6.0</td>\n",
       "      <td>16.0</td>\n",
       "    </tr>\n",
       "    <tr>\n",
       "      <th>4</th>\n",
       "      <td>2019</td>\n",
       "      <td>6.0</td>\n",
       "      <td>16.0</td>\n",
       "    </tr>\n",
       "    <tr>\n",
       "      <th>...</th>\n",
       "      <td>...</td>\n",
       "      <td>...</td>\n",
       "      <td>...</td>\n",
       "    </tr>\n",
       "    <tr>\n",
       "      <th>326163</th>\n",
       "      <td>2019</td>\n",
       "      <td>6.0</td>\n",
       "      <td>16.0</td>\n",
       "    </tr>\n",
       "    <tr>\n",
       "      <th>326164</th>\n",
       "      <td>2019</td>\n",
       "      <td>6.0</td>\n",
       "      <td>16.0</td>\n",
       "    </tr>\n",
       "    <tr>\n",
       "      <th>326165</th>\n",
       "      <td>2019</td>\n",
       "      <td>6.0</td>\n",
       "      <td>16.0</td>\n",
       "    </tr>\n",
       "    <tr>\n",
       "      <th>326166</th>\n",
       "      <td>2019</td>\n",
       "      <td>6.0</td>\n",
       "      <td>16.0</td>\n",
       "    </tr>\n",
       "    <tr>\n",
       "      <th>326167</th>\n",
       "      <td>2019</td>\n",
       "      <td>6.0</td>\n",
       "      <td>16.0</td>\n",
       "    </tr>\n",
       "  </tbody>\n",
       "</table>\n",
       "<p>326168 rows × 3 columns</p>\n",
       "</div>"
      ],
      "text/plain": [
       "        Year  Month   Day\n",
       "0       2019    6.0  16.0\n",
       "1       2019    6.0  16.0\n",
       "2       2019    6.0  16.0\n",
       "3       2019    6.0  16.0\n",
       "4       2019    6.0  16.0\n",
       "...      ...    ...   ...\n",
       "326163  2019    6.0  16.0\n",
       "326164  2019    6.0  16.0\n",
       "326165  2019    6.0  16.0\n",
       "326166  2019    6.0  16.0\n",
       "326167  2019    6.0  16.0\n",
       "\n",
       "[326168 rows x 3 columns]"
      ]
     },
     "execution_count": 77,
     "metadata": {},
     "output_type": "execute_result"
    }
   ],
   "source": [
    "prediction_new"
   ]
  },
  {
   "cell_type": "code",
   "execution_count": 79,
   "id": "1fec4bf6",
   "metadata": {},
   "outputs": [],
   "source": [
    "#month = prediction_new[\"Month\"].copy()\n",
    "#prediction_new[\"Year\"]= prediction_new[\"Year\"].str.cat(month, sep =\"-\")\n",
    "#prediction_new[\"Year\"].str.cat(prediction_new[\"Month\"], sep='-')"
   ]
  },
  {
   "cell_type": "code",
   "execution_count": 80,
   "id": "4d811c8d",
   "metadata": {},
   "outputs": [
    {
     "data": {
      "text/plain": [
       "Year     0\n",
       "Month    0\n",
       "Day      0\n",
       "dtype: int64"
      ]
     },
     "execution_count": 80,
     "metadata": {},
     "output_type": "execute_result"
    }
   ],
   "source": [
    "prediction_new.isnull().sum()"
   ]
  },
  {
   "cell_type": "code",
   "execution_count": 81,
   "id": "daca527d",
   "metadata": {},
   "outputs": [
    {
     "data": {
      "text/html": [
       "<div>\n",
       "<style scoped>\n",
       "    .dataframe tbody tr th:only-of-type {\n",
       "        vertical-align: middle;\n",
       "    }\n",
       "\n",
       "    .dataframe tbody tr th {\n",
       "        vertical-align: top;\n",
       "    }\n",
       "\n",
       "    .dataframe thead th {\n",
       "        text-align: right;\n",
       "    }\n",
       "</style>\n",
       "<table border=\"1\" class=\"dataframe\">\n",
       "  <thead>\n",
       "    <tr style=\"text-align: right;\">\n",
       "      <th></th>\n",
       "      <th>Year</th>\n",
       "    </tr>\n",
       "  </thead>\n",
       "  <tbody>\n",
       "    <tr>\n",
       "      <th>0</th>\n",
       "      <td>2019</td>\n",
       "    </tr>\n",
       "    <tr>\n",
       "      <th>1</th>\n",
       "      <td>2019</td>\n",
       "    </tr>\n",
       "    <tr>\n",
       "      <th>2</th>\n",
       "      <td>2019</td>\n",
       "    </tr>\n",
       "    <tr>\n",
       "      <th>3</th>\n",
       "      <td>2019</td>\n",
       "    </tr>\n",
       "    <tr>\n",
       "      <th>4</th>\n",
       "      <td>2019</td>\n",
       "    </tr>\n",
       "    <tr>\n",
       "      <th>...</th>\n",
       "      <td>...</td>\n",
       "    </tr>\n",
       "    <tr>\n",
       "      <th>326163</th>\n",
       "      <td>2019</td>\n",
       "    </tr>\n",
       "    <tr>\n",
       "      <th>326164</th>\n",
       "      <td>2019</td>\n",
       "    </tr>\n",
       "    <tr>\n",
       "      <th>326165</th>\n",
       "      <td>2019</td>\n",
       "    </tr>\n",
       "    <tr>\n",
       "      <th>326166</th>\n",
       "      <td>2019</td>\n",
       "    </tr>\n",
       "    <tr>\n",
       "      <th>326167</th>\n",
       "      <td>2019</td>\n",
       "    </tr>\n",
       "  </tbody>\n",
       "</table>\n",
       "<p>326168 rows × 1 columns</p>\n",
       "</div>"
      ],
      "text/plain": [
       "        Year\n",
       "0       2019\n",
       "1       2019\n",
       "2       2019\n",
       "3       2019\n",
       "4       2019\n",
       "...      ...\n",
       "326163  2019\n",
       "326164  2019\n",
       "326165  2019\n",
       "326166  2019\n",
       "326167  2019\n",
       "\n",
       "[326168 rows x 1 columns]"
      ]
     },
     "execution_count": 81,
     "metadata": {},
     "output_type": "execute_result"
    }
   ],
   "source": [
    "prediction_new[[\"Year\"]]"
   ]
  },
  {
   "cell_type": "code",
   "execution_count": 82,
   "id": "b3fdef2e",
   "metadata": {},
   "outputs": [
    {
     "data": {
      "text/plain": [
       "0         6.0\n",
       "1         6.0\n",
       "2         6.0\n",
       "3         6.0\n",
       "4         6.0\n",
       "         ... \n",
       "326163    6.0\n",
       "326164    6.0\n",
       "326165    6.0\n",
       "326166    6.0\n",
       "326167    6.0\n",
       "Name: Month, Length: 326168, dtype: float64"
      ]
     },
     "execution_count": 82,
     "metadata": {},
     "output_type": "execute_result"
    }
   ],
   "source": [
    "pd.Series(prediction_new[\"Month\"])"
   ]
  },
  {
   "cell_type": "code",
   "execution_count": 83,
   "id": "a95d568d",
   "metadata": {},
   "outputs": [
    {
     "data": {
      "text/plain": [
       "0         6.0\n",
       "1         6.0\n",
       "2         6.0\n",
       "3         6.0\n",
       "4         6.0\n",
       "         ... \n",
       "326163    6.0\n",
       "326164    6.0\n",
       "326165    6.0\n",
       "326166    6.0\n",
       "326167    6.0\n",
       "Name: Month, Length: 326168, dtype: float64"
      ]
     },
     "execution_count": 83,
     "metadata": {},
     "output_type": "execute_result"
    }
   ],
   "source": [
    "prediction_new[\"Month\"]"
   ]
  },
  {
   "cell_type": "code",
   "execution_count": 84,
   "id": "c8132746",
   "metadata": {},
   "outputs": [
    {
     "data": {
      "text/html": [
       "<div>\n",
       "<style scoped>\n",
       "    .dataframe tbody tr th:only-of-type {\n",
       "        vertical-align: middle;\n",
       "    }\n",
       "\n",
       "    .dataframe tbody tr th {\n",
       "        vertical-align: top;\n",
       "    }\n",
       "\n",
       "    .dataframe thead th {\n",
       "        text-align: right;\n",
       "    }\n",
       "</style>\n",
       "<table border=\"1\" class=\"dataframe\">\n",
       "  <thead>\n",
       "    <tr style=\"text-align: right;\">\n",
       "      <th></th>\n",
       "      <th>Year</th>\n",
       "      <th>Month</th>\n",
       "      <th>Day</th>\n",
       "    </tr>\n",
       "  </thead>\n",
       "  <tbody>\n",
       "    <tr>\n",
       "      <th>0</th>\n",
       "      <td>2019</td>\n",
       "      <td>6.0</td>\n",
       "      <td>16.0</td>\n",
       "    </tr>\n",
       "    <tr>\n",
       "      <th>1</th>\n",
       "      <td>2019</td>\n",
       "      <td>6.0</td>\n",
       "      <td>16.0</td>\n",
       "    </tr>\n",
       "    <tr>\n",
       "      <th>2</th>\n",
       "      <td>2019</td>\n",
       "      <td>6.0</td>\n",
       "      <td>16.0</td>\n",
       "    </tr>\n",
       "    <tr>\n",
       "      <th>3</th>\n",
       "      <td>2019</td>\n",
       "      <td>6.0</td>\n",
       "      <td>16.0</td>\n",
       "    </tr>\n",
       "    <tr>\n",
       "      <th>4</th>\n",
       "      <td>2019</td>\n",
       "      <td>6.0</td>\n",
       "      <td>16.0</td>\n",
       "    </tr>\n",
       "    <tr>\n",
       "      <th>...</th>\n",
       "      <td>...</td>\n",
       "      <td>...</td>\n",
       "      <td>...</td>\n",
       "    </tr>\n",
       "    <tr>\n",
       "      <th>326163</th>\n",
       "      <td>2019</td>\n",
       "      <td>6.0</td>\n",
       "      <td>16.0</td>\n",
       "    </tr>\n",
       "    <tr>\n",
       "      <th>326164</th>\n",
       "      <td>2019</td>\n",
       "      <td>6.0</td>\n",
       "      <td>16.0</td>\n",
       "    </tr>\n",
       "    <tr>\n",
       "      <th>326165</th>\n",
       "      <td>2019</td>\n",
       "      <td>6.0</td>\n",
       "      <td>16.0</td>\n",
       "    </tr>\n",
       "    <tr>\n",
       "      <th>326166</th>\n",
       "      <td>2019</td>\n",
       "      <td>6.0</td>\n",
       "      <td>16.0</td>\n",
       "    </tr>\n",
       "    <tr>\n",
       "      <th>326167</th>\n",
       "      <td>2019</td>\n",
       "      <td>6.0</td>\n",
       "      <td>16.0</td>\n",
       "    </tr>\n",
       "  </tbody>\n",
       "</table>\n",
       "<p>326168 rows × 3 columns</p>\n",
       "</div>"
      ],
      "text/plain": [
       "        Year  Month   Day\n",
       "0       2019    6.0  16.0\n",
       "1       2019    6.0  16.0\n",
       "2       2019    6.0  16.0\n",
       "3       2019    6.0  16.0\n",
       "4       2019    6.0  16.0\n",
       "...      ...    ...   ...\n",
       "326163  2019    6.0  16.0\n",
       "326164  2019    6.0  16.0\n",
       "326165  2019    6.0  16.0\n",
       "326166  2019    6.0  16.0\n",
       "326167  2019    6.0  16.0\n",
       "\n",
       "[326168 rows x 3 columns]"
      ]
     },
     "execution_count": 84,
     "metadata": {},
     "output_type": "execute_result"
    }
   ],
   "source": [
    "prediction_new"
   ]
  },
  {
   "cell_type": "code",
   "execution_count": 85,
   "id": "ecb8dae5",
   "metadata": {},
   "outputs": [],
   "source": [
    "prediction_new['Full Date'] = prediction_new['Year'].map(str) + '-' + prediction_new['Month'].map(str) + '-' + prediction_new['Day'].map(str)"
   ]
  },
  {
   "cell_type": "code",
   "execution_count": 86,
   "id": "ce8e39f6",
   "metadata": {},
   "outputs": [
    {
     "data": {
      "text/html": [
       "<div>\n",
       "<style scoped>\n",
       "    .dataframe tbody tr th:only-of-type {\n",
       "        vertical-align: middle;\n",
       "    }\n",
       "\n",
       "    .dataframe tbody tr th {\n",
       "        vertical-align: top;\n",
       "    }\n",
       "\n",
       "    .dataframe thead th {\n",
       "        text-align: right;\n",
       "    }\n",
       "</style>\n",
       "<table border=\"1\" class=\"dataframe\">\n",
       "  <thead>\n",
       "    <tr style=\"text-align: right;\">\n",
       "      <th></th>\n",
       "      <th>Year</th>\n",
       "      <th>Month</th>\n",
       "      <th>Day</th>\n",
       "      <th>Full Date</th>\n",
       "    </tr>\n",
       "  </thead>\n",
       "  <tbody>\n",
       "    <tr>\n",
       "      <th>0</th>\n",
       "      <td>2019</td>\n",
       "      <td>6.0</td>\n",
       "      <td>16.0</td>\n",
       "      <td>2019-6.0-16.0</td>\n",
       "    </tr>\n",
       "    <tr>\n",
       "      <th>1</th>\n",
       "      <td>2019</td>\n",
       "      <td>6.0</td>\n",
       "      <td>16.0</td>\n",
       "      <td>2019-6.0-16.0</td>\n",
       "    </tr>\n",
       "    <tr>\n",
       "      <th>2</th>\n",
       "      <td>2019</td>\n",
       "      <td>6.0</td>\n",
       "      <td>16.0</td>\n",
       "      <td>2019-6.0-16.0</td>\n",
       "    </tr>\n",
       "    <tr>\n",
       "      <th>3</th>\n",
       "      <td>2019</td>\n",
       "      <td>6.0</td>\n",
       "      <td>16.0</td>\n",
       "      <td>2019-6.0-16.0</td>\n",
       "    </tr>\n",
       "    <tr>\n",
       "      <th>4</th>\n",
       "      <td>2019</td>\n",
       "      <td>6.0</td>\n",
       "      <td>16.0</td>\n",
       "      <td>2019-6.0-16.0</td>\n",
       "    </tr>\n",
       "    <tr>\n",
       "      <th>...</th>\n",
       "      <td>...</td>\n",
       "      <td>...</td>\n",
       "      <td>...</td>\n",
       "      <td>...</td>\n",
       "    </tr>\n",
       "    <tr>\n",
       "      <th>326163</th>\n",
       "      <td>2019</td>\n",
       "      <td>6.0</td>\n",
       "      <td>16.0</td>\n",
       "      <td>2019-6.0-16.0</td>\n",
       "    </tr>\n",
       "    <tr>\n",
       "      <th>326164</th>\n",
       "      <td>2019</td>\n",
       "      <td>6.0</td>\n",
       "      <td>16.0</td>\n",
       "      <td>2019-6.0-16.0</td>\n",
       "    </tr>\n",
       "    <tr>\n",
       "      <th>326165</th>\n",
       "      <td>2019</td>\n",
       "      <td>6.0</td>\n",
       "      <td>16.0</td>\n",
       "      <td>2019-6.0-16.0</td>\n",
       "    </tr>\n",
       "    <tr>\n",
       "      <th>326166</th>\n",
       "      <td>2019</td>\n",
       "      <td>6.0</td>\n",
       "      <td>16.0</td>\n",
       "      <td>2019-6.0-16.0</td>\n",
       "    </tr>\n",
       "    <tr>\n",
       "      <th>326167</th>\n",
       "      <td>2019</td>\n",
       "      <td>6.0</td>\n",
       "      <td>16.0</td>\n",
       "      <td>2019-6.0-16.0</td>\n",
       "    </tr>\n",
       "  </tbody>\n",
       "</table>\n",
       "<p>326168 rows × 4 columns</p>\n",
       "</div>"
      ],
      "text/plain": [
       "        Year  Month   Day      Full Date\n",
       "0       2019    6.0  16.0  2019-6.0-16.0\n",
       "1       2019    6.0  16.0  2019-6.0-16.0\n",
       "2       2019    6.0  16.0  2019-6.0-16.0\n",
       "3       2019    6.0  16.0  2019-6.0-16.0\n",
       "4       2019    6.0  16.0  2019-6.0-16.0\n",
       "...      ...    ...   ...            ...\n",
       "326163  2019    6.0  16.0  2019-6.0-16.0\n",
       "326164  2019    6.0  16.0  2019-6.0-16.0\n",
       "326165  2019    6.0  16.0  2019-6.0-16.0\n",
       "326166  2019    6.0  16.0  2019-6.0-16.0\n",
       "326167  2019    6.0  16.0  2019-6.0-16.0\n",
       "\n",
       "[326168 rows x 4 columns]"
      ]
     },
     "execution_count": 86,
     "metadata": {},
     "output_type": "execute_result"
    }
   ],
   "source": [
    "prediction_new"
   ]
  },
  {
   "cell_type": "code",
   "execution_count": 87,
   "id": "f10b2568",
   "metadata": {},
   "outputs": [],
   "source": [
    "next_purchase=prediction_new['Full Date']"
   ]
  },
  {
   "cell_type": "code",
   "execution_count": 88,
   "id": "a8a7b97a",
   "metadata": {},
   "outputs": [],
   "source": [
    "next_purchase=next_purchase.to_frame(name=\"next_purchase\")\n"
   ]
  },
  {
   "cell_type": "code",
   "execution_count": 89,
   "id": "9037f187",
   "metadata": {},
   "outputs": [],
   "source": [
    "next_perchase=next_purchase.set_index(\"next_purchase\")"
   ]
  },
  {
   "cell_type": "code",
   "execution_count": 90,
   "id": "c8fbca43",
   "metadata": {},
   "outputs": [
    {
     "data": {
      "text/html": [
       "<div>\n",
       "<style scoped>\n",
       "    .dataframe tbody tr th:only-of-type {\n",
       "        vertical-align: middle;\n",
       "    }\n",
       "\n",
       "    .dataframe tbody tr th {\n",
       "        vertical-align: top;\n",
       "    }\n",
       "\n",
       "    .dataframe thead th {\n",
       "        text-align: right;\n",
       "    }\n",
       "</style>\n",
       "<table border=\"1\" class=\"dataframe\">\n",
       "  <thead>\n",
       "    <tr style=\"text-align: right;\">\n",
       "      <th></th>\n",
       "    </tr>\n",
       "    <tr>\n",
       "      <th>next_purchase</th>\n",
       "    </tr>\n",
       "  </thead>\n",
       "  <tbody>\n",
       "    <tr>\n",
       "      <th>2019-6.0-16.0</th>\n",
       "    </tr>\n",
       "    <tr>\n",
       "      <th>2019-6.0-16.0</th>\n",
       "    </tr>\n",
       "    <tr>\n",
       "      <th>2019-6.0-16.0</th>\n",
       "    </tr>\n",
       "    <tr>\n",
       "      <th>2019-6.0-16.0</th>\n",
       "    </tr>\n",
       "    <tr>\n",
       "      <th>2019-6.0-16.0</th>\n",
       "    </tr>\n",
       "    <tr>\n",
       "      <th>...</th>\n",
       "    </tr>\n",
       "    <tr>\n",
       "      <th>2019-6.0-16.0</th>\n",
       "    </tr>\n",
       "    <tr>\n",
       "      <th>2019-6.0-16.0</th>\n",
       "    </tr>\n",
       "    <tr>\n",
       "      <th>2019-6.0-16.0</th>\n",
       "    </tr>\n",
       "    <tr>\n",
       "      <th>2019-6.0-16.0</th>\n",
       "    </tr>\n",
       "    <tr>\n",
       "      <th>2019-6.0-16.0</th>\n",
       "    </tr>\n",
       "  </tbody>\n",
       "</table>\n",
       "<p>326168 rows × 0 columns</p>\n",
       "</div>"
      ],
      "text/plain": [
       "Empty DataFrame\n",
       "Columns: []\n",
       "Index: [2019-6.0-16.0, 2019-6.0-16.0, 2019-6.0-16.0, 2019-6.0-16.0, 2019-6.0-16.0, 2019-6.0-16.0, 2019-6.0-16.0, 2019-6.0-16.0, 2019-6.0-16.0, 2019-6.0-16.0, 2019-6.0-16.0, 2019-6.0-16.0, 2019-6.0-16.0, 2019-6.0-16.0, 2019-7.0-16.0, 2019-7.0-16.0, 2019-7.0-16.0, 2019-6.0-16.0, 2019-7.0-16.0, 2019-6.0-16.0, 2019-6.0-16.0, 2019-6.0-16.0, 2019-6.0-16.0, 2019-8.0-16.0, 2019-6.0-16.0, 2019-7.0-16.0, 2019-7.0-16.0, 2019-6.0-16.0, 2019-6.0-16.0, 2019-7.0-16.0, 2019-6.0-16.0, 2019-6.0-16.0, 2019-7.0-16.0, 2019-6.0-16.0, 2019-6.0-16.0, 2019-6.0-16.0, 2019-6.0-16.0, 2019-7.0-16.0, 2019-6.0-16.0, 2019-6.0-16.0, 2019-6.0-16.0, 2019-6.0-16.0, 2019-7.0-16.0, 2019-6.0-16.0, 2019-6.0-16.0, 2019-7.0-16.0, 2019-6.0-16.0, 2019-6.0-16.0, 2019-6.0-16.0, 2019-7.0-16.0, 2019-6.0-16.0, 2019-7.0-16.0, 2019-7.0-16.0, 2019-7.0-16.0, 2019-6.0-16.0, 2019-7.0-16.0, 2019-6.0-16.0, 2019-6.0-16.0, 2019-6.0-16.0, 2019-6.0-16.0, 2019-6.0-16.0, 2019-6.0-16.0, 2019-7.0-16.0, 2019-6.0-16.0, 2019-6.0-16.0, 2019-6.0-16.0, 2019-6.0-16.0, 2019-7.0-16.0, 2019-6.0-16.0, 2019-6.0-16.0, 2019-6.0-16.0, 2019-6.0-16.0, 2019-6.0-16.0, 2019-6.0-16.0, 2019-7.0-16.0, 2019-6.0-16.0, 2019-6.0-16.0, 2019-6.0-16.0, 2019-6.0-16.0, 2019-6.0-16.0, 2019-6.0-16.0, 2019-6.0-16.0, 2019-6.0-16.0, 2019-6.0-16.0, 2019-7.0-16.0, 2019-7.0-16.0, 2019-6.0-16.0, 2019-7.0-16.0, 2019-6.0-16.0, 2019-6.0-16.0, 2019-6.0-16.0, 2019-6.0-16.0, 2019-7.0-16.0, 2019-6.0-16.0, 2019-6.0-16.0, 2019-6.0-16.0, 2019-6.0-16.0, 2019-6.0-16.0, 2019-6.0-16.0, 2019-6.0-16.0, ...]\n",
       "\n",
       "[326168 rows x 0 columns]"
      ]
     },
     "execution_count": 90,
     "metadata": {},
     "output_type": "execute_result"
    }
   ],
   "source": [
    "next_perchase"
   ]
  },
  {
   "cell_type": "code",
   "execution_count": 91,
   "id": "cdb49567",
   "metadata": {},
   "outputs": [],
   "source": [
    "next_perchase=next_perchase.head(318050)"
   ]
  },
  {
   "cell_type": "code",
   "execution_count": 92,
   "id": "a2ac8a44",
   "metadata": {},
   "outputs": [
    {
     "data": {
      "text/html": [
       "<div>\n",
       "<style scoped>\n",
       "    .dataframe tbody tr th:only-of-type {\n",
       "        vertical-align: middle;\n",
       "    }\n",
       "\n",
       "    .dataframe tbody tr th {\n",
       "        vertical-align: top;\n",
       "    }\n",
       "\n",
       "    .dataframe thead th {\n",
       "        text-align: right;\n",
       "    }\n",
       "</style>\n",
       "<table border=\"1\" class=\"dataframe\">\n",
       "  <thead>\n",
       "    <tr style=\"text-align: right;\">\n",
       "      <th></th>\n",
       "    </tr>\n",
       "    <tr>\n",
       "      <th>next_purchase</th>\n",
       "    </tr>\n",
       "  </thead>\n",
       "  <tbody>\n",
       "    <tr>\n",
       "      <th>2019-6.0-16.0</th>\n",
       "    </tr>\n",
       "    <tr>\n",
       "      <th>2019-6.0-16.0</th>\n",
       "    </tr>\n",
       "    <tr>\n",
       "      <th>2019-6.0-16.0</th>\n",
       "    </tr>\n",
       "    <tr>\n",
       "      <th>2019-6.0-16.0</th>\n",
       "    </tr>\n",
       "    <tr>\n",
       "      <th>2019-6.0-16.0</th>\n",
       "    </tr>\n",
       "    <tr>\n",
       "      <th>...</th>\n",
       "    </tr>\n",
       "    <tr>\n",
       "      <th>2019-6.0-16.0</th>\n",
       "    </tr>\n",
       "    <tr>\n",
       "      <th>2019-6.0-16.0</th>\n",
       "    </tr>\n",
       "    <tr>\n",
       "      <th>2019-6.0-16.0</th>\n",
       "    </tr>\n",
       "    <tr>\n",
       "      <th>2019-6.0-16.0</th>\n",
       "    </tr>\n",
       "    <tr>\n",
       "      <th>2019-6.0-16.0</th>\n",
       "    </tr>\n",
       "  </tbody>\n",
       "</table>\n",
       "<p>318050 rows × 0 columns</p>\n",
       "</div>"
      ],
      "text/plain": [
       "Empty DataFrame\n",
       "Columns: []\n",
       "Index: [2019-6.0-16.0, 2019-6.0-16.0, 2019-6.0-16.0, 2019-6.0-16.0, 2019-6.0-16.0, 2019-6.0-16.0, 2019-6.0-16.0, 2019-6.0-16.0, 2019-6.0-16.0, 2019-6.0-16.0, 2019-6.0-16.0, 2019-6.0-16.0, 2019-6.0-16.0, 2019-6.0-16.0, 2019-7.0-16.0, 2019-7.0-16.0, 2019-7.0-16.0, 2019-6.0-16.0, 2019-7.0-16.0, 2019-6.0-16.0, 2019-6.0-16.0, 2019-6.0-16.0, 2019-6.0-16.0, 2019-8.0-16.0, 2019-6.0-16.0, 2019-7.0-16.0, 2019-7.0-16.0, 2019-6.0-16.0, 2019-6.0-16.0, 2019-7.0-16.0, 2019-6.0-16.0, 2019-6.0-16.0, 2019-7.0-16.0, 2019-6.0-16.0, 2019-6.0-16.0, 2019-6.0-16.0, 2019-6.0-16.0, 2019-7.0-16.0, 2019-6.0-16.0, 2019-6.0-16.0, 2019-6.0-16.0, 2019-6.0-16.0, 2019-7.0-16.0, 2019-6.0-16.0, 2019-6.0-16.0, 2019-7.0-16.0, 2019-6.0-16.0, 2019-6.0-16.0, 2019-6.0-16.0, 2019-7.0-16.0, 2019-6.0-16.0, 2019-7.0-16.0, 2019-7.0-16.0, 2019-7.0-16.0, 2019-6.0-16.0, 2019-7.0-16.0, 2019-6.0-16.0, 2019-6.0-16.0, 2019-6.0-16.0, 2019-6.0-16.0, 2019-6.0-16.0, 2019-6.0-16.0, 2019-7.0-16.0, 2019-6.0-16.0, 2019-6.0-16.0, 2019-6.0-16.0, 2019-6.0-16.0, 2019-7.0-16.0, 2019-6.0-16.0, 2019-6.0-16.0, 2019-6.0-16.0, 2019-6.0-16.0, 2019-6.0-16.0, 2019-6.0-16.0, 2019-7.0-16.0, 2019-6.0-16.0, 2019-6.0-16.0, 2019-6.0-16.0, 2019-6.0-16.0, 2019-6.0-16.0, 2019-6.0-16.0, 2019-6.0-16.0, 2019-6.0-16.0, 2019-6.0-16.0, 2019-7.0-16.0, 2019-7.0-16.0, 2019-6.0-16.0, 2019-7.0-16.0, 2019-6.0-16.0, 2019-6.0-16.0, 2019-6.0-16.0, 2019-6.0-16.0, 2019-7.0-16.0, 2019-6.0-16.0, 2019-6.0-16.0, 2019-6.0-16.0, 2019-6.0-16.0, 2019-6.0-16.0, 2019-6.0-16.0, 2019-6.0-16.0, ...]\n",
       "\n",
       "[318050 rows x 0 columns]"
      ]
     },
     "execution_count": 92,
     "metadata": {},
     "output_type": "execute_result"
    }
   ],
   "source": [
    "next_perchase"
   ]
  },
  {
   "cell_type": "code",
   "execution_count": 93,
   "id": "a59c6d62",
   "metadata": {},
   "outputs": [
    {
     "data": {
      "text/plain": [
       "(318050, 0)"
      ]
     },
     "execution_count": 93,
     "metadata": {},
     "output_type": "execute_result"
    }
   ],
   "source": [
    "next_perchase.shape"
   ]
  },
  {
   "cell_type": "code",
   "execution_count": null,
   "id": "e5942032",
   "metadata": {},
   "outputs": [],
   "source": []
  },
  {
   "cell_type": "code",
   "execution_count": null,
   "id": "e848d79e",
   "metadata": {},
   "outputs": [],
   "source": []
  },
  {
   "cell_type": "code",
   "execution_count": 94,
   "id": "9093b00b",
   "metadata": {},
   "outputs": [],
   "source": [
    "next_perchase.to_csv(\"answer.csv\")"
   ]
  },
  {
   "cell_type": "code",
   "execution_count": null,
   "id": "a0a156a4",
   "metadata": {},
   "outputs": [],
   "source": []
  }
 ],
 "metadata": {
  "kernelspec": {
   "display_name": "Python 3",
   "language": "python",
   "name": "python3"
  },
  "language_info": {
   "codemirror_mode": {
    "name": "ipython",
    "version": 3
   },
   "file_extension": ".py",
   "mimetype": "text/x-python",
   "name": "python",
   "nbconvert_exporter": "python",
   "pygments_lexer": "ipython3",
   "version": "3.8.5"
  }
 },
 "nbformat": 4,
 "nbformat_minor": 5
}
