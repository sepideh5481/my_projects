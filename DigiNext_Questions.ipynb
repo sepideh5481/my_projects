{
 "cells": [
  {
   "cell_type": "code",
   "execution_count": 3,
   "metadata": {},
   "outputs": [],
   "source": [
    "import pandas as pd\n",
    "import numpy as np\n",
    "import matplotlib.pyplot as plt\n",
    "%matplotlib inline"
   ]
  },
  {
   "cell_type": "markdown",
   "metadata": {},
   "source": [
    "# First Question"
   ]
  },
  {
   "cell_type": "code",
   "execution_count": 5,
   "metadata": {},
   "outputs": [],
   "source": [
    "def functionname(str,n):\n",
    "    new_string=str*n\n",
    "    print(new_string.count('a'))"
   ]
  },
  {
   "cell_type": "code",
   "execution_count": 8,
   "metadata": {},
   "outputs": [],
   "source": [
    "#چاپ کردن رشته حروف و شمارش تعداد حرف موردنظر\n",
    "def functionname(str,n):\n",
    "    new_string=str*n\n",
    "    print(new_string)\n",
    "    print(new_string.count('a'))"
   ]
  },
  {
   "cell_type": "code",
   "execution_count": 9,
   "metadata": {},
   "outputs": [
    {
     "name": "stdout",
     "output_type": "stream",
     "text": [
      "abcacabcacabcacabcacabcacabcacabcacabcacabcacabcac\n",
      "20\n"
     ]
    }
   ],
   "source": [
    "functionname('abcac',10)"
   ]
  },
  {
   "cell_type": "markdown",
   "metadata": {},
   "source": [
    "# Second Question "
   ]
  },
  {
   "cell_type": "code",
   "execution_count": 20,
   "metadata": {},
   "outputs": [],
   "source": [
    "#first_solution\n",
    "string = input('Please Enter your string with even number of A and B letters: ')\n",
    "\n",
    "def function_name(string):\n",
    "    for k in range(0,len(string)):\n",
    "        if len(string)%2==0 and string.lower()[k] == 'a' or 'b':\n",
    "            part_list=[]\n",
    "            n=2\n",
    "            for i in range(0, len(string), n):\n",
    "                part_list.append(string.lower()[i:i+n])\n",
    "            for j in range(0,len(part_list)):\n",
    "                if part_list[j] != 'ab' and part_list[j] != 'ba' :\n",
    "                    if part_list[j][0] == 'a' and part_list[j][1] == 'a':\n",
    "                        part_list[j] = part_list[j].remove(part_list[j][1])\n",
    "                        num+=1\n",
    "                    elif part_list[j][0] == 'b' and part_list[j][1] == 'b':\n",
    "                        part_list[j] = part_list[j].remove(part_list[j][1])\n",
    "                        num+=1\n",
    "                new_part_list = ''.join(part_list)\n",
    "                for l in range(0,len(string)-1, n):\n",
    "                    if new_part_list[j] != 'ab' and new_part_list[j] != 'ba':\n",
    "                        continue\n",
    "                    \n",
    "    print(num)\n",
    "    print(''.join(part_list))\n",
    "    "
   ]
  },
  {
   "cell_type": "code",
   "execution_count": 133,
   "metadata": {},
   "outputs": [],
   "source": [
    "#second_solution\n",
    "def function_name(str):\n",
    "    num=0\n",
    "    if 'a' and 'b' in str.lower():\n",
    "        for i in range(0,len(str)):\n",
    "            a=str.lower()\n",
    "            if str.lower()[i] and str.lower()[i+1] == 'a' or 'b':\n",
    "                if str.lower()[i] + str.lower()[i+1] != 'ab' or 'ba':\n",
    "                    a = a.replace(str.lower()[i+1],'')\n",
    "                    print(a)\n",
    "                    num+=1\n",
    "    print(num)\n",
    "\n"
   ]
  },
  {
   "cell_type": "code",
   "execution_count": null,
   "metadata": {},
   "outputs": [],
   "source": []
  }
 ],
 "metadata": {
  "kernelspec": {
   "display_name": "Python 3",
   "language": "python",
   "name": "python3"
  },
  "language_info": {
   "codemirror_mode": {
    "name": "ipython",
    "version": 3
   },
   "file_extension": ".py",
   "mimetype": "text/x-python",
   "name": "python",
   "nbconvert_exporter": "python",
   "pygments_lexer": "ipython3",
   "version": "3.8.5"
  }
 },
 "nbformat": 4,
 "nbformat_minor": 4
}
