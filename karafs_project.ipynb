{
 "cells": [
  {
   "cell_type": "code",
   "execution_count": 147,
   "metadata": {},
   "outputs": [],
   "source": [
    "import pandas as pd\n",
    "import numpy as np\n",
    "import matplotlib.pyplot as plt\n",
    "%matplotlib inline"
   ]
  },
  {
   "cell_type": "code",
   "execution_count": 148,
   "metadata": {},
   "outputs": [],
   "source": [
    "df_purchase= pd.read_csv(\"C:/Users/Lenovo/Desktop/karafs/purchases.csv\",parse_dates=[2])\n",
    "df_products= pd.read_csv(\"C:/Users/Lenovo/Desktop/karafs/products.csv\")\n",
    "df_users= pd.read_csv(\"C:/Users/Lenovo/Desktop/karafs/users.csv\",parse_dates=[4])"
   ]
  },
  {
   "cell_type": "code",
   "execution_count": 149,
   "metadata": {},
   "outputs": [
    {
     "data": {
      "text/html": [
       "<div>\n",
       "<style scoped>\n",
       "    .dataframe tbody tr th:only-of-type {\n",
       "        vertical-align: middle;\n",
       "    }\n",
       "\n",
       "    .dataframe tbody tr th {\n",
       "        vertical-align: top;\n",
       "    }\n",
       "\n",
       "    .dataframe thead th {\n",
       "        text-align: right;\n",
       "    }\n",
       "</style>\n",
       "<table border=\"1\" class=\"dataframe\">\n",
       "  <thead>\n",
       "    <tr style=\"text-align: right;\">\n",
       "      <th></th>\n",
       "      <th>purchaseId</th>\n",
       "      <th>userId</th>\n",
       "      <th>purchaseDate</th>\n",
       "      <th>productId</th>\n",
       "      <th>purchaseAmount</th>\n",
       "    </tr>\n",
       "  </thead>\n",
       "  <tbody>\n",
       "    <tr>\n",
       "      <th>0</th>\n",
       "      <td>8867</td>\n",
       "      <td>2701</td>\n",
       "      <td>2022-02-08</td>\n",
       "      <td>1</td>\n",
       "      <td>320000</td>\n",
       "    </tr>\n",
       "    <tr>\n",
       "      <th>1</th>\n",
       "      <td>445</td>\n",
       "      <td>2702</td>\n",
       "      <td>2021-10-26</td>\n",
       "      <td>1</td>\n",
       "      <td>250000</td>\n",
       "    </tr>\n",
       "    <tr>\n",
       "      <th>2</th>\n",
       "      <td>4719</td>\n",
       "      <td>2703</td>\n",
       "      <td>2021-12-18</td>\n",
       "      <td>1</td>\n",
       "      <td>297500</td>\n",
       "    </tr>\n",
       "    <tr>\n",
       "      <th>3</th>\n",
       "      <td>3179</td>\n",
       "      <td>2704</td>\n",
       "      <td>2021-11-28</td>\n",
       "      <td>1</td>\n",
       "      <td>250000</td>\n",
       "    </tr>\n",
       "    <tr>\n",
       "      <th>4</th>\n",
       "      <td>5493</td>\n",
       "      <td>2705</td>\n",
       "      <td>2021-12-27</td>\n",
       "      <td>1</td>\n",
       "      <td>720000</td>\n",
       "    </tr>\n",
       "    <tr>\n",
       "      <th>...</th>\n",
       "      <td>...</td>\n",
       "      <td>...</td>\n",
       "      <td>...</td>\n",
       "      <td>...</td>\n",
       "      <td>...</td>\n",
       "    </tr>\n",
       "    <tr>\n",
       "      <th>9720</th>\n",
       "      <td>8507</td>\n",
       "      <td>53518</td>\n",
       "      <td>2022-02-03</td>\n",
       "      <td>1</td>\n",
       "      <td>2040000</td>\n",
       "    </tr>\n",
       "    <tr>\n",
       "      <th>9721</th>\n",
       "      <td>8511</td>\n",
       "      <td>53545</td>\n",
       "      <td>2022-02-03</td>\n",
       "      <td>1</td>\n",
       "      <td>720000</td>\n",
       "    </tr>\n",
       "    <tr>\n",
       "      <th>9722</th>\n",
       "      <td>9508</td>\n",
       "      <td>53559</td>\n",
       "      <td>2022-02-18</td>\n",
       "      <td>1</td>\n",
       "      <td>720000</td>\n",
       "    </tr>\n",
       "    <tr>\n",
       "      <th>9723</th>\n",
       "      <td>8480</td>\n",
       "      <td>53572</td>\n",
       "      <td>2022-02-02</td>\n",
       "      <td>1</td>\n",
       "      <td>250000</td>\n",
       "    </tr>\n",
       "    <tr>\n",
       "      <th>9724</th>\n",
       "      <td>8481</td>\n",
       "      <td>53583</td>\n",
       "      <td>2022-02-02</td>\n",
       "      <td>1</td>\n",
       "      <td>250000</td>\n",
       "    </tr>\n",
       "  </tbody>\n",
       "</table>\n",
       "<p>9725 rows × 5 columns</p>\n",
       "</div>"
      ],
      "text/plain": [
       "      purchaseId  userId purchaseDate  productId  purchaseAmount\n",
       "0           8867    2701   2022-02-08          1          320000\n",
       "1            445    2702   2021-10-26          1          250000\n",
       "2           4719    2703   2021-12-18          1          297500\n",
       "3           3179    2704   2021-11-28          1          250000\n",
       "4           5493    2705   2021-12-27          1          720000\n",
       "...          ...     ...          ...        ...             ...\n",
       "9720        8507   53518   2022-02-03          1         2040000\n",
       "9721        8511   53545   2022-02-03          1          720000\n",
       "9722        9508   53559   2022-02-18          1          720000\n",
       "9723        8480   53572   2022-02-02          1          250000\n",
       "9724        8481   53583   2022-02-02          1          250000\n",
       "\n",
       "[9725 rows x 5 columns]"
      ]
     },
     "execution_count": 149,
     "metadata": {},
     "output_type": "execute_result"
    }
   ],
   "source": [
    "df_purchase"
   ]
  },
  {
   "cell_type": "code",
   "execution_count": 150,
   "metadata": {},
   "outputs": [
    {
     "data": {
      "text/html": [
       "<div>\n",
       "<style scoped>\n",
       "    .dataframe tbody tr th:only-of-type {\n",
       "        vertical-align: middle;\n",
       "    }\n",
       "\n",
       "    .dataframe tbody tr th {\n",
       "        vertical-align: top;\n",
       "    }\n",
       "\n",
       "    .dataframe thead th {\n",
       "        text-align: right;\n",
       "    }\n",
       "</style>\n",
       "<table border=\"1\" class=\"dataframe\">\n",
       "  <thead>\n",
       "    <tr style=\"text-align: right;\">\n",
       "      <th></th>\n",
       "      <th>productId</th>\n",
       "      <th>productName</th>\n",
       "    </tr>\n",
       "  </thead>\n",
       "  <tbody>\n",
       "    <tr>\n",
       "      <th>0</th>\n",
       "      <td>1</td>\n",
       "      <td>Karafs</td>\n",
       "    </tr>\n",
       "    <tr>\n",
       "      <th>1</th>\n",
       "      <td>2</td>\n",
       "      <td>Bento</td>\n",
       "    </tr>\n",
       "    <tr>\n",
       "      <th>2</th>\n",
       "      <td>3</td>\n",
       "      <td>Gym</td>\n",
       "    </tr>\n",
       "  </tbody>\n",
       "</table>\n",
       "</div>"
      ],
      "text/plain": [
       "   productId productName\n",
       "0          1      Karafs\n",
       "1          2       Bento\n",
       "2          3         Gym"
      ]
     },
     "execution_count": 150,
     "metadata": {},
     "output_type": "execute_result"
    }
   ],
   "source": [
    "df_products"
   ]
  },
  {
   "cell_type": "code",
   "execution_count": 151,
   "metadata": {},
   "outputs": [
    {
     "data": {
      "text/html": [
       "<div>\n",
       "<style scoped>\n",
       "    .dataframe tbody tr th:only-of-type {\n",
       "        vertical-align: middle;\n",
       "    }\n",
       "\n",
       "    .dataframe tbody tr th {\n",
       "        vertical-align: top;\n",
       "    }\n",
       "\n",
       "    .dataframe thead th {\n",
       "        text-align: right;\n",
       "    }\n",
       "</style>\n",
       "<table border=\"1\" class=\"dataframe\">\n",
       "  <thead>\n",
       "    <tr style=\"text-align: right;\">\n",
       "      <th></th>\n",
       "      <th>userId</th>\n",
       "      <th>market</th>\n",
       "      <th>gender</th>\n",
       "      <th>birthdayDate</th>\n",
       "      <th>userCreatedDate</th>\n",
       "    </tr>\n",
       "  </thead>\n",
       "  <tbody>\n",
       "    <tr>\n",
       "      <th>0</th>\n",
       "      <td>2701</td>\n",
       "      <td>bazaar</td>\n",
       "      <td>FEMALE</td>\n",
       "      <td>3/21/1991</td>\n",
       "      <td>2021-06-13</td>\n",
       "    </tr>\n",
       "    <tr>\n",
       "      <th>1</th>\n",
       "      <td>2702</td>\n",
       "      <td>bazaar</td>\n",
       "      <td>FEMALE</td>\n",
       "      <td>9/12/1978</td>\n",
       "      <td>2021-06-13</td>\n",
       "    </tr>\n",
       "    <tr>\n",
       "      <th>2</th>\n",
       "      <td>2703</td>\n",
       "      <td>IOS_TESTFLIGHT</td>\n",
       "      <td>FEMALE</td>\n",
       "      <td>10/21/1989</td>\n",
       "      <td>2021-06-13</td>\n",
       "    </tr>\n",
       "    <tr>\n",
       "      <th>3</th>\n",
       "      <td>2704</td>\n",
       "      <td>play</td>\n",
       "      <td>FEMALE</td>\n",
       "      <td>8/12/2002</td>\n",
       "      <td>2021-06-13</td>\n",
       "    </tr>\n",
       "    <tr>\n",
       "      <th>4</th>\n",
       "      <td>2705</td>\n",
       "      <td>IOS_TESTFLIGHT</td>\n",
       "      <td>FEMALE</td>\n",
       "      <td>3/29/1989</td>\n",
       "      <td>2021-06-13</td>\n",
       "    </tr>\n",
       "  </tbody>\n",
       "</table>\n",
       "</div>"
      ],
      "text/plain": [
       "   userId          market  gender birthdayDate userCreatedDate\n",
       "0    2701          bazaar  FEMALE    3/21/1991      2021-06-13\n",
       "1    2702          bazaar  FEMALE    9/12/1978      2021-06-13\n",
       "2    2703  IOS_TESTFLIGHT  FEMALE   10/21/1989      2021-06-13\n",
       "3    2704            play  FEMALE    8/12/2002      2021-06-13\n",
       "4    2705  IOS_TESTFLIGHT  FEMALE    3/29/1989      2021-06-13"
      ]
     },
     "execution_count": 151,
     "metadata": {},
     "output_type": "execute_result"
    }
   ],
   "source": [
    "df_users.head()"
   ]
  },
  {
   "cell_type": "code",
   "execution_count": 152,
   "metadata": {},
   "outputs": [
    {
     "data": {
      "text/plain": [
       "(9725, 5)"
      ]
     },
     "execution_count": 152,
     "metadata": {},
     "output_type": "execute_result"
    }
   ],
   "source": [
    "df_purchase.shape"
   ]
  },
  {
   "cell_type": "code",
   "execution_count": 153,
   "metadata": {},
   "outputs": [
    {
     "data": {
      "text/plain": [
       "(61303, 5)"
      ]
     },
     "execution_count": 153,
     "metadata": {},
     "output_type": "execute_result"
    }
   ],
   "source": [
    "df_users.shape"
   ]
  },
  {
   "cell_type": "code",
   "execution_count": null,
   "metadata": {},
   "outputs": [],
   "source": []
  },
  {
   "cell_type": "code",
   "execution_count": null,
   "metadata": {},
   "outputs": [],
   "source": []
  },
  {
   "cell_type": "code",
   "execution_count": 154,
   "metadata": {},
   "outputs": [],
   "source": [
    "df = pd.merge(df_users, df_purchase)"
   ]
  },
  {
   "cell_type": "code",
   "execution_count": 299,
   "metadata": {},
   "outputs": [
    {
     "data": {
      "text/html": [
       "<div>\n",
       "<style scoped>\n",
       "    .dataframe tbody tr th:only-of-type {\n",
       "        vertical-align: middle;\n",
       "    }\n",
       "\n",
       "    .dataframe tbody tr th {\n",
       "        vertical-align: top;\n",
       "    }\n",
       "\n",
       "    .dataframe thead th {\n",
       "        text-align: right;\n",
       "    }\n",
       "</style>\n",
       "<table border=\"1\" class=\"dataframe\">\n",
       "  <thead>\n",
       "    <tr style=\"text-align: right;\">\n",
       "      <th></th>\n",
       "      <th>userId</th>\n",
       "      <th>market</th>\n",
       "      <th>gender</th>\n",
       "      <th>birthdayDate</th>\n",
       "      <th>userCreatedDate</th>\n",
       "      <th>purchaseId</th>\n",
       "      <th>purchaseDate</th>\n",
       "      <th>productId</th>\n",
       "      <th>purchaseAmount</th>\n",
       "      <th>Year</th>\n",
       "      <th>Month</th>\n",
       "      <th>Day</th>\n",
       "    </tr>\n",
       "  </thead>\n",
       "  <tbody>\n",
       "    <tr>\n",
       "      <th>0</th>\n",
       "      <td>2701</td>\n",
       "      <td>bazaar</td>\n",
       "      <td>FEMALE</td>\n",
       "      <td>3/21/1991</td>\n",
       "      <td>2021-06-13</td>\n",
       "      <td>8867</td>\n",
       "      <td>2022-02-08</td>\n",
       "      <td>1</td>\n",
       "      <td>320000</td>\n",
       "      <td>2022</td>\n",
       "      <td>02</td>\n",
       "      <td>08</td>\n",
       "    </tr>\n",
       "    <tr>\n",
       "      <th>1</th>\n",
       "      <td>2702</td>\n",
       "      <td>bazaar</td>\n",
       "      <td>FEMALE</td>\n",
       "      <td>9/12/1978</td>\n",
       "      <td>2021-06-13</td>\n",
       "      <td>445</td>\n",
       "      <td>2021-10-26</td>\n",
       "      <td>1</td>\n",
       "      <td>250000</td>\n",
       "      <td>2021</td>\n",
       "      <td>10</td>\n",
       "      <td>26</td>\n",
       "    </tr>\n",
       "    <tr>\n",
       "      <th>2</th>\n",
       "      <td>2703</td>\n",
       "      <td>IOS_TESTFLIGHT</td>\n",
       "      <td>FEMALE</td>\n",
       "      <td>10/21/1989</td>\n",
       "      <td>2021-06-13</td>\n",
       "      <td>4719</td>\n",
       "      <td>2021-12-18</td>\n",
       "      <td>1</td>\n",
       "      <td>297500</td>\n",
       "      <td>2021</td>\n",
       "      <td>12</td>\n",
       "      <td>18</td>\n",
       "    </tr>\n",
       "    <tr>\n",
       "      <th>3</th>\n",
       "      <td>2704</td>\n",
       "      <td>play</td>\n",
       "      <td>FEMALE</td>\n",
       "      <td>8/12/2002</td>\n",
       "      <td>2021-06-13</td>\n",
       "      <td>3179</td>\n",
       "      <td>2021-11-28</td>\n",
       "      <td>1</td>\n",
       "      <td>250000</td>\n",
       "      <td>2021</td>\n",
       "      <td>11</td>\n",
       "      <td>28</td>\n",
       "    </tr>\n",
       "    <tr>\n",
       "      <th>4</th>\n",
       "      <td>2705</td>\n",
       "      <td>IOS_TESTFLIGHT</td>\n",
       "      <td>FEMALE</td>\n",
       "      <td>3/29/1989</td>\n",
       "      <td>2021-06-13</td>\n",
       "      <td>5493</td>\n",
       "      <td>2021-12-27</td>\n",
       "      <td>1</td>\n",
       "      <td>720000</td>\n",
       "      <td>2021</td>\n",
       "      <td>12</td>\n",
       "      <td>27</td>\n",
       "    </tr>\n",
       "  </tbody>\n",
       "</table>\n",
       "</div>"
      ],
      "text/plain": [
       "   userId          market  gender birthdayDate userCreatedDate  purchaseId  \\\n",
       "0    2701          bazaar  FEMALE    3/21/1991      2021-06-13        8867   \n",
       "1    2702          bazaar  FEMALE    9/12/1978      2021-06-13         445   \n",
       "2    2703  IOS_TESTFLIGHT  FEMALE   10/21/1989      2021-06-13        4719   \n",
       "3    2704            play  FEMALE    8/12/2002      2021-06-13        3179   \n",
       "4    2705  IOS_TESTFLIGHT  FEMALE    3/29/1989      2021-06-13        5493   \n",
       "\n",
       "  purchaseDate  productId  purchaseAmount  Year Month Day  \n",
       "0   2022-02-08          1          320000  2022    02  08  \n",
       "1   2021-10-26          1          250000  2021    10  26  \n",
       "2   2021-12-18          1          297500  2021    12  18  \n",
       "3   2021-11-28          1          250000  2021    11  28  \n",
       "4   2021-12-27          1          720000  2021    12  27  "
      ]
     },
     "execution_count": 299,
     "metadata": {},
     "output_type": "execute_result"
    }
   ],
   "source": [
    "df.head()"
   ]
  },
  {
   "cell_type": "code",
   "execution_count": 156,
   "metadata": {},
   "outputs": [],
   "source": [
    "date_col= df['purchaseDate'].astype(str).str.split('-', expand=True)\n",
    "date_col.columns = ['Year', 'Month', 'Day']\n"
   ]
  },
  {
   "cell_type": "code",
   "execution_count": 157,
   "metadata": {},
   "outputs": [
    {
     "data": {
      "text/html": [
       "<div>\n",
       "<style scoped>\n",
       "    .dataframe tbody tr th:only-of-type {\n",
       "        vertical-align: middle;\n",
       "    }\n",
       "\n",
       "    .dataframe tbody tr th {\n",
       "        vertical-align: top;\n",
       "    }\n",
       "\n",
       "    .dataframe thead th {\n",
       "        text-align: right;\n",
       "    }\n",
       "</style>\n",
       "<table border=\"1\" class=\"dataframe\">\n",
       "  <thead>\n",
       "    <tr style=\"text-align: right;\">\n",
       "      <th></th>\n",
       "      <th>Year</th>\n",
       "      <th>Month</th>\n",
       "      <th>Day</th>\n",
       "    </tr>\n",
       "  </thead>\n",
       "  <tbody>\n",
       "    <tr>\n",
       "      <th>0</th>\n",
       "      <td>2022</td>\n",
       "      <td>02</td>\n",
       "      <td>08</td>\n",
       "    </tr>\n",
       "    <tr>\n",
       "      <th>1</th>\n",
       "      <td>2021</td>\n",
       "      <td>10</td>\n",
       "      <td>26</td>\n",
       "    </tr>\n",
       "    <tr>\n",
       "      <th>2</th>\n",
       "      <td>2021</td>\n",
       "      <td>12</td>\n",
       "      <td>18</td>\n",
       "    </tr>\n",
       "    <tr>\n",
       "      <th>3</th>\n",
       "      <td>2021</td>\n",
       "      <td>11</td>\n",
       "      <td>28</td>\n",
       "    </tr>\n",
       "    <tr>\n",
       "      <th>4</th>\n",
       "      <td>2021</td>\n",
       "      <td>12</td>\n",
       "      <td>27</td>\n",
       "    </tr>\n",
       "    <tr>\n",
       "      <th>...</th>\n",
       "      <td>...</td>\n",
       "      <td>...</td>\n",
       "      <td>...</td>\n",
       "    </tr>\n",
       "    <tr>\n",
       "      <th>9720</th>\n",
       "      <td>2022</td>\n",
       "      <td>02</td>\n",
       "      <td>03</td>\n",
       "    </tr>\n",
       "    <tr>\n",
       "      <th>9721</th>\n",
       "      <td>2022</td>\n",
       "      <td>02</td>\n",
       "      <td>03</td>\n",
       "    </tr>\n",
       "    <tr>\n",
       "      <th>9722</th>\n",
       "      <td>2022</td>\n",
       "      <td>02</td>\n",
       "      <td>18</td>\n",
       "    </tr>\n",
       "    <tr>\n",
       "      <th>9723</th>\n",
       "      <td>2022</td>\n",
       "      <td>02</td>\n",
       "      <td>02</td>\n",
       "    </tr>\n",
       "    <tr>\n",
       "      <th>9724</th>\n",
       "      <td>2022</td>\n",
       "      <td>02</td>\n",
       "      <td>02</td>\n",
       "    </tr>\n",
       "  </tbody>\n",
       "</table>\n",
       "<p>9725 rows × 3 columns</p>\n",
       "</div>"
      ],
      "text/plain": [
       "      Year Month Day\n",
       "0     2022    02  08\n",
       "1     2021    10  26\n",
       "2     2021    12  18\n",
       "3     2021    11  28\n",
       "4     2021    12  27\n",
       "...    ...   ...  ..\n",
       "9720  2022    02  03\n",
       "9721  2022    02  03\n",
       "9722  2022    02  18\n",
       "9723  2022    02  02\n",
       "9724  2022    02  02\n",
       "\n",
       "[9725 rows x 3 columns]"
      ]
     },
     "execution_count": 157,
     "metadata": {},
     "output_type": "execute_result"
    }
   ],
   "source": [
    "date_col"
   ]
  },
  {
   "cell_type": "code",
   "execution_count": 231,
   "metadata": {},
   "outputs": [],
   "source": [
    "df=pd.concat([df,date_col],axis=1)"
   ]
  },
  {
   "cell_type": "code",
   "execution_count": 235,
   "metadata": {},
   "outputs": [
    {
     "data": {
      "text/html": [
       "<div>\n",
       "<style scoped>\n",
       "    .dataframe tbody tr th:only-of-type {\n",
       "        vertical-align: middle;\n",
       "    }\n",
       "\n",
       "    .dataframe tbody tr th {\n",
       "        vertical-align: top;\n",
       "    }\n",
       "\n",
       "    .dataframe thead th {\n",
       "        text-align: right;\n",
       "    }\n",
       "</style>\n",
       "<table border=\"1\" class=\"dataframe\">\n",
       "  <thead>\n",
       "    <tr style=\"text-align: right;\">\n",
       "      <th></th>\n",
       "      <th>userId</th>\n",
       "      <th>market</th>\n",
       "      <th>gender</th>\n",
       "      <th>birthdayDate</th>\n",
       "      <th>userCreatedDate</th>\n",
       "      <th>purchaseId</th>\n",
       "      <th>purchaseDate</th>\n",
       "      <th>productId</th>\n",
       "      <th>purchaseAmount</th>\n",
       "      <th>Year</th>\n",
       "      <th>Month</th>\n",
       "      <th>Day</th>\n",
       "    </tr>\n",
       "  </thead>\n",
       "  <tbody>\n",
       "    <tr>\n",
       "      <th>0</th>\n",
       "      <td>2701</td>\n",
       "      <td>bazaar</td>\n",
       "      <td>FEMALE</td>\n",
       "      <td>3/21/1991</td>\n",
       "      <td>2021-06-13</td>\n",
       "      <td>8867</td>\n",
       "      <td>2022-02-08</td>\n",
       "      <td>1</td>\n",
       "      <td>320000</td>\n",
       "      <td>2022</td>\n",
       "      <td>02</td>\n",
       "      <td>08</td>\n",
       "    </tr>\n",
       "    <tr>\n",
       "      <th>1</th>\n",
       "      <td>2702</td>\n",
       "      <td>bazaar</td>\n",
       "      <td>FEMALE</td>\n",
       "      <td>9/12/1978</td>\n",
       "      <td>2021-06-13</td>\n",
       "      <td>445</td>\n",
       "      <td>2021-10-26</td>\n",
       "      <td>1</td>\n",
       "      <td>250000</td>\n",
       "      <td>2021</td>\n",
       "      <td>10</td>\n",
       "      <td>26</td>\n",
       "    </tr>\n",
       "    <tr>\n",
       "      <th>2</th>\n",
       "      <td>2703</td>\n",
       "      <td>IOS_TESTFLIGHT</td>\n",
       "      <td>FEMALE</td>\n",
       "      <td>10/21/1989</td>\n",
       "      <td>2021-06-13</td>\n",
       "      <td>4719</td>\n",
       "      <td>2021-12-18</td>\n",
       "      <td>1</td>\n",
       "      <td>297500</td>\n",
       "      <td>2021</td>\n",
       "      <td>12</td>\n",
       "      <td>18</td>\n",
       "    </tr>\n",
       "    <tr>\n",
       "      <th>3</th>\n",
       "      <td>2704</td>\n",
       "      <td>play</td>\n",
       "      <td>FEMALE</td>\n",
       "      <td>8/12/2002</td>\n",
       "      <td>2021-06-13</td>\n",
       "      <td>3179</td>\n",
       "      <td>2021-11-28</td>\n",
       "      <td>1</td>\n",
       "      <td>250000</td>\n",
       "      <td>2021</td>\n",
       "      <td>11</td>\n",
       "      <td>28</td>\n",
       "    </tr>\n",
       "    <tr>\n",
       "      <th>4</th>\n",
       "      <td>2705</td>\n",
       "      <td>IOS_TESTFLIGHT</td>\n",
       "      <td>FEMALE</td>\n",
       "      <td>3/29/1989</td>\n",
       "      <td>2021-06-13</td>\n",
       "      <td>5493</td>\n",
       "      <td>2021-12-27</td>\n",
       "      <td>1</td>\n",
       "      <td>720000</td>\n",
       "      <td>2021</td>\n",
       "      <td>12</td>\n",
       "      <td>27</td>\n",
       "    </tr>\n",
       "  </tbody>\n",
       "</table>\n",
       "</div>"
      ],
      "text/plain": [
       "   userId          market  gender birthdayDate userCreatedDate  purchaseId  \\\n",
       "0    2701          bazaar  FEMALE    3/21/1991      2021-06-13        8867   \n",
       "1    2702          bazaar  FEMALE    9/12/1978      2021-06-13         445   \n",
       "2    2703  IOS_TESTFLIGHT  FEMALE   10/21/1989      2021-06-13        4719   \n",
       "3    2704            play  FEMALE    8/12/2002      2021-06-13        3179   \n",
       "4    2705  IOS_TESTFLIGHT  FEMALE    3/29/1989      2021-06-13        5493   \n",
       "\n",
       "  purchaseDate  productId  purchaseAmount  Year Month Day  \n",
       "0   2022-02-08          1          320000  2022    02  08  \n",
       "1   2021-10-26          1          250000  2021    10  26  \n",
       "2   2021-12-18          1          297500  2021    12  18  \n",
       "3   2021-11-28          1          250000  2021    11  28  \n",
       "4   2021-12-27          1          720000  2021    12  27  "
      ]
     },
     "execution_count": 235,
     "metadata": {},
     "output_type": "execute_result"
    }
   ],
   "source": [
    "df.head()"
   ]
  },
  {
   "cell_type": "code",
   "execution_count": 236,
   "metadata": {},
   "outputs": [
    {
     "data": {
      "text/plain": [
       "01    2551\n",
       "12    2476\n",
       "11    2445\n",
       "02    1357\n",
       "10     896\n",
       "Name: Month, dtype: int64"
      ]
     },
     "execution_count": 236,
     "metadata": {},
     "output_type": "execute_result"
    }
   ],
   "source": [
    "df.Month.value_counts()"
   ]
  },
  {
   "cell_type": "code",
   "execution_count": 243,
   "metadata": {},
   "outputs": [
    {
     "data": {
      "text/plain": [
       "9725"
      ]
     },
     "execution_count": 243,
     "metadata": {},
     "output_type": "execute_result"
    }
   ],
   "source": [
    "len(df)"
   ]
  },
  {
   "cell_type": "code",
   "execution_count": 297,
   "metadata": {},
   "outputs": [
    {
     "data": {
      "text/html": [
       "<div>\n",
       "<style scoped>\n",
       "    .dataframe tbody tr th:only-of-type {\n",
       "        vertical-align: middle;\n",
       "    }\n",
       "\n",
       "    .dataframe tbody tr th {\n",
       "        vertical-align: top;\n",
       "    }\n",
       "\n",
       "    .dataframe thead th {\n",
       "        text-align: right;\n",
       "    }\n",
       "</style>\n",
       "<table border=\"1\" class=\"dataframe\">\n",
       "  <thead>\n",
       "    <tr style=\"text-align: right;\">\n",
       "      <th></th>\n",
       "      <th>userId</th>\n",
       "      <th>market</th>\n",
       "      <th>gender</th>\n",
       "      <th>birthdayDate</th>\n",
       "      <th>userCreatedDate</th>\n",
       "      <th>purchaseId</th>\n",
       "      <th>purchaseDate</th>\n",
       "      <th>productId</th>\n",
       "      <th>purchaseAmount</th>\n",
       "      <th>Year</th>\n",
       "      <th>Month</th>\n",
       "      <th>Day</th>\n",
       "    </tr>\n",
       "  </thead>\n",
       "  <tbody>\n",
       "    <tr>\n",
       "      <th>1</th>\n",
       "      <td>2702</td>\n",
       "      <td>bazaar</td>\n",
       "      <td>FEMALE</td>\n",
       "      <td>9/12/1978</td>\n",
       "      <td>2021-06-13</td>\n",
       "      <td>445</td>\n",
       "      <td>2021-10-26</td>\n",
       "      <td>1</td>\n",
       "      <td>250000</td>\n",
       "      <td>2021</td>\n",
       "      <td>10</td>\n",
       "      <td>26</td>\n",
       "    </tr>\n",
       "    <tr>\n",
       "      <th>2</th>\n",
       "      <td>2703</td>\n",
       "      <td>IOS_TESTFLIGHT</td>\n",
       "      <td>FEMALE</td>\n",
       "      <td>10/21/1989</td>\n",
       "      <td>2021-06-13</td>\n",
       "      <td>4719</td>\n",
       "      <td>2021-12-18</td>\n",
       "      <td>1</td>\n",
       "      <td>297500</td>\n",
       "      <td>2021</td>\n",
       "      <td>12</td>\n",
       "      <td>18</td>\n",
       "    </tr>\n",
       "    <tr>\n",
       "      <th>3</th>\n",
       "      <td>2704</td>\n",
       "      <td>play</td>\n",
       "      <td>FEMALE</td>\n",
       "      <td>8/12/2002</td>\n",
       "      <td>2021-06-13</td>\n",
       "      <td>3179</td>\n",
       "      <td>2021-11-28</td>\n",
       "      <td>1</td>\n",
       "      <td>250000</td>\n",
       "      <td>2021</td>\n",
       "      <td>11</td>\n",
       "      <td>28</td>\n",
       "    </tr>\n",
       "    <tr>\n",
       "      <th>4</th>\n",
       "      <td>2705</td>\n",
       "      <td>IOS_TESTFLIGHT</td>\n",
       "      <td>FEMALE</td>\n",
       "      <td>3/29/1989</td>\n",
       "      <td>2021-06-13</td>\n",
       "      <td>5493</td>\n",
       "      <td>2021-12-27</td>\n",
       "      <td>1</td>\n",
       "      <td>720000</td>\n",
       "      <td>2021</td>\n",
       "      <td>12</td>\n",
       "      <td>27</td>\n",
       "    </tr>\n",
       "    <tr>\n",
       "      <th>6</th>\n",
       "      <td>2707</td>\n",
       "      <td>play</td>\n",
       "      <td>MALE</td>\n",
       "      <td>3/21/2003</td>\n",
       "      <td>2021-06-13</td>\n",
       "      <td>5153</td>\n",
       "      <td>2021-12-23</td>\n",
       "      <td>1</td>\n",
       "      <td>250000</td>\n",
       "      <td>2021</td>\n",
       "      <td>12</td>\n",
       "      <td>23</td>\n",
       "    </tr>\n",
       "  </tbody>\n",
       "</table>\n",
       "</div>"
      ],
      "text/plain": [
       "   userId          market  gender birthdayDate userCreatedDate  purchaseId  \\\n",
       "1    2702          bazaar  FEMALE    9/12/1978      2021-06-13         445   \n",
       "2    2703  IOS_TESTFLIGHT  FEMALE   10/21/1989      2021-06-13        4719   \n",
       "3    2704            play  FEMALE    8/12/2002      2021-06-13        3179   \n",
       "4    2705  IOS_TESTFLIGHT  FEMALE    3/29/1989      2021-06-13        5493   \n",
       "6    2707            play    MALE    3/21/2003      2021-06-13        5153   \n",
       "\n",
       "  purchaseDate  productId  purchaseAmount  Year Month Day  \n",
       "1   2021-10-26          1          250000  2021    10  26  \n",
       "2   2021-12-18          1          297500  2021    12  18  \n",
       "3   2021-11-28          1          250000  2021    11  28  \n",
       "4   2021-12-27          1          720000  2021    12  27  \n",
       "6   2021-12-23          1          250000  2021    12  23  "
      ]
     },
     "execution_count": 297,
     "metadata": {},
     "output_type": "execute_result"
    }
   ],
   "source": [
    "df[df[\"Year\"]==\"2021\"].head()"
   ]
  },
  {
   "cell_type": "code",
   "execution_count": 298,
   "metadata": {},
   "outputs": [
    {
     "data": {
      "text/plain": [
       "58692    5\n",
       "4162     3\n",
       "4578     3\n",
       "28747    3\n",
       "24518    3\n",
       "        ..\n",
       "4625     1\n",
       "4626     1\n",
       "4628     1\n",
       "4639     1\n",
       "53583    1\n",
       "Name: userId, Length: 9584, dtype: int64"
      ]
     },
     "execution_count": 298,
     "metadata": {},
     "output_type": "execute_result"
    }
   ],
   "source": [
    "df.userId.value_counts()"
   ]
  },
  {
   "cell_type": "code",
   "execution_count": null,
   "metadata": {},
   "outputs": [],
   "source": []
  },
  {
   "cell_type": "code",
   "execution_count": 347,
   "metadata": {},
   "outputs": [
    {
     "name": "stdout",
     "output_type": "stream",
     "text": [
      "میانگین درآمد ماه نوامبر سال2021: 476620.65439672803\n",
      "میانگین درآمد ماه اکتبر سال2021: 463543.52678571426\n",
      "میانگین درآمد ماه دسامبر سال2021: 486486.26817447494\n",
      "میانگین درآمد ماه ژانویه سال2022: 426321.05056840455\n",
      "میانگین درآمد ماه فوریه سال2022: 508065.58585114224\n"
     ]
    }
   ],
   "source": [
    "#df1.Month.value_counts() shows that in 2021 the sale was in months 12 11 10 \n",
    "#df1.Month.value_counts() shows that in 2021 the sale was in months 1 2 \n",
    "\n",
    "k=0\n",
    "z=0\n",
    "n=0\n",
    "m=0\n",
    "l=0\n",
    "count1=0\n",
    "count2=0\n",
    "count3=0\n",
    "count4=0\n",
    "count5=0\n",
    "\n",
    "\n",
    "\n",
    "\n",
    "\n",
    "for i in range(0,len(df)):\n",
    "    if (df.iloc[i,9]==\"2021\") & (df.iloc[i,10]==\"11\"):\n",
    "        k= k + int(df.iloc[i,8])\n",
    "        count1=count1+ 1\n",
    "    elif (df.iloc[i,9]==\"2021\") & (df.iloc[i,10]==\"10\"):\n",
    "        z= z + int(df.iloc[i,8])\n",
    "        count2=count2+ 1\n",
    "    elif (df.iloc[i,9]==\"2021\") & (df.iloc[i,10]==\"12\"):\n",
    "        n= n + int(df.iloc[i,8])\n",
    "        count3=count3+ 1\n",
    "        \n",
    "    elif (df.iloc[i,9]==\"2022\") & (df.iloc[i,10]==\"01\"):\n",
    "        m= m + int(df.iloc[i,8])\n",
    "        count4=count4+ 1\n",
    "    elif (df.iloc[i,9]==\"2022\") & (df.iloc[i,10]==\"02\"):\n",
    "        l= l + int(df.iloc[i,8])\n",
    "        count5=count5+ 1\n",
    "        \n",
    "    \n",
    "        \n",
    "        \n",
    "        \n",
    "        \n",
    "print(\"میانگین درآمد ماه نوامبر سال2021:\",k/count1)\n",
    "print(\"میانگین درآمد ماه اکتبر سال2021:\",z/count2)\n",
    "print(\"میانگین درآمد ماه دسامبر سال2021:\",n/count3)\n",
    "print(\"میانگین درآمد ماه ژانویه سال2022:\",m/count4)\n",
    "print(\"میانگین درآمد ماه فوریه سال2022:\",l/count5)\n"
   ]
  },
  {
   "cell_type": "code",
   "execution_count": 283,
   "metadata": {},
   "outputs": [
    {
     "data": {
      "text/plain": [
       "'2021'"
      ]
     },
     "execution_count": 283,
     "metadata": {},
     "output_type": "execute_result"
    }
   ],
   "source": [
    "df.iloc[32,9]"
   ]
  },
  {
   "cell_type": "code",
   "execution_count": 274,
   "metadata": {},
   "outputs": [
    {
     "data": {
      "text/plain": [
       "'26'"
      ]
     },
     "execution_count": 274,
     "metadata": {},
     "output_type": "execute_result"
    }
   ],
   "source": [
    "df.iloc[1,11]"
   ]
  },
  {
   "cell_type": "code",
   "execution_count": 261,
   "metadata": {},
   "outputs": [
    {
     "data": {
      "text/html": [
       "<div>\n",
       "<style scoped>\n",
       "    .dataframe tbody tr th:only-of-type {\n",
       "        vertical-align: middle;\n",
       "    }\n",
       "\n",
       "    .dataframe tbody tr th {\n",
       "        vertical-align: top;\n",
       "    }\n",
       "\n",
       "    .dataframe thead th {\n",
       "        text-align: right;\n",
       "    }\n",
       "</style>\n",
       "<table border=\"1\" class=\"dataframe\">\n",
       "  <thead>\n",
       "    <tr style=\"text-align: right;\">\n",
       "      <th></th>\n",
       "      <th>userId</th>\n",
       "      <th>market</th>\n",
       "      <th>gender</th>\n",
       "      <th>birthdayDate</th>\n",
       "      <th>userCreatedDate</th>\n",
       "      <th>purchaseId</th>\n",
       "      <th>purchaseDate</th>\n",
       "      <th>productId</th>\n",
       "      <th>purchaseAmount</th>\n",
       "      <th>Year</th>\n",
       "      <th>Month</th>\n",
       "      <th>Day</th>\n",
       "    </tr>\n",
       "  </thead>\n",
       "  <tbody>\n",
       "  </tbody>\n",
       "</table>\n",
       "</div>"
      ],
      "text/plain": [
       "Empty DataFrame\n",
       "Columns: [userId, market, gender, birthdayDate, userCreatedDate, purchaseId, purchaseDate, productId, purchaseAmount, Year, Month, Day]\n",
       "Index: []"
      ]
     },
     "execution_count": 261,
     "metadata": {},
     "output_type": "execute_result"
    }
   ],
   "source": [
    "#df.loc[(df['Year']>=2022) & (df['Month']= 10 ) & (df['FT_Team'].str.startswith('S')),['Name','FT_Team']]\n",
    "df.loc[(df['Year']== \"2022\") & (df['Month']==\"10\" )]\n",
    "\n",
    "\n",
    "    elif df1.iloc[i,1] == \"11\":\n",
    "        b = b+ int(df1.iloc[i,2])\n",
    "        count2+=1"
   ]
  },
  {
   "cell_type": "code",
   "execution_count": null,
   "metadata": {},
   "outputs": [],
   "source": []
  },
  {
   "cell_type": "code",
   "execution_count": null,
   "metadata": {
    "scrolled": true
   },
   "outputs": [],
   "source": []
  },
  {
   "cell_type": "code",
   "execution_count": null,
   "metadata": {},
   "outputs": [],
   "source": []
  },
  {
   "cell_type": "code",
   "execution_count": 158,
   "metadata": {
    "scrolled": true
   },
   "outputs": [
    {
     "data": {
      "text/plain": [
       "2021    5817\n",
       "2022    3908\n",
       "Name: Year, dtype: int64"
      ]
     },
     "execution_count": 158,
     "metadata": {},
     "output_type": "execute_result"
    }
   ],
   "source": [
    "date_col[\"Year\"].value_counts(dropna=False)"
   ]
  },
  {
   "cell_type": "code",
   "execution_count": 249,
   "metadata": {},
   "outputs": [
    {
     "data": {
      "text/plain": [
       "01    2551\n",
       "12    2476\n",
       "11    2445\n",
       "02    1357\n",
       "10     896\n",
       "Name: Month, dtype: int64"
      ]
     },
     "execution_count": 249,
     "metadata": {},
     "output_type": "execute_result"
    }
   ],
   "source": [
    "date_col[\"Month\"].value_counts(dropna=False)"
   ]
  },
  {
   "cell_type": "code",
   "execution_count": 160,
   "metadata": {},
   "outputs": [
    {
     "data": {
      "text/plain": [
       "'02'"
      ]
     },
     "execution_count": 160,
     "metadata": {},
     "output_type": "execute_result"
    }
   ],
   "source": [
    "date_col[\"Month\"][0]"
   ]
  },
  {
   "cell_type": "code",
   "execution_count": 161,
   "metadata": {},
   "outputs": [
    {
     "data": {
      "text/plain": [
       "'02'"
      ]
     },
     "execution_count": 161,
     "metadata": {},
     "output_type": "execute_result"
    }
   ],
   "source": [
    "date_col[\"Month\"].values[0]"
   ]
  },
  {
   "cell_type": "code",
   "execution_count": 162,
   "metadata": {},
   "outputs": [
    {
     "data": {
      "text/plain": [
       "9725"
      ]
     },
     "execution_count": 162,
     "metadata": {},
     "output_type": "execute_result"
    }
   ],
   "source": [
    "len(date_col[\"Month\"])"
   ]
  },
  {
   "cell_type": "code",
   "execution_count": 163,
   "metadata": {
    "collapsed": true
   },
   "outputs": [
    {
     "data": {
      "text/plain": [
       "2021    5817\n",
       "2022    3908\n",
       "Name: Year, dtype: int64"
      ]
     },
     "execution_count": 163,
     "metadata": {},
     "output_type": "execute_result"
    }
   ],
   "source": [
    "date_col[\"Year\"].value_counts(dropna=False)"
   ]
  },
  {
   "cell_type": "code",
   "execution_count": 164,
   "metadata": {},
   "outputs": [
    {
     "data": {
      "text/plain": [
       "9725"
      ]
     },
     "execution_count": 164,
     "metadata": {},
     "output_type": "execute_result"
    }
   ],
   "source": [
    "len(date_col[\"Year\"])"
   ]
  },
  {
   "cell_type": "code",
   "execution_count": 165,
   "metadata": {},
   "outputs": [
    {
     "data": {
      "text/plain": [
       "'2022'"
      ]
     },
     "execution_count": 165,
     "metadata": {},
     "output_type": "execute_result"
    }
   ],
   "source": [
    "date_col[\"Year\"][0]"
   ]
  },
  {
   "cell_type": "code",
   "execution_count": 166,
   "metadata": {},
   "outputs": [
    {
     "data": {
      "text/plain": [
       "False"
      ]
     },
     "execution_count": 166,
     "metadata": {},
     "output_type": "execute_result"
    }
   ],
   "source": [
    "date_col[\"Year\"][45]==2021"
   ]
  },
  {
   "cell_type": "code",
   "execution_count": 167,
   "metadata": {},
   "outputs": [
    {
     "data": {
      "text/html": [
       "<div>\n",
       "<style scoped>\n",
       "    .dataframe tbody tr th:only-of-type {\n",
       "        vertical-align: middle;\n",
       "    }\n",
       "\n",
       "    .dataframe tbody tr th {\n",
       "        vertical-align: top;\n",
       "    }\n",
       "\n",
       "    .dataframe thead th {\n",
       "        text-align: right;\n",
       "    }\n",
       "</style>\n",
       "<table border=\"1\" class=\"dataframe\">\n",
       "  <thead>\n",
       "    <tr style=\"text-align: right;\">\n",
       "      <th></th>\n",
       "      <th>Year</th>\n",
       "      <th>Month</th>\n",
       "      <th>Day</th>\n",
       "    </tr>\n",
       "  </thead>\n",
       "  <tbody>\n",
       "    <tr>\n",
       "      <th>0</th>\n",
       "      <td>2022</td>\n",
       "      <td>02</td>\n",
       "      <td>08</td>\n",
       "    </tr>\n",
       "    <tr>\n",
       "      <th>5005</th>\n",
       "      <td>2022</td>\n",
       "      <td>01</td>\n",
       "      <td>17</td>\n",
       "    </tr>\n",
       "    <tr>\n",
       "      <th>5032</th>\n",
       "      <td>2022</td>\n",
       "      <td>01</td>\n",
       "      <td>21</td>\n",
       "    </tr>\n",
       "    <tr>\n",
       "      <th>5021</th>\n",
       "      <td>2022</td>\n",
       "      <td>02</td>\n",
       "      <td>11</td>\n",
       "    </tr>\n",
       "    <tr>\n",
       "      <th>5017</th>\n",
       "      <td>2022</td>\n",
       "      <td>01</td>\n",
       "      <td>13</td>\n",
       "    </tr>\n",
       "    <tr>\n",
       "      <th>...</th>\n",
       "      <td>...</td>\n",
       "      <td>...</td>\n",
       "      <td>...</td>\n",
       "    </tr>\n",
       "    <tr>\n",
       "      <th>5554</th>\n",
       "      <td>2021</td>\n",
       "      <td>10</td>\n",
       "      <td>25</td>\n",
       "    </tr>\n",
       "    <tr>\n",
       "      <th>5553</th>\n",
       "      <td>2021</td>\n",
       "      <td>10</td>\n",
       "      <td>25</td>\n",
       "    </tr>\n",
       "    <tr>\n",
       "      <th>5552</th>\n",
       "      <td>2021</td>\n",
       "      <td>11</td>\n",
       "      <td>01</td>\n",
       "    </tr>\n",
       "    <tr>\n",
       "      <th>5551</th>\n",
       "      <td>2021</td>\n",
       "      <td>10</td>\n",
       "      <td>25</td>\n",
       "    </tr>\n",
       "    <tr>\n",
       "      <th>6219</th>\n",
       "      <td>2021</td>\n",
       "      <td>12</td>\n",
       "      <td>11</td>\n",
       "    </tr>\n",
       "  </tbody>\n",
       "</table>\n",
       "<p>9725 rows × 3 columns</p>\n",
       "</div>"
      ],
      "text/plain": [
       "      Year Month Day\n",
       "0     2022    02  08\n",
       "5005  2022    01  17\n",
       "5032  2022    01  21\n",
       "5021  2022    02  11\n",
       "5017  2022    01  13\n",
       "...    ...   ...  ..\n",
       "5554  2021    10  25\n",
       "5553  2021    10  25\n",
       "5552  2021    11  01\n",
       "5551  2021    10  25\n",
       "6219  2021    12  11\n",
       "\n",
       "[9725 rows x 3 columns]"
      ]
     },
     "execution_count": 167,
     "metadata": {},
     "output_type": "execute_result"
    }
   ],
   "source": [
    "date_col.sort_values(by=['Year'], ascending=False)"
   ]
  },
  {
   "cell_type": "code",
   "execution_count": 168,
   "metadata": {},
   "outputs": [
    {
     "data": {
      "text/plain": [
       "01    2551\n",
       "12    2476\n",
       "11    2445\n",
       "02    1357\n",
       "10     896\n",
       "Name: Month, dtype: int64"
      ]
     },
     "execution_count": 168,
     "metadata": {},
     "output_type": "execute_result"
    }
   ],
   "source": [
    "date_col.Month.value_counts()\n",
    "        \n",
    "\n",
    "        "
   ]
  },
  {
   "cell_type": "code",
   "execution_count": 169,
   "metadata": {},
   "outputs": [],
   "source": [
    "y = date_col.iloc[:, 0]  # v = df.loc[:, df.columns[0]]\n",
    "m = date_col.iloc[:, 1]\n",
    "d = date_col.iloc[:, 2]\n",
    "\n",
    "\n"
   ]
  },
  {
   "cell_type": "code",
   "execution_count": 184,
   "metadata": {},
   "outputs": [
    {
     "data": {
      "text/html": [
       "<div>\n",
       "<style scoped>\n",
       "    .dataframe tbody tr th:only-of-type {\n",
       "        vertical-align: middle;\n",
       "    }\n",
       "\n",
       "    .dataframe tbody tr th {\n",
       "        vertical-align: top;\n",
       "    }\n",
       "\n",
       "    .dataframe thead th {\n",
       "        text-align: right;\n",
       "    }\n",
       "</style>\n",
       "<table border=\"1\" class=\"dataframe\">\n",
       "  <thead>\n",
       "    <tr style=\"text-align: right;\">\n",
       "      <th></th>\n",
       "      <th>Year</th>\n",
       "      <th>Month</th>\n",
       "      <th>Day</th>\n",
       "    </tr>\n",
       "  </thead>\n",
       "  <tbody>\n",
       "    <tr>\n",
       "      <th>1</th>\n",
       "      <td>2021</td>\n",
       "      <td>10</td>\n",
       "      <td>26</td>\n",
       "    </tr>\n",
       "    <tr>\n",
       "      <th>2</th>\n",
       "      <td>2021</td>\n",
       "      <td>12</td>\n",
       "      <td>18</td>\n",
       "    </tr>\n",
       "    <tr>\n",
       "      <th>3</th>\n",
       "      <td>2021</td>\n",
       "      <td>11</td>\n",
       "      <td>28</td>\n",
       "    </tr>\n",
       "    <tr>\n",
       "      <th>4</th>\n",
       "      <td>2021</td>\n",
       "      <td>12</td>\n",
       "      <td>27</td>\n",
       "    </tr>\n",
       "    <tr>\n",
       "      <th>6</th>\n",
       "      <td>2021</td>\n",
       "      <td>12</td>\n",
       "      <td>23</td>\n",
       "    </tr>\n",
       "    <tr>\n",
       "      <th>...</th>\n",
       "      <td>...</td>\n",
       "      <td>...</td>\n",
       "      <td>...</td>\n",
       "    </tr>\n",
       "    <tr>\n",
       "      <th>9308</th>\n",
       "      <td>2021</td>\n",
       "      <td>12</td>\n",
       "      <td>31</td>\n",
       "    </tr>\n",
       "    <tr>\n",
       "      <th>9310</th>\n",
       "      <td>2021</td>\n",
       "      <td>12</td>\n",
       "      <td>31</td>\n",
       "    </tr>\n",
       "    <tr>\n",
       "      <th>9311</th>\n",
       "      <td>2021</td>\n",
       "      <td>12</td>\n",
       "      <td>31</td>\n",
       "    </tr>\n",
       "    <tr>\n",
       "      <th>9312</th>\n",
       "      <td>2021</td>\n",
       "      <td>12</td>\n",
       "      <td>31</td>\n",
       "    </tr>\n",
       "    <tr>\n",
       "      <th>9315</th>\n",
       "      <td>2021</td>\n",
       "      <td>12</td>\n",
       "      <td>31</td>\n",
       "    </tr>\n",
       "  </tbody>\n",
       "</table>\n",
       "<p>5817 rows × 3 columns</p>\n",
       "</div>"
      ],
      "text/plain": [
       "      Year Month Day\n",
       "1     2021    10  26\n",
       "2     2021    12  18\n",
       "3     2021    11  28\n",
       "4     2021    12  27\n",
       "6     2021    12  23\n",
       "...    ...   ...  ..\n",
       "9308  2021    12  31\n",
       "9310  2021    12  31\n",
       "9311  2021    12  31\n",
       "9312  2021    12  31\n",
       "9315  2021    12  31\n",
       "\n",
       "[5817 rows x 3 columns]"
      ]
     },
     "execution_count": 184,
     "metadata": {},
     "output_type": "execute_result"
    }
   ],
   "source": [
    "##df1 = date_col[(y == 2021) & (m == 11)]\n",
    "##df1 = date_col.drop(date_col[date_col[\"Year\"] == \"2021\"],axis=1)\n",
    "\n",
    "df1=date_col[date_col[\"Year\"] == \"2021\"]\n",
    "df1\n"
   ]
  },
  {
   "cell_type": "code",
   "execution_count": 180,
   "metadata": {},
   "outputs": [
    {
     "data": {
      "text/plain": [
       "0       False\n",
       "1        True\n",
       "2        True\n",
       "3        True\n",
       "4        True\n",
       "        ...  \n",
       "9720    False\n",
       "9721    False\n",
       "9722    False\n",
       "9723    False\n",
       "9724    False\n",
       "Name: Year, Length: 9725, dtype: bool"
      ]
     },
     "execution_count": 180,
     "metadata": {},
     "output_type": "execute_result"
    }
   ],
   "source": [
    "date_col[\"Year\"] == \"2021\""
   ]
  },
  {
   "cell_type": "code",
   "execution_count": 185,
   "metadata": {},
   "outputs": [
    {
     "data": {
      "text/plain": [
       "2021    5817\n",
       "Name: Year, dtype: int64"
      ]
     },
     "execution_count": 185,
     "metadata": {},
     "output_type": "execute_result"
    }
   ],
   "source": [
    "df1.Year.value_counts()"
   ]
  },
  {
   "cell_type": "code",
   "execution_count": 188,
   "metadata": {},
   "outputs": [
    {
     "data": {
      "text/plain": [
       "12    2476\n",
       "11    2445\n",
       "10     896\n",
       "Name: Month, dtype: int64"
      ]
     },
     "execution_count": 188,
     "metadata": {},
     "output_type": "execute_result"
    }
   ],
   "source": [
    "df1.Month.value_counts()"
   ]
  },
  {
   "cell_type": "code",
   "execution_count": 190,
   "metadata": {},
   "outputs": [
    {
     "data": {
      "text/plain": [
       "5817"
      ]
     },
     "execution_count": 190,
     "metadata": {},
     "output_type": "execute_result"
    }
   ],
   "source": [
    "len(df1)"
   ]
  },
  {
   "cell_type": "code",
   "execution_count": 203,
   "metadata": {},
   "outputs": [
    {
     "data": {
      "text/plain": [
       "(5817, 3)"
      ]
     },
     "execution_count": 203,
     "metadata": {},
     "output_type": "execute_result"
    }
   ],
   "source": [
    "df1.shape"
   ]
  },
  {
   "cell_type": "code",
   "execution_count": null,
   "metadata": {},
   "outputs": [],
   "source": []
  },
  {
   "cell_type": "code",
   "execution_count": 204,
   "metadata": {},
   "outputs": [
    {
     "data": {
      "text/html": [
       "<div>\n",
       "<style scoped>\n",
       "    .dataframe tbody tr th:only-of-type {\n",
       "        vertical-align: middle;\n",
       "    }\n",
       "\n",
       "    .dataframe tbody tr th {\n",
       "        vertical-align: top;\n",
       "    }\n",
       "\n",
       "    .dataframe thead th {\n",
       "        text-align: right;\n",
       "    }\n",
       "</style>\n",
       "<table border=\"1\" class=\"dataframe\">\n",
       "  <thead>\n",
       "    <tr style=\"text-align: right;\">\n",
       "      <th></th>\n",
       "      <th>Year</th>\n",
       "      <th>Month</th>\n",
       "      <th>Day</th>\n",
       "    </tr>\n",
       "  </thead>\n",
       "  <tbody>\n",
       "    <tr>\n",
       "      <th>1</th>\n",
       "      <td>2021</td>\n",
       "      <td>10</td>\n",
       "      <td>26</td>\n",
       "    </tr>\n",
       "    <tr>\n",
       "      <th>2</th>\n",
       "      <td>2021</td>\n",
       "      <td>12</td>\n",
       "      <td>18</td>\n",
       "    </tr>\n",
       "    <tr>\n",
       "      <th>3</th>\n",
       "      <td>2021</td>\n",
       "      <td>11</td>\n",
       "      <td>28</td>\n",
       "    </tr>\n",
       "    <tr>\n",
       "      <th>4</th>\n",
       "      <td>2021</td>\n",
       "      <td>12</td>\n",
       "      <td>27</td>\n",
       "    </tr>\n",
       "    <tr>\n",
       "      <th>6</th>\n",
       "      <td>2021</td>\n",
       "      <td>12</td>\n",
       "      <td>23</td>\n",
       "    </tr>\n",
       "    <tr>\n",
       "      <th>...</th>\n",
       "      <td>...</td>\n",
       "      <td>...</td>\n",
       "      <td>...</td>\n",
       "    </tr>\n",
       "    <tr>\n",
       "      <th>9308</th>\n",
       "      <td>2021</td>\n",
       "      <td>12</td>\n",
       "      <td>31</td>\n",
       "    </tr>\n",
       "    <tr>\n",
       "      <th>9310</th>\n",
       "      <td>2021</td>\n",
       "      <td>12</td>\n",
       "      <td>31</td>\n",
       "    </tr>\n",
       "    <tr>\n",
       "      <th>9311</th>\n",
       "      <td>2021</td>\n",
       "      <td>12</td>\n",
       "      <td>31</td>\n",
       "    </tr>\n",
       "    <tr>\n",
       "      <th>9312</th>\n",
       "      <td>2021</td>\n",
       "      <td>12</td>\n",
       "      <td>31</td>\n",
       "    </tr>\n",
       "    <tr>\n",
       "      <th>9315</th>\n",
       "      <td>2021</td>\n",
       "      <td>12</td>\n",
       "      <td>31</td>\n",
       "    </tr>\n",
       "  </tbody>\n",
       "</table>\n",
       "<p>5817 rows × 3 columns</p>\n",
       "</div>"
      ],
      "text/plain": [
       "      Year Month Day\n",
       "1     2021    10  26\n",
       "2     2021    12  18\n",
       "3     2021    11  28\n",
       "4     2021    12  27\n",
       "6     2021    12  23\n",
       "...    ...   ...  ..\n",
       "9308  2021    12  31\n",
       "9310  2021    12  31\n",
       "9311  2021    12  31\n",
       "9312  2021    12  31\n",
       "9315  2021    12  31\n",
       "\n",
       "[5817 rows x 3 columns]"
      ]
     },
     "execution_count": 204,
     "metadata": {},
     "output_type": "execute_result"
    }
   ],
   "source": [
    "df1"
   ]
  },
  {
   "cell_type": "code",
   "execution_count": null,
   "metadata": {},
   "outputs": [],
   "source": [
    "y = date_col.iloc[:, 0]  # v = df.loc[:, df.columns[0]]\n",
    "m = date_col.iloc[:, 1]\n",
    "d = date_col.iloc[:, 2]"
   ]
  },
  {
   "cell_type": "code",
   "execution_count": 228,
   "metadata": {},
   "outputs": [
    {
     "name": "stdout",
     "output_type": "stream",
     "text": [
      "میانگین روز های خرید درماه اسفند سال2021: 16.515751211631663\n",
      "میانگین روز های خرید درماه بهمن سال2021: 15.43762781186094\n",
      "میانگین روز های خرید درماه دی سال2021: 26.587053571428573\n"
     ]
    }
   ],
   "source": [
    "a=0\n",
    "b=0\n",
    "c=0\n",
    "count1=0\n",
    "count2=0\n",
    "count3=0\n",
    "\n",
    "for i in range(0,len(df1)):\n",
    "    if df1.iloc[i,1] == \"12\":\n",
    "        a = a+ int(df1.iloc[i,2])\n",
    "        count1+=1\n",
    "        \n",
    "\n",
    "    elif df1.iloc[i,1] == \"11\":\n",
    "        b = b+ int(df1.iloc[i,2])\n",
    "        count2+=1\n",
    "        \n",
    "\n",
    "    elif df1.iloc[i,1] == \"10\":\n",
    "        c= c+  int(df1.iloc[i,2])\n",
    "        count3+=1\n",
    "        \n",
    "    \n",
    "print(\"میانگین روز های خرید درماه اسفند سال2021:\" , a/count1)\n",
    "print(\"میانگین روز های خرید درماه بهمن سال2021:\" ,b/count2)\n",
    "print(\"میانگین روز های خرید درماه دی سال2021:\" ,c/count3)"
   ]
  },
  {
   "cell_type": "code",
   "execution_count": 197,
   "metadata": {},
   "outputs": [
    {
     "data": {
      "text/plain": [
       "'26'"
      ]
     },
     "execution_count": 197,
     "metadata": {},
     "output_type": "execute_result"
    }
   ],
   "source": [
    "df1[\"Day\"][1]"
   ]
  },
  {
   "cell_type": "code",
   "execution_count": 202,
   "metadata": {},
   "outputs": [
    {
     "data": {
      "text/plain": [
       "1       False\n",
       "2        True\n",
       "3       False\n",
       "4        True\n",
       "6        True\n",
       "        ...  \n",
       "9308     True\n",
       "9310     True\n",
       "9311     True\n",
       "9312     True\n",
       "9315     True\n",
       "Name: Month, Length: 5817, dtype: bool"
      ]
     },
     "execution_count": 202,
     "metadata": {},
     "output_type": "execute_result"
    }
   ],
   "source": [
    "df1[\"Month\"] == \"12\""
   ]
  },
  {
   "cell_type": "code",
   "execution_count": 221,
   "metadata": {},
   "outputs": [
    {
     "data": {
      "text/plain": [
       "'18'"
      ]
     },
     "execution_count": 221,
     "metadata": {},
     "output_type": "execute_result"
    }
   ],
   "source": [
    "df1.iloc[1,2]"
   ]
  },
  {
   "cell_type": "code",
   "execution_count": 222,
   "metadata": {},
   "outputs": [
    {
     "data": {
      "text/plain": [
       "False"
      ]
     },
     "execution_count": 222,
     "metadata": {},
     "output_type": "execute_result"
    }
   ],
   "source": [
    "df1.iloc[i,1] == \"12\""
   ]
  },
  {
   "cell_type": "code",
   "execution_count": 285,
   "metadata": {},
   "outputs": [
    {
     "data": {
      "text/plain": [
       "12    2476\n",
       "11    2445\n",
       "10     896\n",
       "Name: Month, dtype: int64"
      ]
     },
     "execution_count": 285,
     "metadata": {},
     "output_type": "execute_result"
    }
   ],
   "source": [
    "df1.Month.value_counts()"
   ]
  },
  {
   "cell_type": "code",
   "execution_count": 290,
   "metadata": {},
   "outputs": [
    {
     "data": {
      "text/plain": [
       "01    2551\n",
       "02    1357\n",
       "Name: Month, dtype: int64"
      ]
     },
     "execution_count": 290,
     "metadata": {},
     "output_type": "execute_result"
    }
   ],
   "source": [
    "df2=date_col[date_col[\"Year\"] == \"2022\"]\n",
    "df2.Month.value_counts()"
   ]
  },
  {
   "cell_type": "code",
   "execution_count": 301,
   "metadata": {},
   "outputs": [
    {
     "data": {
      "text/html": [
       "<div>\n",
       "<style scoped>\n",
       "    .dataframe tbody tr th:only-of-type {\n",
       "        vertical-align: middle;\n",
       "    }\n",
       "\n",
       "    .dataframe tbody tr th {\n",
       "        vertical-align: top;\n",
       "    }\n",
       "\n",
       "    .dataframe thead th {\n",
       "        text-align: right;\n",
       "    }\n",
       "</style>\n",
       "<table border=\"1\" class=\"dataframe\">\n",
       "  <thead>\n",
       "    <tr style=\"text-align: right;\">\n",
       "      <th></th>\n",
       "      <th>userId</th>\n",
       "      <th>market</th>\n",
       "      <th>gender</th>\n",
       "      <th>birthdayDate</th>\n",
       "      <th>userCreatedDate</th>\n",
       "      <th>purchaseId</th>\n",
       "      <th>purchaseDate</th>\n",
       "      <th>productId</th>\n",
       "      <th>purchaseAmount</th>\n",
       "      <th>Year</th>\n",
       "      <th>Month</th>\n",
       "      <th>Day</th>\n",
       "    </tr>\n",
       "  </thead>\n",
       "  <tbody>\n",
       "    <tr>\n",
       "      <th>0</th>\n",
       "      <td>2701</td>\n",
       "      <td>bazaar</td>\n",
       "      <td>FEMALE</td>\n",
       "      <td>3/21/1991</td>\n",
       "      <td>2021-06-13</td>\n",
       "      <td>8867</td>\n",
       "      <td>2022-02-08</td>\n",
       "      <td>1</td>\n",
       "      <td>320000</td>\n",
       "      <td>2022</td>\n",
       "      <td>02</td>\n",
       "      <td>08</td>\n",
       "    </tr>\n",
       "    <tr>\n",
       "      <th>1</th>\n",
       "      <td>2702</td>\n",
       "      <td>bazaar</td>\n",
       "      <td>FEMALE</td>\n",
       "      <td>9/12/1978</td>\n",
       "      <td>2021-06-13</td>\n",
       "      <td>445</td>\n",
       "      <td>2021-10-26</td>\n",
       "      <td>1</td>\n",
       "      <td>250000</td>\n",
       "      <td>2021</td>\n",
       "      <td>10</td>\n",
       "      <td>26</td>\n",
       "    </tr>\n",
       "    <tr>\n",
       "      <th>2</th>\n",
       "      <td>2703</td>\n",
       "      <td>IOS_TESTFLIGHT</td>\n",
       "      <td>FEMALE</td>\n",
       "      <td>10/21/1989</td>\n",
       "      <td>2021-06-13</td>\n",
       "      <td>4719</td>\n",
       "      <td>2021-12-18</td>\n",
       "      <td>1</td>\n",
       "      <td>297500</td>\n",
       "      <td>2021</td>\n",
       "      <td>12</td>\n",
       "      <td>18</td>\n",
       "    </tr>\n",
       "    <tr>\n",
       "      <th>3</th>\n",
       "      <td>2704</td>\n",
       "      <td>play</td>\n",
       "      <td>FEMALE</td>\n",
       "      <td>8/12/2002</td>\n",
       "      <td>2021-06-13</td>\n",
       "      <td>3179</td>\n",
       "      <td>2021-11-28</td>\n",
       "      <td>1</td>\n",
       "      <td>250000</td>\n",
       "      <td>2021</td>\n",
       "      <td>11</td>\n",
       "      <td>28</td>\n",
       "    </tr>\n",
       "    <tr>\n",
       "      <th>4</th>\n",
       "      <td>2705</td>\n",
       "      <td>IOS_TESTFLIGHT</td>\n",
       "      <td>FEMALE</td>\n",
       "      <td>3/29/1989</td>\n",
       "      <td>2021-06-13</td>\n",
       "      <td>5493</td>\n",
       "      <td>2021-12-27</td>\n",
       "      <td>1</td>\n",
       "      <td>720000</td>\n",
       "      <td>2021</td>\n",
       "      <td>12</td>\n",
       "      <td>27</td>\n",
       "    </tr>\n",
       "  </tbody>\n",
       "</table>\n",
       "</div>"
      ],
      "text/plain": [
       "   userId          market  gender birthdayDate userCreatedDate  purchaseId  \\\n",
       "0    2701          bazaar  FEMALE    3/21/1991      2021-06-13        8867   \n",
       "1    2702          bazaar  FEMALE    9/12/1978      2021-06-13         445   \n",
       "2    2703  IOS_TESTFLIGHT  FEMALE   10/21/1989      2021-06-13        4719   \n",
       "3    2704            play  FEMALE    8/12/2002      2021-06-13        3179   \n",
       "4    2705  IOS_TESTFLIGHT  FEMALE    3/29/1989      2021-06-13        5493   \n",
       "\n",
       "  purchaseDate  productId  purchaseAmount  Year Month Day  \n",
       "0   2022-02-08          1          320000  2022    02  08  \n",
       "1   2021-10-26          1          250000  2021    10  26  \n",
       "2   2021-12-18          1          297500  2021    12  18  \n",
       "3   2021-11-28          1          250000  2021    11  28  \n",
       "4   2021-12-27          1          720000  2021    12  27  "
      ]
     },
     "execution_count": 301,
     "metadata": {},
     "output_type": "execute_result"
    }
   ],
   "source": [
    "df.head()"
   ]
  },
  {
   "cell_type": "code",
   "execution_count": null,
   "metadata": {},
   "outputs": [],
   "source": []
  },
  {
   "cell_type": "code",
   "execution_count": 306,
   "metadata": {},
   "outputs": [
    {
     "data": {
      "text/html": [
       "<div>\n",
       "<style scoped>\n",
       "    .dataframe tbody tr th:only-of-type {\n",
       "        vertical-align: middle;\n",
       "    }\n",
       "\n",
       "    .dataframe tbody tr th {\n",
       "        vertical-align: top;\n",
       "    }\n",
       "\n",
       "    .dataframe thead th {\n",
       "        text-align: right;\n",
       "    }\n",
       "</style>\n",
       "<table border=\"1\" class=\"dataframe\">\n",
       "  <thead>\n",
       "    <tr style=\"text-align: right;\">\n",
       "      <th></th>\n",
       "      <th>productId</th>\n",
       "      <th>productName</th>\n",
       "    </tr>\n",
       "  </thead>\n",
       "  <tbody>\n",
       "    <tr>\n",
       "      <th>0</th>\n",
       "      <td>1</td>\n",
       "      <td>Karafs</td>\n",
       "    </tr>\n",
       "    <tr>\n",
       "      <th>1</th>\n",
       "      <td>2</td>\n",
       "      <td>Bento</td>\n",
       "    </tr>\n",
       "    <tr>\n",
       "      <th>2</th>\n",
       "      <td>3</td>\n",
       "      <td>Gym</td>\n",
       "    </tr>\n",
       "  </tbody>\n",
       "</table>\n",
       "</div>"
      ],
      "text/plain": [
       "   productId productName\n",
       "0          1      Karafs\n",
       "1          2       Bento\n",
       "2          3         Gym"
      ]
     },
     "execution_count": 306,
     "metadata": {},
     "output_type": "execute_result"
    }
   ],
   "source": [
    "df_products"
   ]
  },
  {
   "cell_type": "code",
   "execution_count": 311,
   "metadata": {},
   "outputs": [
    {
     "data": {
      "text/plain": [
       "<AxesSubplot:>"
      ]
     },
     "execution_count": 311,
     "metadata": {},
     "output_type": "execute_result"
    },
    {
     "data": {
      "image/png": "[encoded data removed]",
      "text/plain": [
       "<Figure size 432x288 with 2 Axes>"
      ]
     },
     "metadata": {
      "needs_background": "light"
     },
     "output_type": "display_data"
    }
   ],
   "source": [
    "import seaborn as sns\n",
    "feature=[\"purchaseAmount\",\"productId\"]\n",
    "sns.heatmap(df[feature])"
   ]
  },
  {
   "cell_type": "code",
   "execution_count": 312,
   "metadata": {},
   "outputs": [
    {
     "data": {
      "text/plain": [
       "1    8469\n",
       "2    1088\n",
       "3     168\n",
       "Name: productId, dtype: int64"
      ]
     },
     "execution_count": 312,
     "metadata": {},
     "output_type": "execute_result"
    }
   ],
   "source": [
    "df.productId.value_counts()"
   ]
  },
  {
   "cell_type": "code",
   "execution_count": 346,
   "metadata": {},
   "outputs": [
    {
     "data": {
      "image/png": "[encoded data removed]",
      "text/plain": [
       "<Figure size 432x288 with 1 Axes>"
      ]
     },
     "metadata": {},
     "output_type": "display_data"
    }
   ],
   "source": [
    "#sns.boxplot(df[\"productId\"],df[\"purchaseAmount\"],linewidth=2.,width=0.8)\n",
    "#sns.set_style(\"whitegrid\")\n",
    "sns.boxplot(x=df[\"productId\"],y=df[\"purchaseAmount\"],data=df);\n"
   ]
  },
  {
   "cell_type": "code",
   "execution_count": 339,
   "metadata": {},
   "outputs": [
    {
     "data": {
      "text/html": [
       "<div>\n",
       "<style scoped>\n",
       "    .dataframe tbody tr th:only-of-type {\n",
       "        vertical-align: middle;\n",
       "    }\n",
       "\n",
       "    .dataframe tbody tr th {\n",
       "        vertical-align: top;\n",
       "    }\n",
       "\n",
       "    .dataframe thead th {\n",
       "        text-align: right;\n",
       "    }\n",
       "</style>\n",
       "<table border=\"1\" class=\"dataframe\">\n",
       "  <thead>\n",
       "    <tr style=\"text-align: right;\">\n",
       "      <th></th>\n",
       "      <th>productId</th>\n",
       "      <th>productName</th>\n",
       "    </tr>\n",
       "  </thead>\n",
       "  <tbody>\n",
       "    <tr>\n",
       "      <th>0</th>\n",
       "      <td>1</td>\n",
       "      <td>Karafs</td>\n",
       "    </tr>\n",
       "    <tr>\n",
       "      <th>1</th>\n",
       "      <td>2</td>\n",
       "      <td>Bento</td>\n",
       "    </tr>\n",
       "    <tr>\n",
       "      <th>2</th>\n",
       "      <td>3</td>\n",
       "      <td>Gym</td>\n",
       "    </tr>\n",
       "  </tbody>\n",
       "</table>\n",
       "</div>"
      ],
      "text/plain": [
       "   productId productName\n",
       "0          1      Karafs\n",
       "1          2       Bento\n",
       "2          3         Gym"
      ]
     },
     "execution_count": 339,
     "metadata": {},
     "output_type": "execute_result"
    }
   ],
   "source": [
    "df_products"
   ]
  },
  {
   "cell_type": "code",
   "execution_count": null,
   "metadata": {},
   "outputs": [],
   "source": []
  }
 ],
 "metadata": {
  "kernelspec": {
   "display_name": "Python 3",
   "language": "python",
   "name": "python3"
  },
  "language_info": {
   "codemirror_mode": {
    "name": "ipython",
    "version": 3
   },
   "file_extension": ".py",
   "mimetype": "text/x-python",
   "name": "python",
   "nbconvert_exporter": "python",
   "pygments_lexer": "ipython3",
   "version": "3.8.5"
  }
 },
 "nbformat": 4,
 "nbformat_minor": 4
}
