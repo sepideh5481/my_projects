{
 "cells": [
  {
   "cell_type": "code",
   "execution_count": 1,
   "metadata": {},
   "outputs": [],
   "source": [
    "import pandas as pd\n",
    "import numpy as np\n",
    "import matplotlib.pyplot as plt\n",
    "%matplotlib inline"
   ]
  },
  {
   "cell_type": "code",
   "execution_count": 2,
   "metadata": {},
   "outputs": [
    {
     "data": {
      "text/plain": [
       "'C:\\\\Users\\\\Lenovo'"
      ]
     },
     "execution_count": 2,
     "metadata": {},
     "output_type": "execute_result"
    }
   ],
   "source": [
    "pwd"
   ]
  },
  {
   "cell_type": "code",
   "execution_count": 3,
   "metadata": {},
   "outputs": [],
   "source": [
    "data=pd.read_csv(\"C:/Users/Lenovo/Desktop/data science KNTU/part8/DataSet_LakasP.csv\")"
   ]
  },
  {
   "cell_type": "code",
   "execution_count": 4,
   "metadata": {},
   "outputs": [
    {
     "data": {
      "text/html": [
       "<div>\n",
       "<style scoped>\n",
       "    .dataframe tbody tr th:only-of-type {\n",
       "        vertical-align: middle;\n",
       "    }\n",
       "\n",
       "    .dataframe tbody tr th {\n",
       "        vertical-align: top;\n",
       "    }\n",
       "\n",
       "    .dataframe thead th {\n",
       "        text-align: right;\n",
       "    }\n",
       "</style>\n",
       "<table border=\"1\" class=\"dataframe\">\n",
       "  <thead>\n",
       "    <tr style=\"text-align: right;\">\n",
       "      <th></th>\n",
       "      <th>county</th>\n",
       "      <th>city</th>\n",
       "      <th>postcode</th>\n",
       "      <th>property_type</th>\n",
       "      <th>property_subtype</th>\n",
       "      <th>property_condition_type</th>\n",
       "      <th>property_floor</th>\n",
       "      <th>building_floor_count</th>\n",
       "      <th>view_type</th>\n",
       "      <th>orientation</th>\n",
       "      <th>...</th>\n",
       "      <th>elevator_type</th>\n",
       "      <th>room_cnt</th>\n",
       "      <th>small_room_cnt</th>\n",
       "      <th>created_at</th>\n",
       "      <th>property_area</th>\n",
       "      <th>balcony_area</th>\n",
       "      <th>price_created_at</th>\n",
       "      <th>ad_view_cnt</th>\n",
       "      <th>active_days</th>\n",
       "      <th>nr</th>\n",
       "    </tr>\n",
       "  </thead>\n",
       "  <tbody>\n",
       "    <tr>\n",
       "      <th>0</th>\n",
       "      <td>Budapest</td>\n",
       "      <td>Budapest XII.</td>\n",
       "      <td>NaN</td>\n",
       "      <td>flat</td>\n",
       "      <td>brick flat (for sale)</td>\n",
       "      <td>good</td>\n",
       "      <td>1</td>\n",
       "      <td>NaN</td>\n",
       "      <td>street view</td>\n",
       "      <td>NaN</td>\n",
       "      <td>...</td>\n",
       "      <td>yes</td>\n",
       "      <td>2.0</td>\n",
       "      <td>1.0</td>\n",
       "      <td>2015-02-09</td>\n",
       "      <td>65.0</td>\n",
       "      <td>0.0</td>\n",
       "      <td>23.5</td>\n",
       "      <td>605.0</td>\n",
       "      <td>119.0</td>\n",
       "      <td>4</td>\n",
       "    </tr>\n",
       "    <tr>\n",
       "      <th>1</th>\n",
       "      <td>Budapest</td>\n",
       "      <td>Budapest I.</td>\n",
       "      <td>1016.0</td>\n",
       "      <td>flat</td>\n",
       "      <td>brick flat (for sale)</td>\n",
       "      <td>novel</td>\n",
       "      <td>2</td>\n",
       "      <td>NaN</td>\n",
       "      <td>street view</td>\n",
       "      <td>NaN</td>\n",
       "      <td>...</td>\n",
       "      <td>yes</td>\n",
       "      <td>1.0</td>\n",
       "      <td>1.0</td>\n",
       "      <td>2015-02-09</td>\n",
       "      <td>45.0</td>\n",
       "      <td>0.0</td>\n",
       "      <td>20.0</td>\n",
       "      <td>49.0</td>\n",
       "      <td>25.0</td>\n",
       "      <td>12</td>\n",
       "    </tr>\n",
       "    <tr>\n",
       "      <th>2</th>\n",
       "      <td>Budapest</td>\n",
       "      <td>Budapest XVI.</td>\n",
       "      <td>1164.0</td>\n",
       "      <td>flat</td>\n",
       "      <td>brick flat (for sale)</td>\n",
       "      <td>novel</td>\n",
       "      <td>1</td>\n",
       "      <td>NaN</td>\n",
       "      <td>garden view</td>\n",
       "      <td>NaN</td>\n",
       "      <td>...</td>\n",
       "      <td>yes</td>\n",
       "      <td>2.0</td>\n",
       "      <td>1.0</td>\n",
       "      <td>2015-02-09</td>\n",
       "      <td>60.0</td>\n",
       "      <td>0.0</td>\n",
       "      <td>22.0</td>\n",
       "      <td>77.0</td>\n",
       "      <td>77.0</td>\n",
       "      <td>14</td>\n",
       "    </tr>\n",
       "    <tr>\n",
       "      <th>3</th>\n",
       "      <td>Budapest</td>\n",
       "      <td>Budapest X.</td>\n",
       "      <td>NaN</td>\n",
       "      <td>flat</td>\n",
       "      <td>brick flat (for sale)</td>\n",
       "      <td>good</td>\n",
       "      <td>4</td>\n",
       "      <td>NaN</td>\n",
       "      <td>garden view</td>\n",
       "      <td>NaN</td>\n",
       "      <td>...</td>\n",
       "      <td>none</td>\n",
       "      <td>2.0</td>\n",
       "      <td>0.0</td>\n",
       "      <td>2015-02-09</td>\n",
       "      <td>55.0</td>\n",
       "      <td>4.0</td>\n",
       "      <td>11.0</td>\n",
       "      <td>139.0</td>\n",
       "      <td>18.0</td>\n",
       "      <td>21</td>\n",
       "    </tr>\n",
       "    <tr>\n",
       "      <th>4</th>\n",
       "      <td>Budapest</td>\n",
       "      <td>Budapest XVIII.</td>\n",
       "      <td>1181.0</td>\n",
       "      <td>flat</td>\n",
       "      <td>prefabricated panel flat (for sale)</td>\n",
       "      <td>renewed</td>\n",
       "      <td>6</td>\n",
       "      <td>NaN</td>\n",
       "      <td>NaN</td>\n",
       "      <td>NaN</td>\n",
       "      <td>...</td>\n",
       "      <td>yes</td>\n",
       "      <td>2.0</td>\n",
       "      <td>1.0</td>\n",
       "      <td>2015-02-09</td>\n",
       "      <td>60.0</td>\n",
       "      <td>3.0</td>\n",
       "      <td>10.2</td>\n",
       "      <td>176.0</td>\n",
       "      <td>69.0</td>\n",
       "      <td>31</td>\n",
       "    </tr>\n",
       "  </tbody>\n",
       "</table>\n",
       "<p>5 rows × 22 columns</p>\n",
       "</div>"
      ],
      "text/plain": [
       "     county             city  postcode property_type  \\\n",
       "0  Budapest    Budapest XII.       NaN          flat   \n",
       "1  Budapest      Budapest I.    1016.0          flat   \n",
       "2  Budapest    Budapest XVI.    1164.0          flat   \n",
       "3  Budapest      Budapest X.       NaN          flat   \n",
       "4  Budapest  Budapest XVIII.    1181.0          flat   \n",
       "\n",
       "                      property_subtype property_condition_type property_floor  \\\n",
       "0                brick flat (for sale)                    good              1   \n",
       "1                brick flat (for sale)                   novel              2   \n",
       "2                brick flat (for sale)                   novel              1   \n",
       "3                brick flat (for sale)                    good              4   \n",
       "4  prefabricated panel flat (for sale)                 renewed              6   \n",
       "\n",
       "  building_floor_count    view_type orientation  ... elevator_type room_cnt  \\\n",
       "0                  NaN  street view         NaN  ...           yes      2.0   \n",
       "1                  NaN  street view         NaN  ...           yes      1.0   \n",
       "2                  NaN  garden view         NaN  ...           yes      2.0   \n",
       "3                  NaN  garden view         NaN  ...          none      2.0   \n",
       "4                  NaN          NaN         NaN  ...           yes      2.0   \n",
       "\n",
       "  small_room_cnt  created_at  property_area balcony_area  price_created_at  \\\n",
       "0            1.0  2015-02-09           65.0          0.0              23.5   \n",
       "1            1.0  2015-02-09           45.0          0.0              20.0   \n",
       "2            1.0  2015-02-09           60.0          0.0              22.0   \n",
       "3            0.0  2015-02-09           55.0          4.0              11.0   \n",
       "4            1.0  2015-02-09           60.0          3.0              10.2   \n",
       "\n",
       "   ad_view_cnt  active_days  nr  \n",
       "0        605.0        119.0   4  \n",
       "1         49.0         25.0  12  \n",
       "2         77.0         77.0  14  \n",
       "3        139.0         18.0  21  \n",
       "4        176.0         69.0  31  \n",
       "\n",
       "[5 rows x 22 columns]"
      ]
     },
     "execution_count": 4,
     "metadata": {},
     "output_type": "execute_result"
    }
   ],
   "source": [
    "data.head()"
   ]
  },
  {
   "cell_type": "code",
   "execution_count": 5,
   "metadata": {},
   "outputs": [
    {
     "data": {
      "text/plain": [
       "(78542, 22)"
      ]
     },
     "execution_count": 5,
     "metadata": {},
     "output_type": "execute_result"
    }
   ],
   "source": [
    "data.shape"
   ]
  },
  {
   "cell_type": "code",
   "execution_count": 6,
   "metadata": {},
   "outputs": [
    {
     "data": {
      "text/plain": [
       "county                         0\n",
       "city                         559\n",
       "postcode                   28955\n",
       "property_type                  0\n",
       "property_subtype            1659\n",
       "property_condition_type        0\n",
       "property_floor              3796\n",
       "building_floor_count       42113\n",
       "view_type                  35664\n",
       "orientation                30895\n",
       "garden_access              61342\n",
       "heating_type               11309\n",
       "elevator_type              14154\n",
       "room_cnt                       0\n",
       "small_room_cnt                 0\n",
       "created_at                     0\n",
       "property_area                  0\n",
       "balcony_area                   0\n",
       "price_created_at               0\n",
       "ad_view_cnt                    0\n",
       "active_days                    0\n",
       "nr                             0\n",
       "dtype: int64"
      ]
     },
     "execution_count": 6,
     "metadata": {},
     "output_type": "execute_result"
    }
   ],
   "source": [
    "data.isnull().sum()"
   ]
  },
  {
   "cell_type": "code",
   "execution_count": 7,
   "metadata": {},
   "outputs": [
    {
     "data": {
      "text/plain": [
       "county                     0.000000\n",
       "city                       0.007117\n",
       "postcode                   0.368656\n",
       "property_type              0.000000\n",
       "property_subtype           0.021122\n",
       "property_condition_type    0.000000\n",
       "property_floor             0.048331\n",
       "building_floor_count       0.536184\n",
       "view_type                  0.454076\n",
       "orientation                0.393356\n",
       "garden_access              0.781009\n",
       "heating_type               0.143987\n",
       "elevator_type              0.180209\n",
       "room_cnt                   0.000000\n",
       "small_room_cnt             0.000000\n",
       "created_at                 0.000000\n",
       "property_area              0.000000\n",
       "balcony_area               0.000000\n",
       "price_created_at           0.000000\n",
       "ad_view_cnt                0.000000\n",
       "active_days                0.000000\n",
       "nr                         0.000000\n",
       "dtype: float64"
      ]
     },
     "execution_count": 7,
     "metadata": {},
     "output_type": "execute_result"
    }
   ],
   "source": [
    "data.isnull().sum()/data.shape[0]"
   ]
  },
  {
   "cell_type": "code",
   "execution_count": 8,
   "metadata": {},
   "outputs": [],
   "source": [
    "data_train=data.drop(\"price_created_at\",axis=1)"
   ]
  },
  {
   "cell_type": "code",
   "execution_count": 9,
   "metadata": {},
   "outputs": [],
   "source": [
    "data_target=data[\"price_created_at\"]"
   ]
  },
  {
   "cell_type": "code",
   "execution_count": 10,
   "metadata": {},
   "outputs": [
    {
     "data": {
      "text/html": [
       "<div>\n",
       "<style scoped>\n",
       "    .dataframe tbody tr th:only-of-type {\n",
       "        vertical-align: middle;\n",
       "    }\n",
       "\n",
       "    .dataframe tbody tr th {\n",
       "        vertical-align: top;\n",
       "    }\n",
       "\n",
       "    .dataframe thead th {\n",
       "        text-align: right;\n",
       "    }\n",
       "</style>\n",
       "<table border=\"1\" class=\"dataframe\">\n",
       "  <thead>\n",
       "    <tr style=\"text-align: right;\">\n",
       "      <th></th>\n",
       "      <th>county</th>\n",
       "      <th>city</th>\n",
       "      <th>postcode</th>\n",
       "      <th>property_type</th>\n",
       "      <th>property_subtype</th>\n",
       "      <th>property_condition_type</th>\n",
       "      <th>property_floor</th>\n",
       "      <th>building_floor_count</th>\n",
       "      <th>view_type</th>\n",
       "      <th>orientation</th>\n",
       "      <th>...</th>\n",
       "      <th>elevator_type</th>\n",
       "      <th>room_cnt</th>\n",
       "      <th>small_room_cnt</th>\n",
       "      <th>created_at</th>\n",
       "      <th>property_area</th>\n",
       "      <th>balcony_area</th>\n",
       "      <th>price_created_at</th>\n",
       "      <th>ad_view_cnt</th>\n",
       "      <th>active_days</th>\n",
       "      <th>nr</th>\n",
       "    </tr>\n",
       "  </thead>\n",
       "  <tbody>\n",
       "    <tr>\n",
       "      <th>0</th>\n",
       "      <td>Budapest</td>\n",
       "      <td>Budapest XII.</td>\n",
       "      <td>NaN</td>\n",
       "      <td>flat</td>\n",
       "      <td>brick flat (for sale)</td>\n",
       "      <td>good</td>\n",
       "      <td>1</td>\n",
       "      <td>NaN</td>\n",
       "      <td>street view</td>\n",
       "      <td>NaN</td>\n",
       "      <td>...</td>\n",
       "      <td>yes</td>\n",
       "      <td>2.0</td>\n",
       "      <td>1.0</td>\n",
       "      <td>2015-02-09</td>\n",
       "      <td>65.0</td>\n",
       "      <td>0.0</td>\n",
       "      <td>23.5</td>\n",
       "      <td>605.0</td>\n",
       "      <td>119.0</td>\n",
       "      <td>4</td>\n",
       "    </tr>\n",
       "    <tr>\n",
       "      <th>1</th>\n",
       "      <td>Budapest</td>\n",
       "      <td>Budapest I.</td>\n",
       "      <td>1016.0</td>\n",
       "      <td>flat</td>\n",
       "      <td>brick flat (for sale)</td>\n",
       "      <td>novel</td>\n",
       "      <td>2</td>\n",
       "      <td>NaN</td>\n",
       "      <td>street view</td>\n",
       "      <td>NaN</td>\n",
       "      <td>...</td>\n",
       "      <td>yes</td>\n",
       "      <td>1.0</td>\n",
       "      <td>1.0</td>\n",
       "      <td>2015-02-09</td>\n",
       "      <td>45.0</td>\n",
       "      <td>0.0</td>\n",
       "      <td>20.0</td>\n",
       "      <td>49.0</td>\n",
       "      <td>25.0</td>\n",
       "      <td>12</td>\n",
       "    </tr>\n",
       "    <tr>\n",
       "      <th>2</th>\n",
       "      <td>Budapest</td>\n",
       "      <td>Budapest XVI.</td>\n",
       "      <td>1164.0</td>\n",
       "      <td>flat</td>\n",
       "      <td>brick flat (for sale)</td>\n",
       "      <td>novel</td>\n",
       "      <td>1</td>\n",
       "      <td>NaN</td>\n",
       "      <td>garden view</td>\n",
       "      <td>NaN</td>\n",
       "      <td>...</td>\n",
       "      <td>yes</td>\n",
       "      <td>2.0</td>\n",
       "      <td>1.0</td>\n",
       "      <td>2015-02-09</td>\n",
       "      <td>60.0</td>\n",
       "      <td>0.0</td>\n",
       "      <td>22.0</td>\n",
       "      <td>77.0</td>\n",
       "      <td>77.0</td>\n",
       "      <td>14</td>\n",
       "    </tr>\n",
       "    <tr>\n",
       "      <th>3</th>\n",
       "      <td>Budapest</td>\n",
       "      <td>Budapest X.</td>\n",
       "      <td>NaN</td>\n",
       "      <td>flat</td>\n",
       "      <td>brick flat (for sale)</td>\n",
       "      <td>good</td>\n",
       "      <td>4</td>\n",
       "      <td>NaN</td>\n",
       "      <td>garden view</td>\n",
       "      <td>NaN</td>\n",
       "      <td>...</td>\n",
       "      <td>none</td>\n",
       "      <td>2.0</td>\n",
       "      <td>0.0</td>\n",
       "      <td>2015-02-09</td>\n",
       "      <td>55.0</td>\n",
       "      <td>4.0</td>\n",
       "      <td>11.0</td>\n",
       "      <td>139.0</td>\n",
       "      <td>18.0</td>\n",
       "      <td>21</td>\n",
       "    </tr>\n",
       "    <tr>\n",
       "      <th>4</th>\n",
       "      <td>Budapest</td>\n",
       "      <td>Budapest XVIII.</td>\n",
       "      <td>1181.0</td>\n",
       "      <td>flat</td>\n",
       "      <td>prefabricated panel flat (for sale)</td>\n",
       "      <td>renewed</td>\n",
       "      <td>6</td>\n",
       "      <td>NaN</td>\n",
       "      <td>NaN</td>\n",
       "      <td>NaN</td>\n",
       "      <td>...</td>\n",
       "      <td>yes</td>\n",
       "      <td>2.0</td>\n",
       "      <td>1.0</td>\n",
       "      <td>2015-02-09</td>\n",
       "      <td>60.0</td>\n",
       "      <td>3.0</td>\n",
       "      <td>10.2</td>\n",
       "      <td>176.0</td>\n",
       "      <td>69.0</td>\n",
       "      <td>31</td>\n",
       "    </tr>\n",
       "    <tr>\n",
       "      <th>...</th>\n",
       "      <td>...</td>\n",
       "      <td>...</td>\n",
       "      <td>...</td>\n",
       "      <td>...</td>\n",
       "      <td>...</td>\n",
       "      <td>...</td>\n",
       "      <td>...</td>\n",
       "      <td>...</td>\n",
       "      <td>...</td>\n",
       "      <td>...</td>\n",
       "      <td>...</td>\n",
       "      <td>...</td>\n",
       "      <td>...</td>\n",
       "      <td>...</td>\n",
       "      <td>...</td>\n",
       "      <td>...</td>\n",
       "      <td>...</td>\n",
       "      <td>...</td>\n",
       "      <td>...</td>\n",
       "      <td>...</td>\n",
       "      <td>...</td>\n",
       "    </tr>\n",
       "    <tr>\n",
       "      <th>78537</th>\n",
       "      <td>Budapest</td>\n",
       "      <td>Budapest VI.</td>\n",
       "      <td>1063.0</td>\n",
       "      <td>flat</td>\n",
       "      <td>brick flat (for sale)</td>\n",
       "      <td>to_be_renovated</td>\n",
       "      <td>1</td>\n",
       "      <td>NaN</td>\n",
       "      <td>NaN</td>\n",
       "      <td>south</td>\n",
       "      <td>...</td>\n",
       "      <td>none</td>\n",
       "      <td>2.0</td>\n",
       "      <td>0.0</td>\n",
       "      <td>2016-08-29</td>\n",
       "      <td>65.0</td>\n",
       "      <td>0.0</td>\n",
       "      <td>29.9</td>\n",
       "      <td>10.0</td>\n",
       "      <td>1.0</td>\n",
       "      <td>394169</td>\n",
       "    </tr>\n",
       "    <tr>\n",
       "      <th>78538</th>\n",
       "      <td>Budapest</td>\n",
       "      <td>Budapest III.</td>\n",
       "      <td>1031.0</td>\n",
       "      <td>flat</td>\n",
       "      <td>prefabricated panel flat (for sale)</td>\n",
       "      <td>missing_info</td>\n",
       "      <td>NaN</td>\n",
       "      <td>NaN</td>\n",
       "      <td>NaN</td>\n",
       "      <td>NaN</td>\n",
       "      <td>...</td>\n",
       "      <td>yes</td>\n",
       "      <td>1.0</td>\n",
       "      <td>0.0</td>\n",
       "      <td>2016-08-29</td>\n",
       "      <td>35.0</td>\n",
       "      <td>0.0</td>\n",
       "      <td>12.9</td>\n",
       "      <td>17.0</td>\n",
       "      <td>1.0</td>\n",
       "      <td>394174</td>\n",
       "    </tr>\n",
       "    <tr>\n",
       "      <th>78539</th>\n",
       "      <td>Budapest</td>\n",
       "      <td>Budapest XIV.</td>\n",
       "      <td>NaN</td>\n",
       "      <td>flat</td>\n",
       "      <td>brick flat (for sale)</td>\n",
       "      <td>good</td>\n",
       "      <td>ground floor</td>\n",
       "      <td>NaN</td>\n",
       "      <td>NaN</td>\n",
       "      <td>NaN</td>\n",
       "      <td>...</td>\n",
       "      <td>none</td>\n",
       "      <td>1.0</td>\n",
       "      <td>0.0</td>\n",
       "      <td>2016-08-29</td>\n",
       "      <td>25.0</td>\n",
       "      <td>0.0</td>\n",
       "      <td>9.0</td>\n",
       "      <td>56.0</td>\n",
       "      <td>1.0</td>\n",
       "      <td>394176</td>\n",
       "    </tr>\n",
       "    <tr>\n",
       "      <th>78540</th>\n",
       "      <td>Budapest</td>\n",
       "      <td>Budapest II.</td>\n",
       "      <td>1024.0</td>\n",
       "      <td>flat</td>\n",
       "      <td>brick flat (for sale)</td>\n",
       "      <td>novel</td>\n",
       "      <td>basement</td>\n",
       "      <td>NaN</td>\n",
       "      <td>NaN</td>\n",
       "      <td>east</td>\n",
       "      <td>...</td>\n",
       "      <td>none</td>\n",
       "      <td>1.0</td>\n",
       "      <td>1.0</td>\n",
       "      <td>2016-08-29</td>\n",
       "      <td>40.0</td>\n",
       "      <td>0.0</td>\n",
       "      <td>17.5</td>\n",
       "      <td>92.0</td>\n",
       "      <td>1.0</td>\n",
       "      <td>394179</td>\n",
       "    </tr>\n",
       "    <tr>\n",
       "      <th>78541</th>\n",
       "      <td>Budapest</td>\n",
       "      <td>Budapest VI.</td>\n",
       "      <td>1061.0</td>\n",
       "      <td>flat</td>\n",
       "      <td>brick flat (for sale)</td>\n",
       "      <td>novel</td>\n",
       "      <td>3</td>\n",
       "      <td>4</td>\n",
       "      <td>street view</td>\n",
       "      <td>east</td>\n",
       "      <td>...</td>\n",
       "      <td>yes</td>\n",
       "      <td>2.0</td>\n",
       "      <td>0.0</td>\n",
       "      <td>2016-08-29</td>\n",
       "      <td>55.0</td>\n",
       "      <td>0.0</td>\n",
       "      <td>42.9</td>\n",
       "      <td>13.0</td>\n",
       "      <td>1.0</td>\n",
       "      <td>394181</td>\n",
       "    </tr>\n",
       "  </tbody>\n",
       "</table>\n",
       "<p>78542 rows × 21 columns</p>\n",
       "</div>"
      ],
      "text/plain": [
       "         county             city  postcode property_type  \\\n",
       "0      Budapest    Budapest XII.       NaN          flat   \n",
       "1      Budapest      Budapest I.    1016.0          flat   \n",
       "2      Budapest    Budapest XVI.    1164.0          flat   \n",
       "3      Budapest      Budapest X.       NaN          flat   \n",
       "4      Budapest  Budapest XVIII.    1181.0          flat   \n",
       "...         ...              ...       ...           ...   \n",
       "78537  Budapest     Budapest VI.    1063.0          flat   \n",
       "78538  Budapest    Budapest III.    1031.0          flat   \n",
       "78539  Budapest    Budapest XIV.       NaN          flat   \n",
       "78540  Budapest     Budapest II.    1024.0          flat   \n",
       "78541  Budapest     Budapest VI.    1061.0          flat   \n",
       "\n",
       "                          property_subtype property_condition_type  \\\n",
       "0                    brick flat (for sale)                    good   \n",
       "1                    brick flat (for sale)                   novel   \n",
       "2                    brick flat (for sale)                   novel   \n",
       "3                    brick flat (for sale)                    good   \n",
       "4      prefabricated panel flat (for sale)                 renewed   \n",
       "...                                    ...                     ...   \n",
       "78537                brick flat (for sale)         to_be_renovated   \n",
       "78538  prefabricated panel flat (for sale)            missing_info   \n",
       "78539                brick flat (for sale)                    good   \n",
       "78540                brick flat (for sale)                   novel   \n",
       "78541                brick flat (for sale)                   novel   \n",
       "\n",
       "      property_floor building_floor_count    view_type orientation  ...  \\\n",
       "0                  1                  NaN  street view         NaN  ...   \n",
       "1                  2                  NaN  street view         NaN  ...   \n",
       "2                  1                  NaN  garden view         NaN  ...   \n",
       "3                  4                  NaN  garden view         NaN  ...   \n",
       "4                  6                  NaN          NaN         NaN  ...   \n",
       "...              ...                  ...          ...         ...  ...   \n",
       "78537              1                  NaN          NaN       south  ...   \n",
       "78538            NaN                  NaN          NaN         NaN  ...   \n",
       "78539   ground floor                  NaN          NaN         NaN  ...   \n",
       "78540       basement                  NaN          NaN        east  ...   \n",
       "78541              3                    4  street view        east  ...   \n",
       "\n",
       "      elevator_type room_cnt  small_room_cnt  created_at property_area  \\\n",
       "0               yes      2.0             1.0  2015-02-09          65.0   \n",
       "1               yes      1.0             1.0  2015-02-09          45.0   \n",
       "2               yes      2.0             1.0  2015-02-09          60.0   \n",
       "3              none      2.0             0.0  2015-02-09          55.0   \n",
       "4               yes      2.0             1.0  2015-02-09          60.0   \n",
       "...             ...      ...             ...         ...           ...   \n",
       "78537          none      2.0             0.0  2016-08-29          65.0   \n",
       "78538           yes      1.0             0.0  2016-08-29          35.0   \n",
       "78539          none      1.0             0.0  2016-08-29          25.0   \n",
       "78540          none      1.0             1.0  2016-08-29          40.0   \n",
       "78541           yes      2.0             0.0  2016-08-29          55.0   \n",
       "\n",
       "       balcony_area  price_created_at  ad_view_cnt  active_days      nr  \n",
       "0               0.0              23.5        605.0        119.0       4  \n",
       "1               0.0              20.0         49.0         25.0      12  \n",
       "2               0.0              22.0         77.0         77.0      14  \n",
       "3               4.0              11.0        139.0         18.0      21  \n",
       "4               3.0              10.2        176.0         69.0      31  \n",
       "...             ...               ...          ...          ...     ...  \n",
       "78537           0.0              29.9         10.0          1.0  394169  \n",
       "78538           0.0              12.9         17.0          1.0  394174  \n",
       "78539           0.0               9.0         56.0          1.0  394176  \n",
       "78540           0.0              17.5         92.0          1.0  394179  \n",
       "78541           0.0              42.9         13.0          1.0  394181  \n",
       "\n",
       "[78542 rows x 21 columns]"
      ]
     },
     "execution_count": 10,
     "metadata": {},
     "output_type": "execute_result"
    }
   ],
   "source": [
    "data.drop([\"garden_access\",],axis=1)"
   ]
  },
  {
   "cell_type": "code",
   "execution_count": 11,
   "metadata": {},
   "outputs": [
    {
     "data": {
      "text/plain": [
       "(78542, 22)"
      ]
     },
     "execution_count": 11,
     "metadata": {},
     "output_type": "execute_result"
    }
   ],
   "source": [
    "data.shape"
   ]
  },
  {
   "cell_type": "code",
   "execution_count": 12,
   "metadata": {},
   "outputs": [
    {
     "data": {
      "text/plain": [
       "(78542,)"
      ]
     },
     "execution_count": 12,
     "metadata": {},
     "output_type": "execute_result"
    }
   ],
   "source": [
    "data_train[\"city\"].shape"
   ]
  },
  {
   "cell_type": "code",
   "execution_count": 13,
   "metadata": {},
   "outputs": [
    {
     "data": {
      "text/plain": [
       "(78542,)"
      ]
     },
     "execution_count": 13,
     "metadata": {},
     "output_type": "execute_result"
    }
   ],
   "source": [
    "data[\"city\"].shape"
   ]
  },
  {
   "cell_type": "code",
   "execution_count": 14,
   "metadata": {},
   "outputs": [],
   "source": [
    "data_train=pd.get_dummies(data,columns=[\"city\"])"
   ]
  },
  {
   "cell_type": "code",
   "execution_count": 15,
   "metadata": {},
   "outputs": [
    {
     "data": {
      "text/html": [
       "<div>\n",
       "<style scoped>\n",
       "    .dataframe tbody tr th:only-of-type {\n",
       "        vertical-align: middle;\n",
       "    }\n",
       "\n",
       "    .dataframe tbody tr th {\n",
       "        vertical-align: top;\n",
       "    }\n",
       "\n",
       "    .dataframe thead th {\n",
       "        text-align: right;\n",
       "    }\n",
       "</style>\n",
       "<table border=\"1\" class=\"dataframe\">\n",
       "  <thead>\n",
       "    <tr style=\"text-align: right;\">\n",
       "      <th></th>\n",
       "      <th>postcode</th>\n",
       "      <th>room_cnt</th>\n",
       "      <th>small_room_cnt</th>\n",
       "      <th>property_area</th>\n",
       "      <th>balcony_area</th>\n",
       "      <th>price_created_at</th>\n",
       "      <th>ad_view_cnt</th>\n",
       "      <th>active_days</th>\n",
       "      <th>nr</th>\n",
       "    </tr>\n",
       "  </thead>\n",
       "  <tbody>\n",
       "    <tr>\n",
       "      <th>postcode</th>\n",
       "      <td>1.000000</td>\n",
       "      <td>-0.044421</td>\n",
       "      <td>0.138252</td>\n",
       "      <td>0.013020</td>\n",
       "      <td>0.097432</td>\n",
       "      <td>-0.280295</td>\n",
       "      <td>0.005962</td>\n",
       "      <td>-0.006547</td>\n",
       "      <td>-0.031367</td>\n",
       "    </tr>\n",
       "    <tr>\n",
       "      <th>room_cnt</th>\n",
       "      <td>-0.044421</td>\n",
       "      <td>1.000000</td>\n",
       "      <td>-0.346121</td>\n",
       "      <td>0.592991</td>\n",
       "      <td>0.090463</td>\n",
       "      <td>0.292736</td>\n",
       "      <td>0.003587</td>\n",
       "      <td>0.053267</td>\n",
       "      <td>-0.023959</td>\n",
       "    </tr>\n",
       "    <tr>\n",
       "      <th>small_room_cnt</th>\n",
       "      <td>0.138252</td>\n",
       "      <td>-0.346121</td>\n",
       "      <td>1.000000</td>\n",
       "      <td>0.256398</td>\n",
       "      <td>0.084885</td>\n",
       "      <td>0.041483</td>\n",
       "      <td>0.016808</td>\n",
       "      <td>-0.021488</td>\n",
       "      <td>-0.004059</td>\n",
       "    </tr>\n",
       "    <tr>\n",
       "      <th>property_area</th>\n",
       "      <td>0.013020</td>\n",
       "      <td>0.592991</td>\n",
       "      <td>0.256398</td>\n",
       "      <td>1.000000</td>\n",
       "      <td>0.167789</td>\n",
       "      <td>0.451574</td>\n",
       "      <td>-0.012860</td>\n",
       "      <td>0.063829</td>\n",
       "      <td>-0.026756</td>\n",
       "    </tr>\n",
       "    <tr>\n",
       "      <th>balcony_area</th>\n",
       "      <td>0.097432</td>\n",
       "      <td>0.090463</td>\n",
       "      <td>0.084885</td>\n",
       "      <td>0.167789</td>\n",
       "      <td>1.000000</td>\n",
       "      <td>0.227997</td>\n",
       "      <td>0.020939</td>\n",
       "      <td>0.020348</td>\n",
       "      <td>0.008069</td>\n",
       "    </tr>\n",
       "    <tr>\n",
       "      <th>price_created_at</th>\n",
       "      <td>-0.280295</td>\n",
       "      <td>0.292736</td>\n",
       "      <td>0.041483</td>\n",
       "      <td>0.451574</td>\n",
       "      <td>0.227997</td>\n",
       "      <td>1.000000</td>\n",
       "      <td>-0.072848</td>\n",
       "      <td>0.082049</td>\n",
       "      <td>0.193351</td>\n",
       "    </tr>\n",
       "    <tr>\n",
       "      <th>ad_view_cnt</th>\n",
       "      <td>0.005962</td>\n",
       "      <td>0.003587</td>\n",
       "      <td>0.016808</td>\n",
       "      <td>-0.012860</td>\n",
       "      <td>0.020939</td>\n",
       "      <td>-0.072848</td>\n",
       "      <td>1.000000</td>\n",
       "      <td>0.350455</td>\n",
       "      <td>-0.090797</td>\n",
       "    </tr>\n",
       "    <tr>\n",
       "      <th>active_days</th>\n",
       "      <td>-0.006547</td>\n",
       "      <td>0.053267</td>\n",
       "      <td>-0.021488</td>\n",
       "      <td>0.063829</td>\n",
       "      <td>0.020348</td>\n",
       "      <td>0.082049</td>\n",
       "      <td>0.350455</td>\n",
       "      <td>1.000000</td>\n",
       "      <td>-0.151010</td>\n",
       "    </tr>\n",
       "    <tr>\n",
       "      <th>nr</th>\n",
       "      <td>-0.031367</td>\n",
       "      <td>-0.023959</td>\n",
       "      <td>-0.004059</td>\n",
       "      <td>-0.026756</td>\n",
       "      <td>0.008069</td>\n",
       "      <td>0.193351</td>\n",
       "      <td>-0.090797</td>\n",
       "      <td>-0.151010</td>\n",
       "      <td>1.000000</td>\n",
       "    </tr>\n",
       "  </tbody>\n",
       "</table>\n",
       "</div>"
      ],
      "text/plain": [
       "                  postcode  room_cnt  small_room_cnt  property_area  \\\n",
       "postcode          1.000000 -0.044421        0.138252       0.013020   \n",
       "room_cnt         -0.044421  1.000000       -0.346121       0.592991   \n",
       "small_room_cnt    0.138252 -0.346121        1.000000       0.256398   \n",
       "property_area     0.013020  0.592991        0.256398       1.000000   \n",
       "balcony_area      0.097432  0.090463        0.084885       0.167789   \n",
       "price_created_at -0.280295  0.292736        0.041483       0.451574   \n",
       "ad_view_cnt       0.005962  0.003587        0.016808      -0.012860   \n",
       "active_days      -0.006547  0.053267       -0.021488       0.063829   \n",
       "nr               -0.031367 -0.023959       -0.004059      -0.026756   \n",
       "\n",
       "                  balcony_area  price_created_at  ad_view_cnt  active_days  \\\n",
       "postcode              0.097432         -0.280295     0.005962    -0.006547   \n",
       "room_cnt              0.090463          0.292736     0.003587     0.053267   \n",
       "small_room_cnt        0.084885          0.041483     0.016808    -0.021488   \n",
       "property_area         0.167789          0.451574    -0.012860     0.063829   \n",
       "balcony_area          1.000000          0.227997     0.020939     0.020348   \n",
       "price_created_at      0.227997          1.000000    -0.072848     0.082049   \n",
       "ad_view_cnt           0.020939         -0.072848     1.000000     0.350455   \n",
       "active_days           0.020348          0.082049     0.350455     1.000000   \n",
       "nr                    0.008069          0.193351    -0.090797    -0.151010   \n",
       "\n",
       "                        nr  \n",
       "postcode         -0.031367  \n",
       "room_cnt         -0.023959  \n",
       "small_room_cnt   -0.004059  \n",
       "property_area    -0.026756  \n",
       "balcony_area      0.008069  \n",
       "price_created_at  0.193351  \n",
       "ad_view_cnt      -0.090797  \n",
       "active_days      -0.151010  \n",
       "nr                1.000000  "
      ]
     },
     "execution_count": 15,
     "metadata": {},
     "output_type": "execute_result"
    }
   ],
   "source": [
    "data.corr()"
   ]
  },
  {
   "cell_type": "code",
   "execution_count": 16,
   "metadata": {},
   "outputs": [
    {
     "data": {
      "text/plain": [
       "<AxesSubplot:>"
      ]
     },
     "execution_count": 16,
     "metadata": {},
     "output_type": "execute_result"
    },
    {
     "data": {
      "image/png": "[encoded data removed]",
      "text/plain": [
       "<Figure size 432x288 with 2 Axes>"
      ]
     },
     "metadata": {
      "needs_background": "light"
     },
     "output_type": "display_data"
    }
   ],
   "source": [
    "import seaborn as sn\n",
    "sn.heatmap(data_train.corr())"
   ]
  },
  {
   "cell_type": "code",
   "execution_count": 17,
   "metadata": {},
   "outputs": [],
   "source": [
    "#because city and price have a low corr we drop city column from data_train\n",
    "#data_train=data.drop(\"city\",axis=1)"
   ]
  },
  {
   "cell_type": "code",
   "execution_count": 18,
   "metadata": {},
   "outputs": [
    {
     "data": {
      "text/plain": [
       "1.0"
      ]
     },
     "execution_count": 18,
     "metadata": {},
     "output_type": "execute_result"
    }
   ],
   "source": [
    "data[data[\"city\"].isnull()][\"postcode\"].isna().sum() /data[data[\"city\"].isnull()].shape[0]"
   ]
  },
  {
   "cell_type": "code",
   "execution_count": 19,
   "metadata": {},
   "outputs": [
    {
     "data": {
      "text/plain": [
       "5.0        13\n",
       "10.0       60\n",
       "15.0      174\n",
       "20.0      566\n",
       "25.0     3403\n",
       "70.0     4938\n",
       "30.0     5799\n",
       "40.0     6727\n",
       "65.0     7342\n",
       "60.0     7974\n",
       "35.0     8816\n",
       "45.0     8838\n",
       "55.0    11943\n",
       "50.0    11949\n",
       "Name: property_area, dtype: int64"
      ]
     },
     "execution_count": 19,
     "metadata": {},
     "output_type": "execute_result"
    }
   ],
   "source": [
    "data[\"property_area\"].value_counts(ascending=True,dropna=False)"
   ]
  },
  {
   "cell_type": "code",
   "execution_count": 20,
   "metadata": {},
   "outputs": [
    {
     "data": {
      "text/plain": [
       "yes      2783\n",
       "none    14417\n",
       "NaN     61342\n",
       "Name: garden_access, dtype: int64"
      ]
     },
     "execution_count": 20,
     "metadata": {},
     "output_type": "execute_result"
    }
   ],
   "source": [
    "data[\"garden_access\"].value_counts(ascending=True,dropna=False)"
   ]
  },
  {
   "cell_type": "code",
   "execution_count": 21,
   "metadata": {},
   "outputs": [],
   "source": [
    "data_train[\"garden_access\"].replace({\"yes\":1,\"none\":0,np.nan:0},inplace=True)"
   ]
  },
  {
   "cell_type": "code",
   "execution_count": 22,
   "metadata": {},
   "outputs": [
    {
     "data": {
      "text/plain": [
       "1     2783\n",
       "0    75759\n",
       "Name: garden_access, dtype: int64"
      ]
     },
     "execution_count": 22,
     "metadata": {},
     "output_type": "execute_result"
    }
   ],
   "source": [
    "data_train[\"garden_access\"].value_counts(ascending=True,dropna=False)"
   ]
  },
  {
   "cell_type": "code",
   "execution_count": 23,
   "metadata": {},
   "outputs": [
    {
     "data": {
      "text/plain": [
       "1239.0        2\n",
       "1185.0        3\n",
       "1110.0        3\n",
       "1046.0       18\n",
       "1215.0       18\n",
       "          ...  \n",
       "1156.0      980\n",
       "1134.0      983\n",
       "1135.0     1366\n",
       "1039.0     1396\n",
       "NaN       28955\n",
       "Name: postcode, Length: 162, dtype: int64"
      ]
     },
     "execution_count": 23,
     "metadata": {},
     "output_type": "execute_result"
    }
   ],
   "source": [
    "data[\"postcode\"].value_counts(ascending=True,dropna=False)"
   ]
  },
  {
   "cell_type": "code",
   "execution_count": 24,
   "metadata": {},
   "outputs": [],
   "source": [
    "data_train[\"postcode\"].fillna(method=\"bfill\",inplace=True)"
   ]
  },
  {
   "cell_type": "code",
   "execution_count": 25,
   "metadata": {},
   "outputs": [
    {
     "data": {
      "text/plain": [
       "0"
      ]
     },
     "execution_count": 25,
     "metadata": {},
     "output_type": "execute_result"
    }
   ],
   "source": [
    "data_train[\"postcode\"].isna().sum()"
   ]
  },
  {
   "cell_type": "code",
   "execution_count": 26,
   "metadata": {},
   "outputs": [
    {
     "data": {
      "text/plain": [
       "Budapest    78542\n",
       "Name: county, dtype: int64"
      ]
     },
     "execution_count": 26,
     "metadata": {},
     "output_type": "execute_result"
    }
   ],
   "source": [
    "data[\"county\"].value_counts()"
   ]
  },
  {
   "cell_type": "code",
   "execution_count": 27,
   "metadata": {},
   "outputs": [
    {
     "data": {
      "text/plain": [
       "NaN                                     1659\n",
       "prefabricated panel flat (for sale)    19802\n",
       "brick flat (for sale)                  57081\n",
       "Name: property_subtype, dtype: int64"
      ]
     },
     "execution_count": 27,
     "metadata": {},
     "output_type": "execute_result"
    }
   ],
   "source": [
    "data_train[\"property_subtype\"].value_counts(ascending=True,dropna=False)"
   ]
  },
  {
   "cell_type": "code",
   "execution_count": 28,
   "metadata": {},
   "outputs": [
    {
     "data": {
      "text/plain": [
       "under_construction       10\n",
       "can_move_in             394\n",
       "new_construction       2940\n",
       "missing_info           3558\n",
       "to_be_renovated        6113\n",
       "medium                10958\n",
       "renewed               12140\n",
       "novel                 15698\n",
       "good                  26731\n",
       "Name: property_condition_type, dtype: int64"
      ]
     },
     "execution_count": 28,
     "metadata": {},
     "output_type": "execute_result"
    }
   ],
   "source": [
    "data_train[\"property_condition_type\"].value_counts(ascending=True,dropna=False)"
   ]
  },
  {
   "cell_type": "code",
   "execution_count": 29,
   "metadata": {},
   "outputs": [
    {
     "data": {
      "text/plain": [
       "basement             441\n",
       "10 plus              486\n",
       "9                   1615\n",
       "10                  1681\n",
       "8                   1712\n",
       "7                   1841\n",
       "6                   2530\n",
       "5                   3492\n",
       "mezzanine floor     3677\n",
       "NaN                 3796\n",
       "4                   6632\n",
       "3                  10716\n",
       "ground floor       12346\n",
       "2                  12890\n",
       "1                  14687\n",
       "Name: property_floor, dtype: int64"
      ]
     },
     "execution_count": 29,
     "metadata": {},
     "output_type": "execute_result"
    }
   ],
   "source": [
    "data_train[\"property_floor\"].value_counts(ascending=True,dropna=False)"
   ]
  },
  {
   "cell_type": "code",
   "execution_count": 30,
   "metadata": {},
   "outputs": [],
   "source": [
    "data_train[\"property_floor\"].replace({\"basement\":-1,\"10 plus\":11,\"mezzanine floor\":1,np.nan:0,\"ground floor\":0},inplace=True)"
   ]
  },
  {
   "cell_type": "code",
   "execution_count": 31,
   "metadata": {},
   "outputs": [
    {
     "data": {
      "text/plain": [
       "-1      441\n",
       "11      486\n",
       "9      1615\n",
       "10     1681\n",
       "8      1712\n",
       "7      1841\n",
       "6      2530\n",
       "5      3492\n",
       "1      3677\n",
       "4      6632\n",
       "3     10716\n",
       "2     12890\n",
       "1     14687\n",
       "0     16142\n",
       "Name: property_floor, dtype: int64"
      ]
     },
     "execution_count": 31,
     "metadata": {},
     "output_type": "execute_result"
    }
   ],
   "source": [
    "data_train[\"property_floor\"].value_counts(ascending=True,dropna=False)"
   ]
  },
  {
   "cell_type": "code",
   "execution_count": 32,
   "metadata": {},
   "outputs": [
    {
     "data": {
      "text/plain": [
       "9                 687\n",
       "8                 689\n",
       "more than 10      834\n",
       "1                 992\n",
       "7                1132\n",
       "6                1702\n",
       "5                3176\n",
       "2                3411\n",
       "10               7698\n",
       "3                7810\n",
       "4                8298\n",
       "NaN             42113\n",
       "Name: building_floor_count, dtype: int64"
      ]
     },
     "execution_count": 32,
     "metadata": {},
     "output_type": "execute_result"
    }
   ],
   "source": [
    "data_train[\"building_floor_count\"].value_counts(ascending=True,dropna=False)"
   ]
  },
  {
   "cell_type": "code",
   "execution_count": 33,
   "metadata": {},
   "outputs": [],
   "source": [
    "data_train[\"building_floor_count\"].replace({\"more than 10\":11,np.nan:0},inplace=True)"
   ]
  },
  {
   "cell_type": "code",
   "execution_count": 34,
   "metadata": {
    "scrolled": true
   },
   "outputs": [
    {
     "data": {
      "text/plain": [
       "9       687\n",
       "8       689\n",
       "11      834\n",
       "1       992\n",
       "7      1132\n",
       "6      1702\n",
       "5      3176\n",
       "2      3411\n",
       "10     7698\n",
       "3      7810\n",
       "4      8298\n",
       "0     42113\n",
       "Name: building_floor_count, dtype: int64"
      ]
     },
     "execution_count": 34,
     "metadata": {},
     "output_type": "execute_result"
    }
   ],
   "source": [
    "data_train[\"building_floor_count\"].value_counts(ascending=True,dropna=False)"
   ]
  },
  {
   "cell_type": "code",
   "execution_count": 35,
   "metadata": {},
   "outputs": [
    {
     "data": {
      "text/plain": [
       "panoramic          5142\n",
       "courtyard view     9463\n",
       "garden view       11090\n",
       "street view       17183\n",
       "NaN               35664\n",
       "Name: view_type, dtype: int64"
      ]
     },
     "execution_count": 35,
     "metadata": {},
     "output_type": "execute_result"
    }
   ],
   "source": [
    "data_train[\"view_type\"].value_counts(ascending=True,dropna=False)"
   ]
  },
  {
   "cell_type": "code",
   "execution_count": 36,
   "metadata": {},
   "outputs": [
    {
     "data": {
      "text/plain": [
       "NaN     14154\n",
       "none    29326\n",
       "yes     35062\n",
       "Name: elevator_type, dtype: int64"
      ]
     },
     "execution_count": 36,
     "metadata": {},
     "output_type": "execute_result"
    }
   ],
   "source": [
    "data_train[\"elevator_type\"].value_counts(ascending=True,dropna=False)"
   ]
  },
  {
   "cell_type": "code",
   "execution_count": 37,
   "metadata": {},
   "outputs": [],
   "source": [
    "data_train[\"elevator_type\"].replace({\"yes\":1,\"none\":0,np.nan:0},inplace=True)"
   ]
  },
  {
   "cell_type": "code",
   "execution_count": 60,
   "metadata": {},
   "outputs": [],
   "source": [
    "features=[\n",
    "'city_Budapest I.',\n",
    "'city_Budapest II.', 'city_Budapest III.', 'city_Budapest IV.',\n",
    "'city_Budapest IX.', 'city_Budapest V.', 'city_Budapest VI.',\n",
    "'city_Budapest VII.', 'city_Budapest VIII.', 'city_Budapest X.',\n",
    "'city_Budapest XI.', 'city_Budapest XII.', 'city_Budapest XIII.',\n",
    "'city_Budapest XIV.', 'city_Budapest XIX.', 'city_Budapest XV.',\n",
    "'city_Budapest XVI.', 'city_Budapest XVII.', 'city_Budapest XVIII.',\n",
    "'city_Budapest XX.', 'city_Budapest XXI.', 'city_Budapest XXII.',\n",
    "'city_Budapest XXIII.',\n",
    "\"postcode\",\n",
    "\"property_floor\",\n",
    "\"building_floor_count\",\n",
    "\"garden_access\",\n",
    "\"elevator_type\",\n",
    "\"room_cnt\",\n",
    "\"small_room_cnt\",\n",
    "\"property_area\",\n",
    "\"balcony_area\"\n",
    "]\n",
    "target = 'price_created_at'"
   ]
  },
  {
   "cell_type": "code",
   "execution_count": 39,
   "metadata": {},
   "outputs": [
    {
     "data": {
      "text/plain": [
       "Index(['county', 'postcode', 'property_type', 'property_subtype',\n",
       "       'property_condition_type', 'property_floor', 'building_floor_count',\n",
       "       'view_type', 'orientation', 'garden_access', 'heating_type',\n",
       "       'elevator_type', 'room_cnt', 'small_room_cnt', 'created_at',\n",
       "       'property_area', 'balcony_area', 'price_created_at', 'ad_view_cnt',\n",
       "       'active_days', 'nr', 'city_Budapest I.', 'city_Budapest II.',\n",
       "       'city_Budapest III.', 'city_Budapest IV.', 'city_Budapest IX.',\n",
       "       'city_Budapest V.', 'city_Budapest VI.', 'city_Budapest VII.',\n",
       "       'city_Budapest VIII.', 'city_Budapest X.', 'city_Budapest XI.',\n",
       "       'city_Budapest XII.', 'city_Budapest XIII.', 'city_Budapest XIV.',\n",
       "       'city_Budapest XIX.', 'city_Budapest XV.', 'city_Budapest XVI.',\n",
       "       'city_Budapest XVII.', 'city_Budapest XVIII.', 'city_Budapest XX.',\n",
       "       'city_Budapest XXI.', 'city_Budapest XXII.', 'city_Budapest XXIII.'],\n",
       "      dtype='object')"
      ]
     },
     "execution_count": 39,
     "metadata": {},
     "output_type": "execute_result"
    }
   ],
   "source": [
    "data_train.columns"
   ]
  },
  {
   "cell_type": "code",
   "execution_count": 40,
   "metadata": {},
   "outputs": [
    {
     "name": "stdout",
     "output_type": "stream",
     "text": [
      "<class 'pandas.core.frame.DataFrame'>\n",
      "RangeIndex: 78542 entries, 0 to 78541\n",
      "Data columns (total 44 columns):\n",
      " #   Column                   Non-Null Count  Dtype  \n",
      "---  ------                   --------------  -----  \n",
      " 0   county                   78542 non-null  object \n",
      " 1   postcode                 78542 non-null  float64\n",
      " 2   property_type            78542 non-null  object \n",
      " 3   property_subtype         76883 non-null  object \n",
      " 4   property_condition_type  78542 non-null  object \n",
      " 5   property_floor           78542 non-null  object \n",
      " 6   building_floor_count     78542 non-null  object \n",
      " 7   view_type                42878 non-null  object \n",
      " 8   orientation              47647 non-null  object \n",
      " 9   garden_access            78542 non-null  int64  \n",
      " 10  heating_type             67233 non-null  object \n",
      " 11  elevator_type            78542 non-null  int64  \n",
      " 12  room_cnt                 78542 non-null  float64\n",
      " 13  small_room_cnt           78542 non-null  float64\n",
      " 14  created_at               78542 non-null  object \n",
      " 15  property_area            78542 non-null  float64\n",
      " 16  balcony_area             78542 non-null  float64\n",
      " 17  price_created_at         78542 non-null  float64\n",
      " 18  ad_view_cnt              78542 non-null  float64\n",
      " 19  active_days              78542 non-null  float64\n",
      " 20  nr                       78542 non-null  int64  \n",
      " 21  city_Budapest I.         78542 non-null  uint8  \n",
      " 22  city_Budapest II.        78542 non-null  uint8  \n",
      " 23  city_Budapest III.       78542 non-null  uint8  \n",
      " 24  city_Budapest IV.        78542 non-null  uint8  \n",
      " 25  city_Budapest IX.        78542 non-null  uint8  \n",
      " 26  city_Budapest V.         78542 non-null  uint8  \n",
      " 27  city_Budapest VI.        78542 non-null  uint8  \n",
      " 28  city_Budapest VII.       78542 non-null  uint8  \n",
      " 29  city_Budapest VIII.      78542 non-null  uint8  \n",
      " 30  city_Budapest X.         78542 non-null  uint8  \n",
      " 31  city_Budapest XI.        78542 non-null  uint8  \n",
      " 32  city_Budapest XII.       78542 non-null  uint8  \n",
      " 33  city_Budapest XIII.      78542 non-null  uint8  \n",
      " 34  city_Budapest XIV.       78542 non-null  uint8  \n",
      " 35  city_Budapest XIX.       78542 non-null  uint8  \n",
      " 36  city_Budapest XV.        78542 non-null  uint8  \n",
      " 37  city_Budapest XVI.       78542 non-null  uint8  \n",
      " 38  city_Budapest XVII.      78542 non-null  uint8  \n",
      " 39  city_Budapest XVIII.     78542 non-null  uint8  \n",
      " 40  city_Budapest XX.        78542 non-null  uint8  \n",
      " 41  city_Budapest XXI.       78542 non-null  uint8  \n",
      " 42  city_Budapest XXII.      78542 non-null  uint8  \n",
      " 43  city_Budapest XXIII.     78542 non-null  uint8  \n",
      "dtypes: float64(8), int64(3), object(10), uint8(23)\n",
      "memory usage: 14.3+ MB\n"
     ]
    }
   ],
   "source": [
    "data_train.info()"
   ]
  },
  {
   "cell_type": "code",
   "execution_count": 41,
   "metadata": {},
   "outputs": [],
   "source": [
    "from sklearn.model_selection import train_test_split\n",
    "from sklearn.linear_model import LinearRegression\n",
    "x_train ,x_test,y_train,y_test= train_test_split(data_train[features],data_target,random_state=42,test_size=.30)"
   ]
  },
  {
   "cell_type": "code",
   "execution_count": 42,
   "metadata": {},
   "outputs": [
    {
     "data": {
      "text/plain": [
       "((54979, 32), (54979,))"
      ]
     },
     "execution_count": 42,
     "metadata": {},
     "output_type": "execute_result"
    }
   ],
   "source": [
    "x_train.shape ,y_train.shape"
   ]
  },
  {
   "cell_type": "code",
   "execution_count": 43,
   "metadata": {},
   "outputs": [],
   "source": [
    "model=LinearRegression()"
   ]
  },
  {
   "cell_type": "code",
   "execution_count": 44,
   "metadata": {},
   "outputs": [
    {
     "data": {
      "text/plain": [
       "LinearRegression()"
      ]
     },
     "execution_count": 44,
     "metadata": {},
     "output_type": "execute_result"
    }
   ],
   "source": [
    "model"
   ]
  },
  {
   "cell_type": "code",
   "execution_count": 45,
   "metadata": {},
   "outputs": [
    {
     "data": {
      "text/plain": [
       "LinearRegression()"
      ]
     },
     "execution_count": 45,
     "metadata": {},
     "output_type": "execute_result"
    }
   ],
   "source": [
    "model.fit(x_train ,y_train)"
   ]
  },
  {
   "cell_type": "code",
   "execution_count": 46,
   "metadata": {},
   "outputs": [
    {
     "data": {
      "text/plain": [
       "county                                  Budapest\n",
       "postcode                                  1016.0\n",
       "property_type                               flat\n",
       "property_subtype           brick flat (for sale)\n",
       "property_condition_type                     good\n",
       "property_floor                                 1\n",
       "building_floor_count                           0\n",
       "view_type                            street view\n",
       "orientation                                  NaN\n",
       "garden_access                                  0\n",
       "heating_type                    tile stove (gas)\n",
       "elevator_type                                  1\n",
       "room_cnt                                     2.0\n",
       "small_room_cnt                               1.0\n",
       "created_at                            2015-02-09\n",
       "property_area                               65.0\n",
       "balcony_area                                 0.0\n",
       "price_created_at                            23.5\n",
       "ad_view_cnt                                605.0\n",
       "active_days                                119.0\n",
       "nr                                             4\n",
       "city_Budapest I.                               0\n",
       "city_Budapest II.                              0\n",
       "city_Budapest III.                             0\n",
       "city_Budapest IV.                              0\n",
       "city_Budapest IX.                              0\n",
       "city_Budapest V.                               0\n",
       "city_Budapest VI.                              0\n",
       "city_Budapest VII.                             0\n",
       "city_Budapest VIII.                            0\n",
       "city_Budapest X.                               0\n",
       "city_Budapest XI.                              0\n",
       "city_Budapest XII.                             1\n",
       "city_Budapest XIII.                            0\n",
       "city_Budapest XIV.                             0\n",
       "city_Budapest XIX.                             0\n",
       "city_Budapest XV.                              0\n",
       "city_Budapest XVI.                             0\n",
       "city_Budapest XVII.                            0\n",
       "city_Budapest XVIII.                           0\n",
       "city_Budapest XX.                              0\n",
       "city_Budapest XXI.                             0\n",
       "city_Budapest XXII.                            0\n",
       "city_Budapest XXIII.                           0\n",
       "Name: 0, dtype: object"
      ]
     },
     "execution_count": 46,
     "metadata": {},
     "output_type": "execute_result"
    }
   ],
   "source": [
    "oneflat=data_train.iloc[0]\n",
    "oneflat"
   ]
  },
  {
   "cell_type": "code",
   "execution_count": 47,
   "metadata": {},
   "outputs": [
    {
     "name": "stderr",
     "output_type": "stream",
     "text": [
      "C:\\Users\\Lenovo\\anaconda3\\lib\\site-packages\\sklearn\\utils\\validation.py:63: FutureWarning: Arrays of bytes/strings is being converted to decimal numbers if dtype='numeric'. This behavior is deprecated in 0.24 and will be removed in 1.1 (renaming of 0.26). Please convert your data to numeric values explicitly instead.\n",
      "  return f(*args, **kwargs)\n"
     ]
    },
    {
     "data": {
      "text/plain": [
       "array([30.30033568])"
      ]
     },
     "execution_count": 47,
     "metadata": {},
     "output_type": "execute_result"
    }
   ],
   "source": [
    "model.predict(  [  oneflat[features]  ]  )"
   ]
  },
  {
   "cell_type": "code",
   "execution_count": 48,
   "metadata": {},
   "outputs": [
    {
     "data": {
      "text/plain": [
       "array([22.43696639, 17.3491843 , 24.67329826, ..., 25.81136162,\n",
       "       14.28288971, 18.39682698])"
      ]
     },
     "execution_count": 48,
     "metadata": {},
     "output_type": "execute_result"
    }
   ],
   "source": [
    "predictions=model.predict(x_test)\n",
    "predictions"
   ]
  },
  {
   "cell_type": "code",
   "execution_count": 49,
   "metadata": {},
   "outputs": [
    {
     "data": {
      "text/plain": [
       "23563"
      ]
     },
     "execution_count": 49,
     "metadata": {},
     "output_type": "execute_result"
    }
   ],
   "source": [
    "len(predictions)"
   ]
  },
  {
   "cell_type": "code",
   "execution_count": 50,
   "metadata": {},
   "outputs": [
    {
     "data": {
      "text/plain": [
       "23563"
      ]
     },
     "execution_count": 50,
     "metadata": {},
     "output_type": "execute_result"
    }
   ],
   "source": [
    "len(y_test)"
   ]
  },
  {
   "cell_type": "code",
   "execution_count": 51,
   "metadata": {},
   "outputs": [],
   "source": [
    "test=y_test.to_frame(name=\"real\")"
   ]
  },
  {
   "cell_type": "code",
   "execution_count": 52,
   "metadata": {},
   "outputs": [],
   "source": [
    "prediction=pd.DataFrame(predictions,columns=[\"predictions\"])"
   ]
  },
  {
   "cell_type": "code",
   "execution_count": 53,
   "metadata": {},
   "outputs": [
    {
     "data": {
      "text/html": [
       "<div>\n",
       "<style scoped>\n",
       "    .dataframe tbody tr th:only-of-type {\n",
       "        vertical-align: middle;\n",
       "    }\n",
       "\n",
       "    .dataframe tbody tr th {\n",
       "        vertical-align: top;\n",
       "    }\n",
       "\n",
       "    .dataframe thead th {\n",
       "        text-align: right;\n",
       "    }\n",
       "</style>\n",
       "<table border=\"1\" class=\"dataframe\">\n",
       "  <thead>\n",
       "    <tr style=\"text-align: right;\">\n",
       "      <th></th>\n",
       "      <th>predictions</th>\n",
       "    </tr>\n",
       "  </thead>\n",
       "  <tbody>\n",
       "    <tr>\n",
       "      <th>0</th>\n",
       "      <td>22.436966</td>\n",
       "    </tr>\n",
       "    <tr>\n",
       "      <th>1</th>\n",
       "      <td>17.349184</td>\n",
       "    </tr>\n",
       "    <tr>\n",
       "      <th>2</th>\n",
       "      <td>24.673298</td>\n",
       "    </tr>\n",
       "    <tr>\n",
       "      <th>3</th>\n",
       "      <td>15.088496</td>\n",
       "    </tr>\n",
       "    <tr>\n",
       "      <th>4</th>\n",
       "      <td>11.877200</td>\n",
       "    </tr>\n",
       "    <tr>\n",
       "      <th>...</th>\n",
       "      <td>...</td>\n",
       "    </tr>\n",
       "    <tr>\n",
       "      <th>23558</th>\n",
       "      <td>28.672706</td>\n",
       "    </tr>\n",
       "    <tr>\n",
       "      <th>23559</th>\n",
       "      <td>16.161051</td>\n",
       "    </tr>\n",
       "    <tr>\n",
       "      <th>23560</th>\n",
       "      <td>25.811362</td>\n",
       "    </tr>\n",
       "    <tr>\n",
       "      <th>23561</th>\n",
       "      <td>14.282890</td>\n",
       "    </tr>\n",
       "    <tr>\n",
       "      <th>23562</th>\n",
       "      <td>18.396827</td>\n",
       "    </tr>\n",
       "  </tbody>\n",
       "</table>\n",
       "<p>23563 rows × 1 columns</p>\n",
       "</div>"
      ],
      "text/plain": [
       "       predictions\n",
       "0        22.436966\n",
       "1        17.349184\n",
       "2        24.673298\n",
       "3        15.088496\n",
       "4        11.877200\n",
       "...            ...\n",
       "23558    28.672706\n",
       "23559    16.161051\n",
       "23560    25.811362\n",
       "23561    14.282890\n",
       "23562    18.396827\n",
       "\n",
       "[23563 rows x 1 columns]"
      ]
     },
     "execution_count": 53,
     "metadata": {},
     "output_type": "execute_result"
    }
   ],
   "source": [
    "prediction"
   ]
  },
  {
   "cell_type": "code",
   "execution_count": 54,
   "metadata": {},
   "outputs": [],
   "source": [
    "test[\"pred\"]=predictions"
   ]
  },
  {
   "cell_type": "code",
   "execution_count": 55,
   "metadata": {},
   "outputs": [
    {
     "data": {
      "text/html": [
       "<div>\n",
       "<style scoped>\n",
       "    .dataframe tbody tr th:only-of-type {\n",
       "        vertical-align: middle;\n",
       "    }\n",
       "\n",
       "    .dataframe tbody tr th {\n",
       "        vertical-align: top;\n",
       "    }\n",
       "\n",
       "    .dataframe thead th {\n",
       "        text-align: right;\n",
       "    }\n",
       "</style>\n",
       "<table border=\"1\" class=\"dataframe\">\n",
       "  <thead>\n",
       "    <tr style=\"text-align: right;\">\n",
       "      <th></th>\n",
       "      <th>real</th>\n",
       "      <th>pred</th>\n",
       "    </tr>\n",
       "  </thead>\n",
       "  <tbody>\n",
       "    <tr>\n",
       "      <th>45195</th>\n",
       "      <td>22.9</td>\n",
       "      <td>22.436966</td>\n",
       "    </tr>\n",
       "    <tr>\n",
       "      <th>54784</th>\n",
       "      <td>12.9</td>\n",
       "      <td>17.349184</td>\n",
       "    </tr>\n",
       "    <tr>\n",
       "      <th>73952</th>\n",
       "      <td>27.0</td>\n",
       "      <td>24.673298</td>\n",
       "    </tr>\n",
       "    <tr>\n",
       "      <th>24326</th>\n",
       "      <td>13.5</td>\n",
       "      <td>15.088496</td>\n",
       "    </tr>\n",
       "    <tr>\n",
       "      <th>61688</th>\n",
       "      <td>14.0</td>\n",
       "      <td>11.877200</td>\n",
       "    </tr>\n",
       "    <tr>\n",
       "      <th>...</th>\n",
       "      <td>...</td>\n",
       "      <td>...</td>\n",
       "    </tr>\n",
       "    <tr>\n",
       "      <th>39011</th>\n",
       "      <td>30.0</td>\n",
       "      <td>28.672706</td>\n",
       "    </tr>\n",
       "    <tr>\n",
       "      <th>71061</th>\n",
       "      <td>18.5</td>\n",
       "      <td>16.161051</td>\n",
       "    </tr>\n",
       "    <tr>\n",
       "      <th>44627</th>\n",
       "      <td>36.0</td>\n",
       "      <td>25.811362</td>\n",
       "    </tr>\n",
       "    <tr>\n",
       "      <th>8128</th>\n",
       "      <td>16.0</td>\n",
       "      <td>14.282890</td>\n",
       "    </tr>\n",
       "    <tr>\n",
       "      <th>50916</th>\n",
       "      <td>14.9</td>\n",
       "      <td>18.396827</td>\n",
       "    </tr>\n",
       "  </tbody>\n",
       "</table>\n",
       "<p>23563 rows × 2 columns</p>\n",
       "</div>"
      ],
      "text/plain": [
       "       real       pred\n",
       "45195  22.9  22.436966\n",
       "54784  12.9  17.349184\n",
       "73952  27.0  24.673298\n",
       "24326  13.5  15.088496\n",
       "61688  14.0  11.877200\n",
       "...     ...        ...\n",
       "39011  30.0  28.672706\n",
       "71061  18.5  16.161051\n",
       "44627  36.0  25.811362\n",
       "8128   16.0  14.282890\n",
       "50916  14.9  18.396827\n",
       "\n",
       "[23563 rows x 2 columns]"
      ]
     },
     "execution_count": 55,
     "metadata": {},
     "output_type": "execute_result"
    }
   ],
   "source": [
    "test"
   ]
  },
  {
   "cell_type": "code",
   "execution_count": 56,
   "metadata": {},
   "outputs": [
    {
     "data": {
      "text/plain": [
       "5.883699687600619"
      ]
     },
     "execution_count": 56,
     "metadata": {},
     "output_type": "execute_result"
    }
   ],
   "source": [
    "from sklearn.metrics import mean_squared_error\n",
    "mean_squared_error(test['real'], test['pred']) ** 0.5"
   ]
  },
  {
   "cell_type": "code",
   "execution_count": 57,
   "metadata": {},
   "outputs": [
    {
     "data": {
      "text/plain": [
       "real    96.000000\n",
       "pred    63.847967\n",
       "dtype: float64"
      ]
     },
     "execution_count": 57,
     "metadata": {},
     "output_type": "execute_result"
    }
   ],
   "source": [
    "test.max()"
   ]
  },
  {
   "cell_type": "code",
   "execution_count": 58,
   "metadata": {},
   "outputs": [
    {
     "data": {
      "text/plain": [
       "[<matplotlib.lines.Line2D at 0x1fa442f3370>]"
      ]
     },
     "execution_count": 58,
     "metadata": {},
     "output_type": "execute_result"
    },
    {
     "data": {
      "image/png": "[encoded data removed]",
      "text/plain": [
       "<Figure size 432x432 with 1 Axes>"
      ]
     },
     "metadata": {
      "needs_background": "light"
     },
     "output_type": "display_data"
    }
   ],
   "source": [
    "test.plot.scatter(x='real', y='pred', figsize=(6,6))\n",
    "plt.plot([0,test.max().min()], [0, test.max().min()], 'r--')"
   ]
  },
  {
   "cell_type": "code",
   "execution_count": null,
   "metadata": {},
   "outputs": [],
   "source": []
  }
 ],
 "metadata": {
  "kernelspec": {
   "display_name": "Python 3",
   "language": "python",
   "name": "python3"
  },
  "language_info": {
   "codemirror_mode": {
    "name": "ipython",
    "version": 3
   },
   "file_extension": ".py",
   "mimetype": "text/x-python",
   "name": "python",
   "nbconvert_exporter": "python",
   "pygments_lexer": "ipython3",
   "version": "3.8.5"
  }
 },
 "nbformat": 4,
 "nbformat_minor": 4
}
